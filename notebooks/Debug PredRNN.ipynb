{
 "cells": [
  {
   "cell_type": "code",
   "execution_count": 1,
   "metadata": {},
   "outputs": [],
   "source": [
    "class argsclass():\n",
    "    pass\n",
    "args = argsclass()\n",
    "\n",
    "args.experiment_name='resnet_batch_16_samples_10_in_5_out_20_normal_lr_0.001' \n",
    "args.normalizer_type='normal'\n",
    "args.test_starting_point=15\n",
    "args.show_plots=True\n",
    "args.debug=True\n",
    "args.num_workers = 4\n",
    "args.num_output_frames = 15\n",
    "args.batch_size = 16\n",
    "args.dataset='original'\n",
    "args.model_type='resnet'\n",
    "args.num_input_frames=5\n",
    "args.num_epochs=100"
   ]
  },
  {
   "cell_type": "code",
   "execution_count": 2,
   "metadata": {},
   "outputs": [
    {
     "name": "stderr",
     "output_type": "stream",
     "text": [
      "Experiment resnet_batch_16_samples_10_in_5_out_20_normal_lr_0.001\n",
      "Creating directories\n",
      "use CPU\n",
      "Loading datasets\n",
      "Loading model /Users/stathis/Code/thesis/wave_propagation/experiments_results/resnet_batch_16_samples_10_in_5_out_20_normal_lr_0.001/models/model_best.pt\n"
     ]
    }
   ],
   "source": [
    "import sys\n",
    "sys.path.append('..')\n",
    "sys.path.append('../..')\n",
    "import logging\n",
    "import torch\n",
    "import matplotlib.pyplot as plt\n",
    "from utils.arg_extract import get_args\n",
    "from utils.experiment_evaluator import Evaluator, get_sample_predictions\n",
    "from utils.experiment import Experiment\n",
    "\n",
    "plt.ioff()\n",
    "logging.basicConfig(format= '%(message)s', level=logging.INFO)\n",
    "\n",
    "# args = get_args()\n",
    "\n",
    "experiment = Experiment(args)\n",
    "# experiment.createnew()\n",
    "experiment.load_from_disk(test=True)\n",
    "# evaluator = Evaluator(args.test_starting_point, experiment.normalizer_type)"
   ]
  },
  {
   "cell_type": "code",
   "execution_count": 3,
   "metadata": {},
   "outputs": [],
   "source": [
    "pdir = \"/Users/stathis/Code/thesis/wave_propagation/experiments_results/AR_LSTM_batch16_samples10_epoch_25_out20_none/predictions_debug\"\n",
    "# model = experiment.model\n",
    "dataloader = experiment.dataloaders['train']\n",
    "device = experiment.device\n",
    "figures_dir = pdir\n",
    "normalizer = experiment.normalizer\n",
    "debug = args.debug\n",
    "\n",
    "batch_images = next(iter(dataloader))"
   ]
  },
  {
   "cell_type": "code",
   "execution_count": 4,
   "metadata": {},
   "outputs": [],
   "source": [
    "import seaborn as sns\n",
    "from utils.plotting import imshow\n",
    "from utils.experiment_evaluator import get_test_predictions_pairs, save_sequence_plots\n",
    "\n",
    "def show_prediction_plot(title, predicted, target, normalize):\n",
    "    # -1 means print last frame\n",
    "    # predicted = predicted[image_to_plot, -1:, :, :].cpu()\n",
    "    # target = target[image_to_plot, -1:, :, :].cpu()\n",
    "    fig = plt.figure(figsize=(6, 6))\n",
    "    sns.set(style=\"white\")  # darkgrid, whitegrid, dark, white, and ticks\n",
    "    sns.set_context(\"talk\")\n",
    "    pred = fig.add_subplot(1, 2, 1)\n",
    "    imshow(predicted, title=\"Predicted\", smoothen=True, obj=pred, normalize=normalize)\n",
    "    tar = fig.add_subplot(1, 2, 2)\n",
    "    imshow(target, title=\"Target\", obj=tar, normalize=normalize)\n",
    "    fig.suptitle(title)\n",
    "    plt.show()\n",
    "    plt.close()"
   ]
  },
  {
   "cell_type": "code",
   "execution_count": 5,
   "metadata": {},
   "outputs": [],
   "source": [
    "sys.path.append('/home/s1680171/wave_propagation/nanton')"
   ]
  },
  {
   "cell_type": "code",
   "execution_count": 6,
   "metadata": {},
   "outputs": [
    {
     "data": {
      "text/plain": [
       "torch.Size([1, 5, 128, 128])"
      ]
     },
     "execution_count": 6,
     "metadata": {},
     "output_type": "execute_result"
    }
   ],
   "source": [
    "inp = batch_images[:1,:5,:,:]\n",
    "inp.size()"
   ]
  },
  {
   "cell_type": "code",
   "execution_count": null,
   "metadata": {},
   "outputs": [],
   "source": []
  },
  {
   "cell_type": "code",
   "execution_count": 10,
   "metadata": {},
   "outputs": [],
   "source": [
    "from models.PredRNNPP import PredRNNPP"
   ]
  },
  {
   "cell_type": "code",
   "execution_count": 11,
   "metadata": {},
   "outputs": [],
   "source": [
    "model = PredRNNPP(5, 3, 2, 'cpu', False)"
   ]
  },
  {
   "cell_type": "code",
   "execution_count": 12,
   "metadata": {},
   "outputs": [
    {
     "data": {
      "text/plain": [
       "torch.Size([2, 3, 128, 128])"
      ]
     },
     "execution_count": 12,
     "metadata": {},
     "output_type": "execute_result"
    }
   ],
   "source": [
    "model(inp).size()"
   ]
  },
  {
   "cell_type": "code",
   "execution_count": 13,
   "metadata": {},
   "outputs": [],
   "source": [
    "from models.CausalLSTM import CausalLSTMCell"
   ]
  },
  {
   "cell_type": "code",
   "execution_count": 14,
   "metadata": {},
   "outputs": [
    {
     "data": {
      "text/plain": [
       "CausalLSTMCell(\n",
       "  (conv_h): Conv2d(64, 256, kernel_size=(3, 3), stride=(1, 1), padding=(1, 1))\n",
       "  (conv_c): Conv2d(64, 192, kernel_size=(3, 3), stride=(1, 1), padding=(1, 1))\n",
       "  (conv_m): Conv2d(7, 192, kernel_size=(3, 3), stride=(1, 1), padding=(1, 1))\n",
       "  (conv_x): Conv2d(5, 448, kernel_size=(3, 3), stride=(1, 1), padding=(1, 1))\n",
       "  (conv_o): Conv2d(64, 64, kernel_size=(3, 3), stride=(1, 1), padding=(1, 1))\n",
       "  (conv_1_1): Conv2d(128, 64, kernel_size=(1, 1), stride=(1, 1))\n",
       ")"
      ]
     },
     "execution_count": 14,
     "metadata": {},
     "output_type": "execute_result"
    }
   ],
   "source": [
    "CausalLSTMCell(5, 3, 7, 64, [2, 8, 31, 31], 'cpu')"
   ]
  },
  {
   "cell_type": "code",
   "execution_count": null,
   "metadata": {},
   "outputs": [],
   "source": []
  }
 ],
 "metadata": {
  "kernelspec": {
   "display_name": "Python 3",
   "language": "python",
   "name": "python3"
  },
  "language_info": {
   "codemirror_mode": {
    "name": "ipython",
    "version": 3
   },
   "file_extension": ".py",
   "mimetype": "text/x-python",
   "name": "python",
   "nbconvert_exporter": "python",
   "pygments_lexer": "ipython3",
   "version": "3.6.8"
  }
 },
 "nbformat": 4,
 "nbformat_minor": 2
}
