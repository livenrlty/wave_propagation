{
 "cells": [
  {
   "cell_type": "code",
   "execution_count": 57,
   "metadata": {},
   "outputs": [],
   "source": [
    "from torchvision import transforms, utils\n",
    "import torch\n",
    "import torch.nn as nn\n",
    "import sys\n",
    "sys.path.append('..')\n",
    "sys.path.append('../..')\n",
    "import models.ResNet as models"
   ]
  },
  {
   "cell_type": "code",
   "execution_count": 73,
   "metadata": {},
   "outputs": [],
   "source": [
    "num_input_frames = 5\n",
    "num_output_frames =2 \n",
    "num_total_output_frames = 20\n",
    "model = models.resnet12(num_input_frames, num_output_frames)\n",
    "input_frames = torch.Tensor(1, 5, 128, 128)\n",
    "# model"
   ]
  },
  {
   "cell_type": "code",
   "execution_count": 67,
   "metadata": {},
   "outputs": [
    {
     "data": {
      "text/plain": [
       "torch.Size([1, 2, 128, 128])"
      ]
     },
     "execution_count": 67,
     "metadata": {},
     "output_type": "execute_result"
    }
   ],
   "source": [
    "model(t).size()"
   ]
  },
  {
   "cell_type": "code",
   "execution_count": 76,
   "metadata": {},
   "outputs": [],
   "source": [
    "# model.get_future_frames(input_frames, num_total_output_frames ).size()"
   ]
  },
  {
   "cell_type": "code",
   "execution_count": 94,
   "metadata": {
    "scrolled": false
   },
   "outputs": [
    {
     "name": "stdout",
     "output_type": "stream",
     "text": [
      "torch.Size([1, 4, 128, 128])\n",
      "torch.Size([1, 6, 128, 128])\n",
      "torch.Size([1, 8, 128, 128])\n",
      "torch.Size([1, 10, 128, 128])\n",
      "torch.Size([1, 12, 128, 128])\n",
      "torch.Size([1, 14, 128, 128])\n",
      "torch.Size([1, 16, 128, 128])\n",
      "torch.Size([1, 18, 128, 128])\n",
      "torch.Size([1, 20, 128, 128])\n"
     ]
    }
   ],
   "source": [
    "output_frames = model(input_frames)\n",
    "num_input_frames = model.get_num_input_frames()\n",
    "\n",
    "while output_frames.size(1) < num_total_output_frames:\n",
    "    if output_frames.size(1) < num_input_frames:\n",
    "        keep_from_input = num_input_frames - output_frames.size(1)\n",
    "        input_frames = torch.cat((input_frames[:, -keep_from_input:, :, :], output_frames), dim=1)\n",
    "    else:\n",
    "        input_frames = output_frames[:, -num_input_frames:, :, :].clone()\n",
    "    output_frames = torch.cat((output_frames, model(input_frames)), dim=1)"
   ]
  },
  {
   "cell_type": "code",
   "execution_count": 90,
   "metadata": {},
   "outputs": [
    {
     "data": {
      "text/plain": [
       "torch.Size([1, 5, 128, 128])"
      ]
     },
     "execution_count": 90,
     "metadata": {},
     "output_type": "execute_result"
    }
   ],
   "source": [
    "input_frames.size()"
   ]
  },
  {
   "cell_type": "code",
   "execution_count": 91,
   "metadata": {},
   "outputs": [
    {
     "data": {
      "text/plain": [
       "torch.Size([1, 1, 128, 128])"
      ]
     },
     "execution_count": 91,
     "metadata": {},
     "output_type": "execute_result"
    }
   ],
   "source": [
    "input_frames[:, -keep_from_input:, :, :].size()"
   ]
  },
  {
   "cell_type": "code",
   "execution_count": 92,
   "metadata": {},
   "outputs": [
    {
     "data": {
      "text/plain": [
       "torch.Size([1, 20, 128, 128])"
      ]
     },
     "execution_count": 92,
     "metadata": {},
     "output_type": "execute_result"
    }
   ],
   "source": [
    "output_frames.size()"
   ]
  },
  {
   "cell_type": "code",
   "execution_count": null,
   "metadata": {},
   "outputs": [],
   "source": []
  }
 ],
 "metadata": {
  "kernelspec": {
   "display_name": "Python 3",
   "language": "python",
   "name": "python3"
  },
  "language_info": {
   "codemirror_mode": {
    "name": "ipython",
    "version": 3
   },
   "file_extension": ".py",
   "mimetype": "text/x-python",
   "name": "python",
   "nbconvert_exporter": "python",
   "pygments_lexer": "ipython3",
   "version": "3.6.8"
  }
 },
 "nbformat": 4,
 "nbformat_minor": 2
}
