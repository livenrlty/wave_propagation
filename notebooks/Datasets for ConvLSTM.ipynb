{
 "cells": [
  {
   "cell_type": "code",
   "execution_count": 41,
   "metadata": {},
   "outputs": [],
   "source": [
    "from torch.utils.data import DataLoader\n",
    "import os\n",
    "import sys\n",
    "sys.path.append('..')\n",
    "sys.path.append('../..')\n",
    "from utils.Network import Network\n",
    "from utils.Analyser import Analyser\n",
    "from utils.io import save_network, load_network, save, load, create_results_folder\n",
    "from utils.WaveDataset import create_datasets, transformVar, normalize\n",
    "from utils.arg_extract import get_args\n",
    "from utils.Scorekeeper import Scorekeeper\n",
    "\n",
    "import numpy as np\n",
    "import torch\n",
    "import torch.nn as nn\n",
    "from torch.utils.data import DataLoader\n",
    "from collections import OrderedDict\n",
    "from utils.arg_extract import get_args\n",
    "from utils.ExperimentBuilder import ExperimentBuilder\n",
    "from utils.Model_ConvLSTM import EncoderForecaster, Encoder, Forecaster, ConvLSTMCell"
   ]
  },
  {
   "cell_type": "code",
   "execution_count": 42,
   "metadata": {},
   "outputs": [],
   "source": [
    "num_workers=1"
   ]
  },
  {
   "cell_type": "code",
   "execution_count": 43,
   "metadata": {},
   "outputs": [],
   "source": [
    "batch_size=16"
   ]
  },
  {
   "cell_type": "code",
   "execution_count": 44,
   "metadata": {},
   "outputs": [],
   "source": [
    "base_folder = '/Users/stathis/Code/thesis/wave_propagation'\n",
    "\n",
    "test_dataset, val_dataset, train_dataset = create_datasets(os.path.join(base_folder,\"Video_Data/\"), \n",
    "                                                           transformVar, \n",
    "                                                            test_fraction=0.15, validation_fraction=0.15)\n",
    "train_dataloader = DataLoader(train_dataset, batch_size=batch_size, shuffle=True, num_workers=num_workers)\n",
    "val_dataloader = DataLoader(val_dataset, batch_size=batch_size, shuffle=True, num_workers=num_workers)\n",
    "test_dataloader = DataLoader(test_dataset, batch_size=batch_size, shuffle=True, num_workers=num_workers)"
   ]
  },
  {
   "cell_type": "code",
   "execution_count": 45,
   "metadata": {},
   "outputs": [
    {
     "name": "stdout",
     "output_type": "stream",
     "text": [
      "torch.Size([16, 1, 128, 128])\n",
      "torch.Size([16, 1, 64, 64])\n",
      "torch.Size([16, 1, 32, 32])\n",
      "torch.Size([16, 1, 16, 16])\n",
      "torch.Size([16, 1, 32, 32])\n",
      "torch.Size([16, 1, 64, 64])\n",
      "torch.Size([16, 1, 128, 128])\n"
     ]
    }
   ],
   "source": [
    "inputs = torch.rand(16,1,128,128)\n",
    "# mod421 = nn.Conv2d(1,1,4,2,1)\n",
    "mod321 = nn.Conv2d(1,1,3,2,1)\n",
    "up321 = nn.ConvTranspose2d(1,1,3,2,1)\n",
    "up421 = nn.ConvTranspose2d(1,1,4,2,1)\n",
    "print(inputs.shape)\n",
    "out = mod321(inputs)\n",
    "print(out.shape)\n",
    "out = mod321(out)\n",
    "print(out.shape)\n",
    "out = mod321(out)\n",
    "print(out.shape)\n",
    "out = up421(out)\n",
    "print(out.shape)\n",
    "out = up421(out)\n",
    "print(out.shape)\n",
    "out = up421(out)\n",
    "print(out.shape)"
   ]
  },
  {
   "cell_type": "code",
   "execution_count": 46,
   "metadata": {},
   "outputs": [],
   "source": [
    "batch_size = 16\n",
    "device='cpu'\n",
    "seq_input=5\n",
    "seq_output=20\n",
    "seq_length=25\n",
    "\n",
    "encoder_architecture = [\n",
    "    [ #in_channels, out_channels, kernel_size, stride, padding\n",
    "        OrderedDict({'conv1_leaky_1': [1, 8, 3, 2, 1]}),\n",
    "        OrderedDict({'conv2_leaky_1': [64, 192, 3, 2, 1]}),\n",
    "        OrderedDict({'conv3_leaky_1': [192, 192, 3, 2, 1]}),\n",
    "    ],\n",
    "\n",
    "    [\n",
    "        ConvLSTMCell(input_channel=8, num_filter=64, b_h_w=(batch_size, 64, 64),\n",
    "                 kernel_size=3, stride=1, padding=1,device=device,seq_len=seq_input),\n",
    "        ConvLSTMCell(input_channel=192, num_filter=192, b_h_w=(batch_size, 32, 32),\n",
    "                 kernel_size=3, stride=1, padding=1,device=device,seq_len=seq_input),\n",
    "        ConvLSTMCell(input_channel=192, num_filter=192, b_h_w=(batch_size, 16, 16),\n",
    "                 kernel_size=3, stride=1, padding=1,device=device,seq_len=seq_input),\n",
    "    ]\n",
    "]\n",
    "forecaster_architecture = [\n",
    "    [\n",
    "        OrderedDict({'deconv1_leaky_1': [192, 192, 4, 2, 1]}),\n",
    "        OrderedDict({'deconv2_leaky_1': [192, 64, 4, 2, 1]}),\n",
    "        OrderedDict({\n",
    "            'deconv3_leaky_1': [64, 8, 4, 2, 1],\n",
    "            'conv3_leaky_2': [8, 8, 3, 1, 1],\n",
    "            'conv3_3': [8, 1, 1, 1, 0]\n",
    "        }),\n",
    "    ],\n",
    "\n",
    "    [\n",
    "        ConvLSTMCell(input_channel=192, num_filter=192, b_h_w=(batch_size, 16, 16),\n",
    "                 kernel_size=3, stride=1, padding=1,device=device,seq_len=seq_output),\n",
    "        ConvLSTMCell(input_channel=192, num_filter=192, b_h_w=(batch_size, 32, 32),\n",
    "                 kernel_size=3, stride=1, padding=1,device=device,seq_len=seq_output),\n",
    "        ConvLSTMCell(input_channel=64, num_filter=64, b_h_w=(batch_size, 64, 64),\n",
    "                 kernel_size=3, stride=1, padding=1,device=device,seq_len=seq_output),\n",
    "    ]\n",
    "]\n",
    "\n",
    "encoder = Encoder(encoder_architecture[0],encoder_architecture[1]).to(device)\n",
    "forecaster=Forecaster(forecaster_architecture[0],forecaster_architecture[1],\n",
    "                      seq_output).to(device)\n",
    "model = EncoderForecaster(encoder,forecaster)\n"
   ]
  },
  {
   "cell_type": "code",
   "execution_count": 47,
   "metadata": {},
   "outputs": [],
   "source": [
    "# inputs = torch.rand(5,16,1,128,128)"
   ]
  },
  {
   "cell_type": "code",
   "execution_count": 48,
   "metadata": {},
   "outputs": [],
   "source": [
    "batch = next(iter(train_dataloader))"
   ]
  },
  {
   "cell_type": "code",
   "execution_count": 49,
   "metadata": {},
   "outputs": [
    {
     "data": {
      "text/plain": [
       "torch.Size([16, 100, 128, 128])"
      ]
     },
     "execution_count": 49,
     "metadata": {},
     "output_type": "execute_result"
    }
   ],
   "source": [
    "batch.size()"
   ]
  },
  {
   "cell_type": "code",
   "execution_count": 50,
   "metadata": {},
   "outputs": [],
   "source": [
    "from utils.helper_functions import convert_SBCHW_to_BSHW,convert_BSHW_to_SBCHW"
   ]
  },
  {
   "cell_type": "code",
   "execution_count": 51,
   "metadata": {
    "scrolled": false
   },
   "outputs": [],
   "source": [
    "out = convert_BSHW_to_SBCHW(batch)"
   ]
  },
  {
   "cell_type": "code",
   "execution_count": 52,
   "metadata": {},
   "outputs": [
    {
     "name": "stdout",
     "output_type": "stream",
     "text": [
      "0\n",
      "1\n",
      "2\n",
      "3\n",
      "4\n",
      "0\n",
      "1\n",
      "2\n",
      "3\n",
      "4\n",
      "0\n",
      "1\n",
      "2\n",
      "3\n",
      "4\n",
      "0\n",
      "1\n",
      "2\n",
      "3\n",
      "4\n",
      "5\n",
      "6\n",
      "7\n",
      "8\n",
      "9\n",
      "10\n",
      "11\n",
      "12\n",
      "13\n",
      "14\n",
      "15\n",
      "16\n",
      "17\n",
      "18\n",
      "19\n",
      "0\n",
      "1\n",
      "2\n",
      "3\n",
      "4\n",
      "5\n",
      "6\n",
      "7\n",
      "8\n",
      "9\n",
      "10\n",
      "11\n",
      "12\n",
      "13\n",
      "14\n",
      "15\n",
      "16\n",
      "17\n",
      "18\n",
      "19\n",
      "0\n",
      "1\n",
      "2\n",
      "3\n",
      "4\n",
      "5\n",
      "6\n",
      "7\n",
      "8\n",
      "9\n",
      "10\n",
      "11\n",
      "12\n",
      "13\n",
      "14\n",
      "15\n",
      "16\n",
      "17\n",
      "18\n",
      "19\n"
     ]
    }
   ],
   "source": [
    "output = model(batch)"
   ]
  },
  {
   "cell_type": "code",
   "execution_count": 53,
   "metadata": {},
   "outputs": [
    {
     "data": {
      "text/plain": [
       "torch.Size([16, 20, 128, 128])"
      ]
     },
     "execution_count": 53,
     "metadata": {},
     "output_type": "execute_result"
    }
   ],
   "source": [
    "output.size()"
   ]
  },
  {
   "cell_type": "code",
   "execution_count": null,
   "metadata": {},
   "outputs": [],
   "source": []
  }
 ],
 "metadata": {
  "kernelspec": {
   "display_name": "Python 3",
   "language": "python",
   "name": "python3"
  }
 },
 "nbformat": 4,
 "nbformat_minor": 2
}
