{
 "cells": [
  {
   "cell_type": "code",
   "execution_count": 1,
   "metadata": {},
   "outputs": [],
   "source": [
    "import sys\n",
    "import torch\n",
    "sys.path.append('../')"
   ]
  },
  {
   "cell_type": "code",
   "execution_count": 121,
   "metadata": {},
   "outputs": [],
   "source": [
    "from models.ConvLSTM import get_convlstm_model\n",
    "from models.AR_LSTM import AR_LSTM\n",
    "from models.PredRNNPP import PredRNNPP\n",
    "from models.ResNet import resnet12\n",
    "from models.UNet import UNet"
   ]
  },
  {
   "cell_type": "code",
   "execution_count": 145,
   "metadata": {},
   "outputs": [],
   "source": [
    "num_input_frames=5\n",
    "num_output_frames=20\n",
    "batch_size=2\n",
    "device='cpu'\n",
    "reinsert_frequency=10\n",
    "model =  get_convlstm_model(num_input_frames, num_output_frames, batch_size, device, dilation=2, padding=2)"
   ]
  },
  {
   "cell_type": "code",
   "execution_count": 146,
   "metadata": {},
   "outputs": [
    {
     "data": {
      "text/plain": [
       "(128, 128)"
      ]
     },
     "execution_count": 146,
     "metadata": {},
     "output_type": "execute_result"
    }
   ],
   "source": [
    "inp=torch.ones(2,5,128,128).numpy()\n",
    "inp.shape[2:]"
   ]
  },
  {
   "cell_type": "code",
   "execution_count": 147,
   "metadata": {},
   "outputs": [],
   "source": [
    "import numpy as np\n",
    "# np.ones(inp.shape[2:]) * 0.5"
   ]
  },
  {
   "cell_type": "code",
   "execution_count": 148,
   "metadata": {},
   "outputs": [],
   "source": [
    "# torch.ones(inp.size()[2:]).size()"
   ]
  },
  {
   "cell_type": "code",
   "execution_count": 160,
   "metadata": {},
   "outputs": [],
   "source": [
    "model =  get_convlstm_model(3, 5, 16, device, dilation=1, padding=1)"
   ]
  },
  {
   "cell_type": "code",
   "execution_count": 163,
   "metadata": {
    "scrolled": false
   },
   "outputs": [
    {
     "data": {
      "text/plain": [
       "12319529"
      ]
     },
     "execution_count": 163,
     "metadata": {},
     "output_type": "execute_result"
    }
   ],
   "source": [
    "params = sum([np.prod(p.size()) for p in model.parameters() if p.requires_grad])\n",
    "params"
   ]
  },
  {
   "cell_type": "code",
   "execution_count": 159,
   "metadata": {},
   "outputs": [
    {
     "name": "stdout",
     "output_type": "stream",
     "text": [
      "lstm\t 88236521\n",
      "clstm\t 12319529\n",
      "predrnn\t 2469265\n",
      "resnet\t 759616\n",
      "unet\t 7785300\n"
     ]
    }
   ],
   "source": [
    "model = AR_LSTM(num_input_frames, num_output_frames, reinsert_frequency, device)\n",
    "params = sum([np.prod(p.size()) for p in model.parameters() if p.requires_grad])\n",
    "print('lstm\\t',params)\n",
    "model = get_convlstm_model(num_input_frames, num_output_frames, batch_size, device, dilation=1, padding=1)\n",
    "params = sum([np.prod(p.size()) for p in model.parameters() if p.requires_grad])\n",
    "print('clstm\\t',params)\n",
    "model = PredRNNPP(num_input_frames, num_output_frames, device, use_GHU=False)\n",
    "params = sum([np.prod(p.size()) for p in model.parameters() if p.requires_grad])\n",
    "print('predrnn\\t',params)\n",
    "model = resnet12(num_input_frames, num_output_frames, replace_stride_with_dilation=[1,2,4])\n",
    "params = sum([np.prod(p.size()) for p in model.parameters() if p.requires_grad])\n",
    "print('resnet\\t',params)\n",
    "model = UNet(num_input_frames, num_output_frames)\n",
    "params = sum([np.prod(p.size()) for p in model.parameters() if p.requires_grad])\n",
    "print('unet\\t',params)"
   ]
  },
  {
   "cell_type": "code",
   "execution_count": 130,
   "metadata": {},
   "outputs": [],
   "source": [
    "from models.ConvLSTM import get_convlstm_model\n",
    "modelCL = get_convlstm_model(5, 10, 2, 'cpu')\n",
    "# summary(modelCL, (10,128,128), batch_size=16, device='cpu')"
   ]
  },
  {
   "cell_type": "code",
   "execution_count": 131,
   "metadata": {},
   "outputs": [],
   "source": [
    "from torchsummary import summary"
   ]
  },
  {
   "cell_type": "code",
   "execution_count": 132,
   "metadata": {},
   "outputs": [],
   "source": [
    "class argsclass():\n",
    "    pass\n",
    "args = argsclass()"
   ]
  },
  {
   "cell_type": "code",
   "execution_count": 133,
   "metadata": {},
   "outputs": [
    {
     "name": "stderr",
     "output_type": "stream",
     "text": [
      "Creating new datasets\n"
     ]
    }
   ],
   "source": [
    "from utils.experiment import create_new_datasets, get_normalizer\n",
    "from torch.utils.data import DataLoader\n",
    "\n",
    "data_directory = '/Users/stathis/Code/thesis/wave_propagation/data/Training_Data/'\n",
    "normalizer = get_normalizer('normal')\n",
    "datasets = create_new_datasets(data_directory, normalizer, back_and_forth=True)"
   ]
  },
  {
   "cell_type": "code",
   "execution_count": 134,
   "metadata": {},
   "outputs": [],
   "source": [
    "dataloader = DataLoader(datasets['Training data'], batch_size=1, shuffle=True, num_workers=1)"
   ]
  },
  {
   "cell_type": "code",
   "execution_count": 135,
   "metadata": {
    "scrolled": false
   },
   "outputs": [
    {
     "data": {
      "image/png": "[encoded data removed]",
      "text/plain": [
       "<Figure size 432x288 with 1 Axes>"
      ]
     },
     "metadata": {
      "needs_background": "light"
     },
     "output_type": "display_data"
    }
   ],
   "source": [
    "import matplotlib.pyplot as ply\n",
    "\n",
    "batch = next(iter(dataloader))\n",
    "plt.imshow(batch[0,0,:,:], cmap='gray')\n",
    "plt.show()"
   ]
  },
  {
   "cell_type": "code",
   "execution_count": 136,
   "metadata": {
    "scrolled": false
   },
   "outputs": [
    {
     "name": "stderr",
     "output_type": "stream",
     "text": [
      "Experiment dummy\n",
      "use CPU\n"
     ]
    },
    {
     "name": "stdout",
     "output_type": "stream",
     "text": [
      "<__main__.argsclass object at 0x12511f0b8>\n"
     ]
    },
    {
     "ename": "TypeError",
     "evalue": "argument of type 'argsclass' is not iterable",
     "output_type": "error",
     "traceback": [
      "\u001b[0;31m---------------------------------------------------------------------------\u001b[0m",
      "\u001b[0;31mTypeError\u001b[0m                                 Traceback (most recent call last)",
      "\u001b[0;32m<ipython-input-136-e4c6a4527703>\u001b[0m in \u001b[0;36m<module>\u001b[0;34m\u001b[0m\n\u001b[1;32m     25\u001b[0m \u001b[0margs\u001b[0m\u001b[0;34m.\u001b[0m\u001b[0mbelated\u001b[0m\u001b[0;34m=\u001b[0m\u001b[0;32mFalse\u001b[0m\u001b[0;34m\u001b[0m\u001b[0;34m\u001b[0m\u001b[0m\n\u001b[1;32m     26\u001b[0m \u001b[0;34m\u001b[0m\u001b[0m\n\u001b[0;32m---> 27\u001b[0;31m \u001b[0mexperiment\u001b[0m \u001b[0;34m=\u001b[0m \u001b[0mExperiment\u001b[0m\u001b[0;34m(\u001b[0m\u001b[0margs\u001b[0m\u001b[0;34m)\u001b[0m\u001b[0;34m\u001b[0m\u001b[0;34m\u001b[0m\u001b[0m\n\u001b[0m\u001b[1;32m     28\u001b[0m \u001b[0mexperiment\u001b[0m\u001b[0;34m.\u001b[0m\u001b[0mcreate_new\u001b[0m\u001b[0;34m(\u001b[0m\u001b[0;34m)\u001b[0m\u001b[0;34m\u001b[0m\u001b[0;34m\u001b[0m\u001b[0m\n",
      "\u001b[0;32m~/Code/thesis/wave_propagation/utils/experiment.py\u001b[0m in \u001b[0;36m__init__\u001b[0;34m(self, args)\u001b[0m\n\u001b[1;32m    132\u001b[0m         \u001b[0mself\u001b[0m\u001b[0;34m.\u001b[0m\u001b[0msub_folders\u001b[0m \u001b[0;34m=\u001b[0m \u001b[0;34m[\u001b[0m\u001b[0;34m'pickles'\u001b[0m\u001b[0;34m,\u001b[0m \u001b[0;34m'models'\u001b[0m\u001b[0;34m,\u001b[0m \u001b[0;34m'predictions'\u001b[0m\u001b[0;34m,\u001b[0m \u001b[0;34m'charts'\u001b[0m\u001b[0;34m,\u001b[0m \u001b[0;34m'training'\u001b[0m\u001b[0;34m,\u001b[0m \u001b[0;34m'charts_belated'\u001b[0m\u001b[0;34m,\u001b[0m \u001b[0;34m'predictions_belated'\u001b[0m\u001b[0;34m]\u001b[0m\u001b[0;34m\u001b[0m\u001b[0;34m\u001b[0m\u001b[0m\n\u001b[1;32m    133\u001b[0m         \u001b[0mself\u001b[0m\u001b[0;34m.\u001b[0m\u001b[0mdevice\u001b[0m \u001b[0;34m=\u001b[0m \u001b[0mget_device\u001b[0m\u001b[0;34m(\u001b[0m\u001b[0;34m)\u001b[0m\u001b[0;34m\u001b[0m\u001b[0;34m\u001b[0m\u001b[0m\n\u001b[0;32m--> 134\u001b[0;31m         \u001b[0mself\u001b[0m\u001b[0;34m.\u001b[0m\u001b[0m_filesystem_structure\u001b[0m\u001b[0;34m(\u001b[0m\u001b[0;34m)\u001b[0m\u001b[0;34m\u001b[0m\u001b[0;34m\u001b[0m\u001b[0m\n\u001b[0m\u001b[1;32m    135\u001b[0m         \u001b[0mself\u001b[0m\u001b[0;34m.\u001b[0m\u001b[0m_mkdirs\u001b[0m\u001b[0;34m(\u001b[0m\u001b[0;34m)\u001b[0m\u001b[0;34m\u001b[0m\u001b[0;34m\u001b[0m\u001b[0m\n\u001b[1;32m    136\u001b[0m \u001b[0;34m\u001b[0m\u001b[0m\n",
      "\u001b[0;32m~/Code/thesis/wave_propagation/utils/experiment.py\u001b[0m in \u001b[0;36m_filesystem_structure\u001b[0;34m(self)\u001b[0m\n\u001b[1;32m    263\u001b[0m         \u001b[0mself\u001b[0m\u001b[0;34m.\u001b[0m\u001b[0mfiles\u001b[0m\u001b[0;34m[\u001b[0m\u001b[0;34m'logger'\u001b[0m\u001b[0;34m]\u001b[0m \u001b[0;34m=\u001b[0m \u001b[0mos\u001b[0m\u001b[0;34m.\u001b[0m\u001b[0mpath\u001b[0m\u001b[0;34m.\u001b[0m\u001b[0mjoin\u001b[0m\u001b[0;34m(\u001b[0m\u001b[0mself\u001b[0m\u001b[0;34m.\u001b[0m\u001b[0mdirs\u001b[0m\u001b[0;34m[\u001b[0m\u001b[0;34m'pickles'\u001b[0m\u001b[0;34m]\u001b[0m\u001b[0;34m,\u001b[0m \u001b[0;34m\"logger.json\"\u001b[0m\u001b[0;34m)\u001b[0m\u001b[0;34m\u001b[0m\u001b[0;34m\u001b[0m\u001b[0m\n\u001b[1;32m    264\u001b[0m         \u001b[0mprint\u001b[0m\u001b[0;34m(\u001b[0m\u001b[0mself\u001b[0m\u001b[0;34m.\u001b[0m\u001b[0margs\u001b[0m\u001b[0;34m)\u001b[0m\u001b[0;34m\u001b[0m\u001b[0;34m\u001b[0m\u001b[0m\n\u001b[0;32m--> 265\u001b[0;31m         \u001b[0;32mif\u001b[0m \u001b[0;34m'belated'\u001b[0m \u001b[0;32min\u001b[0m \u001b[0mself\u001b[0m\u001b[0;34m.\u001b[0m\u001b[0margs\u001b[0m \u001b[0;32mand\u001b[0m \u001b[0mself\u001b[0m\u001b[0;34m.\u001b[0m\u001b[0margs\u001b[0m\u001b[0;34m.\u001b[0m\u001b[0mbelated\u001b[0m\u001b[0;34m:\u001b[0m\u001b[0;34m\u001b[0m\u001b[0;34m\u001b[0m\u001b[0m\n\u001b[0m\u001b[1;32m    266\u001b[0m             \u001b[0mself\u001b[0m\u001b[0;34m.\u001b[0m\u001b[0mfiles\u001b[0m\u001b[0;34m[\u001b[0m\u001b[0;34m'evaluator'\u001b[0m\u001b[0;34m]\u001b[0m \u001b[0;34m=\u001b[0m \u001b[0mos\u001b[0m\u001b[0;34m.\u001b[0m\u001b[0mpath\u001b[0m\u001b[0;34m.\u001b[0m\u001b[0mjoin\u001b[0m\u001b[0;34m(\u001b[0m\u001b[0mself\u001b[0m\u001b[0;34m.\u001b[0m\u001b[0mdirs\u001b[0m\u001b[0;34m[\u001b[0m\u001b[0;34m'pickles'\u001b[0m\u001b[0;34m]\u001b[0m\u001b[0;34m,\u001b[0m \u001b[0;34m'belated_evaluator_%s_sp_%d.pickle'\u001b[0m\u001b[0;34m)\u001b[0m\u001b[0;34m\u001b[0m\u001b[0;34m\u001b[0m\u001b[0m\n\u001b[1;32m    267\u001b[0m             \u001b[0mself\u001b[0m\u001b[0;34m.\u001b[0m\u001b[0mdirs\u001b[0m\u001b[0;34m[\u001b[0m\u001b[0;34m'predictions'\u001b[0m\u001b[0;34m]\u001b[0m \u001b[0;34m=\u001b[0m \u001b[0mself\u001b[0m\u001b[0;34m.\u001b[0m\u001b[0mdirs\u001b[0m\u001b[0;34m[\u001b[0m\u001b[0;34m'predictions_belated'\u001b[0m\u001b[0;34m]\u001b[0m\u001b[0;34m\u001b[0m\u001b[0;34m\u001b[0m\u001b[0m\n",
      "\u001b[0;31mTypeError\u001b[0m: argument of type 'argsclass' is not iterable"
     ]
    }
   ],
   "source": [
    "import sys\n",
    "sys.path.append('..')\n",
    "sys.path.append('../..')\n",
    "import logging\n",
    "import torch\n",
    "import os\n",
    "import matplotlib.pyplot as plt\n",
    "from models.ConvLSTM import get_convlstm_model\n",
    "from utils.experiment import Experiment\n",
    "from utils.arg_extract import get_args\n",
    "plt.ioff()\n",
    "\n",
    "logging.basicConfig(format='%(message)s', level=logging.INFO)\n",
    "\n",
    "# args = get_args_test()\n",
    "args.experiment_name='dummy' \n",
    "args.num_workers = 1\n",
    "args.batch_size=1\n",
    "args.normalizer_type='normal'\n",
    "args.test_starting_point=15\n",
    "args.show_plots=True\n",
    "args.debug=True\n",
    "args.num_epochs = 100\n",
    "args.dataset='original'\n",
    "args.belated=False\n",
    "\n",
    "experiment = Experiment(args)\n",
    "experiment.create_new()"
   ]
  },
  {
   "cell_type": "code",
   "execution_count": 94,
   "metadata": {},
   "outputs": [
    {
     "ename": "NameError",
     "evalue": "name 'experiment' is not defined",
     "output_type": "error",
     "traceback": [
      "\u001b[0;31m---------------------------------------------------------------------------\u001b[0m",
      "\u001b[0;31mNameError\u001b[0m                                 Traceback (most recent call last)",
      "\u001b[0;32m<ipython-input-94-cdbd1dde97b8>\u001b[0m in \u001b[0;36m<module>\u001b[0;34m\u001b[0m\n\u001b[0;32m----> 1\u001b[0;31m \u001b[0mexperiment\u001b[0m\u001b[0;34m.\u001b[0m\u001b[0mmodel\u001b[0m\u001b[0;34m\u001b[0m\u001b[0;34m\u001b[0m\u001b[0m\n\u001b[0m",
      "\u001b[0;31mNameError\u001b[0m: name 'experiment' is not defined"
     ]
    }
   ],
   "source": []
  },
  {
   "cell_type": "code",
   "execution_count": 13,
   "metadata": {},
   "outputs": [
    {
     "ename": "NameError",
     "evalue": "name 'experiment' is not defined",
     "output_type": "error",
     "traceback": [
      "\u001b[0;31m---------------------------------------------------------------------------\u001b[0m",
      "\u001b[0;31mNameError\u001b[0m                                 Traceback (most recent call last)",
      "\u001b[0;32m<ipython-input-13-9dce4862ae4c>\u001b[0m in \u001b[0;36m<module>\u001b[0;34m\u001b[0m\n\u001b[0;32m----> 1\u001b[0;31m \u001b[0mbatch\u001b[0m \u001b[0;34m=\u001b[0m \u001b[0mnext\u001b[0m\u001b[0;34m(\u001b[0m\u001b[0miter\u001b[0m\u001b[0;34m(\u001b[0m\u001b[0mexperiment\u001b[0m\u001b[0;34m.\u001b[0m\u001b[0mdataloaders\u001b[0m\u001b[0;34m[\u001b[0m\u001b[0;34m'train'\u001b[0m\u001b[0;34m]\u001b[0m\u001b[0;34m)\u001b[0m\u001b[0;34m)\u001b[0m\u001b[0;34m\u001b[0m\u001b[0;34m\u001b[0m\u001b[0m\n\u001b[0m",
      "\u001b[0;31mNameError\u001b[0m: name 'experiment' is not defined"
     ]
    }
   ],
   "source": [
    "batch = next(iter(experiment.dataloaders['train']))sac"
   ]
  },
  {
   "cell_type": "code",
   "execution_count": 74,
   "metadata": {},
   "outputs": [
    {
     "data": {
      "text/plain": [
       "torch.Size([1, 100, 128, 128])"
      ]
     },
     "execution_count": 74,
     "metadata": {},
     "output_type": "execute_result"
    }
   ],
   "source": [
    "batch.size()"
   ]
  },
  {
   "cell_type": "code",
   "execution_count": 77,
   "metadata": {},
   "outputs": [],
   "source": [
    "from utils.helper_functions import convert_BSHW_to_SBCHW, convert_SBCHW_to_BSHW"
   ]
  },
  {
   "cell_type": "code",
   "execution_count": 80,
   "metadata": {},
   "outputs": [
    {
     "name": "stdout",
     "output_type": "stream",
     "text": [
      "new forward\n",
      "convlstm output:  torch.Size([1, 64, 64, 64])\n",
      "convlstm output:  torch.Size([1, 64, 64, 64])\n",
      "convlstm output:  torch.Size([1, 64, 64, 64])\n",
      "convlstm output:  torch.Size([1, 64, 64, 64])\n",
      "convlstm output:  torch.Size([1, 64, 64, 64])\n",
      "new forward\n",
      "convlstm output:  torch.Size([1, 192, 32, 32])\n",
      "convlstm output:  torch.Size([1, 192, 32, 32])\n",
      "convlstm output:  torch.Size([1, 192, 32, 32])\n",
      "convlstm output:  torch.Size([1, 192, 32, 32])\n",
      "convlstm output:  torch.Size([1, 192, 32, 32])\n",
      "new forward\n",
      "convlstm output:  torch.Size([1, 192, 16, 16])\n",
      "convlstm output:  torch.Size([1, 192, 16, 16])\n",
      "convlstm output:  torch.Size([1, 192, 16, 16])\n",
      "convlstm output:  torch.Size([1, 192, 16, 16])\n",
      "convlstm output:  torch.Size([1, 192, 16, 16])\n"
     ]
    },
    {
     "data": {
      "text/plain": [
       "torch.Size([1, 64, 64, 64])"
      ]
     },
     "execution_count": 80,
     "metadata": {},
     "output_type": "execute_result"
    }
   ],
   "source": [
    "experiment.model.encoder(convert_BSHW_to_SBCHW(batch))[0][0].size()"
   ]
  },
  {
   "cell_type": "code",
   "execution_count": 91,
   "metadata": {},
   "outputs": [
    {
     "name": "stdout",
     "output_type": "stream",
     "text": [
      "new forward\n",
      "convlstm output:  torch.Size([1, 64, 64, 64])\n",
      "convlstm output:  torch.Size([1, 64, 64, 64])\n",
      "convlstm output:  torch.Size([1, 64, 64, 64])\n",
      "convlstm output:  torch.Size([1, 64, 64, 64])\n",
      "convlstm output:  torch.Size([1, 64, 64, 64])\n",
      "new forward\n",
      "convlstm output:  torch.Size([1, 192, 32, 32])\n",
      "convlstm output:  torch.Size([1, 192, 32, 32])\n",
      "convlstm output:  torch.Size([1, 192, 32, 32])\n",
      "convlstm output:  torch.Size([1, 192, 32, 32])\n",
      "convlstm output:  torch.Size([1, 192, 32, 32])\n",
      "new forward\n",
      "convlstm output:  torch.Size([1, 192, 16, 16])\n",
      "convlstm output:  torch.Size([1, 192, 16, 16])\n",
      "convlstm output:  torch.Size([1, 192, 16, 16])\n",
      "convlstm output:  torch.Size([1, 192, 16, 16])\n",
      "convlstm output:  torch.Size([1, 192, 16, 16])\n",
      "new forward\n",
      "convlstm output:  torch.Size([1, 192, 16, 16])\n",
      "convlstm output:  torch.Size([1, 192, 16, 16])\n",
      "convlstm output:  torch.Size([1, 192, 16, 16])\n",
      "convlstm output:  torch.Size([1, 192, 16, 16])\n",
      "convlstm output:  torch.Size([1, 192, 16, 16])\n",
      "convlstm output:  torch.Size([1, 192, 16, 16])\n",
      "convlstm output:  torch.Size([1, 192, 16, 16])\n",
      "convlstm output:  torch.Size([1, 192, 16, 16])\n",
      "convlstm output:  torch.Size([1, 192, 16, 16])\n",
      "convlstm output:  torch.Size([1, 192, 16, 16])\n",
      "new forward\n",
      "convlstm output:  torch.Size([1, 192, 32, 32])\n",
      "convlstm output:  torch.Size([1, 192, 32, 32])\n",
      "convlstm output:  torch.Size([1, 192, 32, 32])\n",
      "convlstm output:  torch.Size([1, 192, 32, 32])\n",
      "convlstm output:  torch.Size([1, 192, 32, 32])\n",
      "convlstm output:  torch.Size([1, 192, 32, 32])\n",
      "convlstm output:  torch.Size([1, 192, 32, 32])\n",
      "convlstm output:  torch.Size([1, 192, 32, 32])\n",
      "convlstm output:  torch.Size([1, 192, 32, 32])\n",
      "convlstm output:  torch.Size([1, 192, 32, 32])\n",
      "new forward\n",
      "convlstm output:  torch.Size([1, 64, 64, 64])\n",
      "convlstm output:  torch.Size([1, 64, 64, 64])\n",
      "convlstm output:  torch.Size([1, 64, 64, 64])\n",
      "convlstm output:  torch.Size([1, 64, 64, 64])\n",
      "convlstm output:  torch.Size([1, 64, 64, 64])\n",
      "convlstm output:  torch.Size([1, 64, 64, 64])\n",
      "convlstm output:  torch.Size([1, 64, 64, 64])\n",
      "convlstm output:  torch.Size([1, 64, 64, 64])\n",
      "convlstm output:  torch.Size([1, 64, 64, 64])\n",
      "convlstm output:  torch.Size([1, 64, 64, 64])\n"
     ]
    },
    {
     "data": {
      "text/plain": [
       "torch.Size([1, 10, 128, 128])"
      ]
     },
     "execution_count": 91,
     "metadata": {},
     "output_type": "execute_result"
    }
   ],
   "source": [
    "experiment.model(batch).size()"
   ]
  },
  {
   "cell_type": "code",
   "execution_count": 92,
   "metadata": {
    "scrolled": false
   },
   "outputs": [
    {
     "name": "stdout",
     "output_type": "stream",
     "text": [
      "new forward\n",
      "convlstm output:  torch.Size([1, 64, 64, 64])\n",
      "convlstm output:  torch.Size([1, 64, 64, 64])\n",
      "convlstm output:  torch.Size([1, 64, 64, 64])\n",
      "convlstm output:  torch.Size([1, 64, 64, 64])\n",
      "convlstm output:  torch.Size([1, 64, 64, 64])\n",
      "new forward\n",
      "convlstm output:  torch.Size([1, 192, 32, 32])\n",
      "convlstm output:  torch.Size([1, 192, 32, 32])\n",
      "convlstm output:  torch.Size([1, 192, 32, 32])\n",
      "convlstm output:  torch.Size([1, 192, 32, 32])\n",
      "convlstm output:  torch.Size([1, 192, 32, 32])\n",
      "new forward\n",
      "convlstm output:  torch.Size([1, 192, 16, 16])\n",
      "convlstm output:  torch.Size([1, 192, 16, 16])\n",
      "convlstm output:  torch.Size([1, 192, 16, 16])\n",
      "convlstm output:  torch.Size([1, 192, 16, 16])\n",
      "convlstm output:  torch.Size([1, 192, 16, 16])\n",
      "new forward\n",
      "convlstm output:  torch.Size([1, 192, 16, 16])\n",
      "convlstm output:  torch.Size([1, 192, 16, 16])\n",
      "convlstm output:  torch.Size([1, 192, 16, 16])\n",
      "convlstm output:  torch.Size([1, 192, 16, 16])\n",
      "convlstm output:  torch.Size([1, 192, 16, 16])\n",
      "convlstm output:  torch.Size([1, 192, 16, 16])\n",
      "convlstm output:  torch.Size([1, 192, 16, 16])\n",
      "convlstm output:  torch.Size([1, 192, 16, 16])\n",
      "convlstm output:  torch.Size([1, 192, 16, 16])\n",
      "convlstm output:  torch.Size([1, 192, 16, 16])\n",
      "new forward\n",
      "convlstm output:  torch.Size([1, 192, 32, 32])\n",
      "convlstm output:  torch.Size([1, 192, 32, 32])\n",
      "convlstm output:  torch.Size([1, 192, 32, 32])\n",
      "convlstm output:  torch.Size([1, 192, 32, 32])\n",
      "convlstm output:  torch.Size([1, 192, 32, 32])\n",
      "convlstm output:  torch.Size([1, 192, 32, 32])\n",
      "convlstm output:  torch.Size([1, 192, 32, 32])\n",
      "convlstm output:  torch.Size([1, 192, 32, 32])\n",
      "convlstm output:  torch.Size([1, 192, 32, 32])\n",
      "convlstm output:  torch.Size([1, 192, 32, 32])\n",
      "new forward\n",
      "convlstm output:  torch.Size([1, 64, 64, 64])\n",
      "convlstm output:  torch.Size([1, 64, 64, 64])\n",
      "convlstm output:  torch.Size([1, 64, 64, 64])\n",
      "convlstm output:  torch.Size([1, 64, 64, 64])\n",
      "convlstm output:  torch.Size([1, 64, 64, 64])\n",
      "convlstm output:  torch.Size([1, 64, 64, 64])\n",
      "convlstm output:  torch.Size([1, 64, 64, 64])\n",
      "convlstm output:  torch.Size([1, 64, 64, 64])\n",
      "convlstm output:  torch.Size([1, 64, 64, 64])\n",
      "convlstm output:  torch.Size([1, 64, 64, 64])\n",
      "CONVLSTM OUTPUT FRAMES SIZE torch.Size([1, 10, 128, 128])\n",
      "new forward\n",
      "convlstm output:  torch.Size([1, 64, 64, 64])\n",
      "convlstm output:  torch.Size([1, 64, 64, 64])\n",
      "convlstm output:  torch.Size([1, 64, 64, 64])\n",
      "convlstm output:  torch.Size([1, 64, 64, 64])\n",
      "convlstm output:  torch.Size([1, 64, 64, 64])\n",
      "new forward\n",
      "convlstm output:  torch.Size([1, 192, 32, 32])\n",
      "convlstm output:  torch.Size([1, 192, 32, 32])\n",
      "convlstm output:  torch.Size([1, 192, 32, 32])\n",
      "convlstm output:  torch.Size([1, 192, 32, 32])\n",
      "convlstm output:  torch.Size([1, 192, 32, 32])\n",
      "new forward\n",
      "convlstm output:  torch.Size([1, 192, 16, 16])\n",
      "convlstm output:  torch.Size([1, 192, 16, 16])\n",
      "convlstm output:  torch.Size([1, 192, 16, 16])\n",
      "convlstm output:  torch.Size([1, 192, 16, 16])\n",
      "convlstm output:  torch.Size([1, 192, 16, 16])\n",
      "new forward\n",
      "convlstm output:  torch.Size([1, 192, 16, 16])\n",
      "convlstm output:  torch.Size([1, 192, 16, 16])\n",
      "convlstm output:  torch.Size([1, 192, 16, 16])\n",
      "convlstm output:  torch.Size([1, 192, 16, 16])\n",
      "convlstm output:  torch.Size([1, 192, 16, 16])\n",
      "convlstm output:  torch.Size([1, 192, 16, 16])\n",
      "convlstm output:  torch.Size([1, 192, 16, 16])\n",
      "convlstm output:  torch.Size([1, 192, 16, 16])\n",
      "convlstm output:  torch.Size([1, 192, 16, 16])\n",
      "convlstm output:  torch.Size([1, 192, 16, 16])\n",
      "new forward\n",
      "convlstm output:  torch.Size([1, 192, 32, 32])\n",
      "convlstm output:  torch.Size([1, 192, 32, 32])\n",
      "convlstm output:  torch.Size([1, 192, 32, 32])\n",
      "convlstm output:  torch.Size([1, 192, 32, 32])\n",
      "convlstm output:  torch.Size([1, 192, 32, 32])\n",
      "convlstm output:  torch.Size([1, 192, 32, 32])\n",
      "convlstm output:  torch.Size([1, 192, 32, 32])\n",
      "convlstm output:  torch.Size([1, 192, 32, 32])\n",
      "convlstm output:  torch.Size([1, 192, 32, 32])\n",
      "convlstm output:  torch.Size([1, 192, 32, 32])\n",
      "new forward\n",
      "convlstm output:  torch.Size([1, 64, 64, 64])\n",
      "convlstm output:  torch.Size([1, 64, 64, 64])\n",
      "convlstm output:  torch.Size([1, 64, 64, 64])\n",
      "convlstm output:  torch.Size([1, 64, 64, 64])\n",
      "convlstm output:  torch.Size([1, 64, 64, 64])\n",
      "convlstm output:  torch.Size([1, 64, 64, 64])\n",
      "convlstm output:  torch.Size([1, 64, 64, 64])\n",
      "convlstm output:  torch.Size([1, 64, 64, 64])\n",
      "convlstm output:  torch.Size([1, 64, 64, 64])\n",
      "convlstm output:  torch.Size([1, 64, 64, 64])\n",
      "CONVLSTM OUTPUT FRAMES SIZE torch.Size([1, 20, 128, 128])\n"
     ]
    },
    {
     "data": {
      "text/plain": [
       "torch.Size([1, 15, 128, 128])"
      ]
     },
     "execution_count": 92,
     "metadata": {},
     "output_type": "execute_result"
    }
   ],
   "source": [
    "experiment.model.get_future_frames(batch, 15).size()"
   ]
  },
  {
   "cell_type": "code",
   "execution_count": 82,
   "metadata": {},
   "outputs": [],
   "source": [
    "from models.AR_ConvLSTM import get_ar_convlstm_model"
   ]
  },
  {
   "cell_type": "code",
   "execution_count": 83,
   "metadata": {},
   "outputs": [],
   "source": [
    "ar_model = get_ar_convlstm_model(5, 10, 1, 'cpu')"
   ]
  },
  {
   "cell_type": "code",
   "execution_count": 93,
   "metadata": {
    "scrolled": false
   },
   "outputs": [
    {
     "name": "stdout",
     "output_type": "stream",
     "text": [
      "new forward\n",
      "convlstm output:  torch.Size([1, 64, 64, 64])\n",
      "convlstm output:  torch.Size([1, 64, 64, 64])\n",
      "convlstm output:  torch.Size([1, 64, 64, 64])\n",
      "convlstm output:  torch.Size([1, 64, 64, 64])\n",
      "convlstm output:  torch.Size([1, 64, 64, 64])\n",
      "new forward\n",
      "convlstm output:  torch.Size([1, 192, 32, 32])\n",
      "convlstm output:  torch.Size([1, 192, 32, 32])\n",
      "convlstm output:  torch.Size([1, 192, 32, 32])\n",
      "convlstm output:  torch.Size([1, 192, 32, 32])\n",
      "convlstm output:  torch.Size([1, 192, 32, 32])\n",
      "new forward\n",
      "convlstm output:  torch.Size([1, 192, 16, 16])\n",
      "convlstm output:  torch.Size([1, 192, 16, 16])\n",
      "convlstm output:  torch.Size([1, 192, 16, 16])\n",
      "convlstm output:  torch.Size([1, 192, 16, 16])\n",
      "convlstm output:  torch.Size([1, 192, 16, 16])\n",
      "new forward\n",
      "convlstm output:  torch.Size([1, 192, 16, 16])\n",
      "new forward\n",
      "convlstm output:  torch.Size([1, 192, 32, 32])\n",
      "new forward\n",
      "convlstm output:  torch.Size([1, 64, 64, 64])\n"
     ]
    },
    {
     "data": {
      "text/plain": [
       "torch.Size([1, 1, 128, 128])"
      ]
     },
     "execution_count": 93,
     "metadata": {},
     "output_type": "execute_result"
    }
   ],
   "source": [
    "ar_model(batch).size()"
   ]
  },
  {
   "cell_type": "code",
   "execution_count": 95,
   "metadata": {
    "scrolled": false
   },
   "outputs": [
    {
     "name": "stdout",
     "output_type": "stream",
     "text": [
      "new forward\n",
      "convlstm output:  torch.Size([1, 64, 64, 64])\n",
      "convlstm output:  torch.Size([1, 64, 64, 64])\n",
      "convlstm output:  torch.Size([1, 64, 64, 64])\n",
      "convlstm output:  torch.Size([1, 64, 64, 64])\n",
      "convlstm output:  torch.Size([1, 64, 64, 64])\n",
      "new forward\n",
      "convlstm output:  torch.Size([1, 192, 32, 32])\n",
      "convlstm output:  torch.Size([1, 192, 32, 32])\n",
      "convlstm output:  torch.Size([1, 192, 32, 32])\n",
      "convlstm output:  torch.Size([1, 192, 32, 32])\n",
      "convlstm output:  torch.Size([1, 192, 32, 32])\n",
      "new forward\n",
      "convlstm output:  torch.Size([1, 192, 16, 16])\n",
      "convlstm output:  torch.Size([1, 192, 16, 16])\n",
      "convlstm output:  torch.Size([1, 192, 16, 16])\n",
      "convlstm output:  torch.Size([1, 192, 16, 16])\n",
      "convlstm output:  torch.Size([1, 192, 16, 16])\n",
      "new forward\n",
      "convlstm output:  torch.Size([1, 192, 16, 16])\n",
      "new forward\n",
      "convlstm output:  torch.Size([1, 192, 32, 32])\n",
      "new forward\n",
      "convlstm output:  torch.Size([1, 64, 64, 64])\n",
      "CONVLSTM OUTPUT FRAMES SIZE torch.Size([1, 1, 128, 128])\n",
      "new forward\n",
      "convlstm output:  torch.Size([1, 64, 64, 64])\n",
      "convlstm output:  torch.Size([1, 64, 64, 64])\n",
      "convlstm output:  torch.Size([1, 64, 64, 64])\n",
      "convlstm output:  torch.Size([1, 64, 64, 64])\n",
      "convlstm output:  torch.Size([1, 64, 64, 64])\n",
      "new forward\n",
      "convlstm output:  torch.Size([1, 192, 32, 32])\n",
      "convlstm output:  torch.Size([1, 192, 32, 32])\n",
      "convlstm output:  torch.Size([1, 192, 32, 32])\n",
      "convlstm output:  torch.Size([1, 192, 32, 32])\n",
      "convlstm output:  torch.Size([1, 192, 32, 32])\n",
      "new forward\n",
      "convlstm output:  torch.Size([1, 192, 16, 16])\n",
      "convlstm output:  torch.Size([1, 192, 16, 16])\n",
      "convlstm output:  torch.Size([1, 192, 16, 16])\n",
      "convlstm output:  torch.Size([1, 192, 16, 16])\n",
      "convlstm output:  torch.Size([1, 192, 16, 16])\n",
      "new forward\n",
      "convlstm output:  torch.Size([1, 192, 16, 16])\n",
      "new forward\n",
      "convlstm output:  torch.Size([1, 192, 32, 32])\n",
      "new forward\n",
      "convlstm output:  torch.Size([1, 64, 64, 64])\n",
      "CONVLSTM OUTPUT FRAMES SIZE torch.Size([1, 2, 128, 128])\n",
      "new forward\n",
      "convlstm output:  torch.Size([1, 64, 64, 64])\n",
      "convlstm output:  torch.Size([1, 64, 64, 64])\n",
      "convlstm output:  torch.Size([1, 64, 64, 64])\n",
      "convlstm output:  torch.Size([1, 64, 64, 64])\n",
      "convlstm output:  torch.Size([1, 64, 64, 64])\n",
      "new forward\n",
      "convlstm output:  torch.Size([1, 192, 32, 32])\n",
      "convlstm output:  torch.Size([1, 192, 32, 32])\n",
      "convlstm output:  torch.Size([1, 192, 32, 32])\n",
      "convlstm output:  torch.Size([1, 192, 32, 32])\n",
      "convlstm output:  torch.Size([1, 192, 32, 32])\n",
      "new forward\n",
      "convlstm output:  torch.Size([1, 192, 16, 16])\n",
      "convlstm output:  torch.Size([1, 192, 16, 16])\n",
      "convlstm output:  torch.Size([1, 192, 16, 16])\n",
      "convlstm output:  torch.Size([1, 192, 16, 16])\n",
      "convlstm output:  torch.Size([1, 192, 16, 16])\n",
      "new forward\n",
      "convlstm output:  torch.Size([1, 192, 16, 16])\n",
      "new forward\n",
      "convlstm output:  torch.Size([1, 192, 32, 32])\n",
      "new forward\n",
      "convlstm output:  torch.Size([1, 64, 64, 64])\n",
      "CONVLSTM OUTPUT FRAMES SIZE torch.Size([1, 3, 128, 128])\n",
      "new forward\n",
      "convlstm output:  torch.Size([1, 64, 64, 64])\n",
      "convlstm output:  torch.Size([1, 64, 64, 64])\n",
      "convlstm output:  torch.Size([1, 64, 64, 64])\n",
      "convlstm output:  torch.Size([1, 64, 64, 64])\n",
      "convlstm output:  torch.Size([1, 64, 64, 64])\n",
      "new forward\n",
      "convlstm output:  torch.Size([1, 192, 32, 32])\n",
      "convlstm output:  torch.Size([1, 192, 32, 32])\n",
      "convlstm output:  torch.Size([1, 192, 32, 32])\n",
      "convlstm output:  torch.Size([1, 192, 32, 32])\n",
      "convlstm output:  torch.Size([1, 192, 32, 32])\n",
      "new forward\n",
      "convlstm output:  torch.Size([1, 192, 16, 16])\n",
      "convlstm output:  torch.Size([1, 192, 16, 16])\n",
      "convlstm output:  torch.Size([1, 192, 16, 16])\n",
      "convlstm output:  torch.Size([1, 192, 16, 16])\n",
      "convlstm output:  torch.Size([1, 192, 16, 16])\n",
      "new forward\n",
      "convlstm output:  torch.Size([1, 192, 16, 16])\n",
      "new forward\n",
      "convlstm output:  torch.Size([1, 192, 32, 32])\n",
      "new forward\n",
      "convlstm output:  torch.Size([1, 64, 64, 64])\n",
      "CONVLSTM OUTPUT FRAMES SIZE torch.Size([1, 4, 128, 128])\n",
      "new forward\n",
      "convlstm output:  torch.Size([1, 64, 64, 64])\n",
      "convlstm output:  torch.Size([1, 64, 64, 64])\n",
      "convlstm output:  torch.Size([1, 64, 64, 64])\n",
      "convlstm output:  torch.Size([1, 64, 64, 64])\n",
      "convlstm output:  torch.Size([1, 64, 64, 64])\n",
      "new forward\n",
      "convlstm output:  torch.Size([1, 192, 32, 32])\n",
      "convlstm output:  torch.Size([1, 192, 32, 32])\n",
      "convlstm output:  torch.Size([1, 192, 32, 32])\n",
      "convlstm output:  torch.Size([1, 192, 32, 32])\n",
      "convlstm output:  torch.Size([1, 192, 32, 32])\n",
      "new forward\n",
      "convlstm output:  torch.Size([1, 192, 16, 16])\n",
      "convlstm output:  torch.Size([1, 192, 16, 16])\n",
      "convlstm output:  torch.Size([1, 192, 16, 16])\n",
      "convlstm output:  torch.Size([1, 192, 16, 16])\n",
      "convlstm output:  torch.Size([1, 192, 16, 16])\n",
      "new forward\n",
      "convlstm output:  torch.Size([1, 192, 16, 16])\n",
      "new forward\n",
      "convlstm output:  torch.Size([1, 192, 32, 32])\n",
      "new forward\n",
      "convlstm output:  torch.Size([1, 64, 64, 64])\n",
      "CONVLSTM OUTPUT FRAMES SIZE torch.Size([1, 5, 128, 128])\n",
      "new forward\n",
      "convlstm output:  torch.Size([1, 64, 64, 64])\n",
      "convlstm output:  torch.Size([1, 64, 64, 64])\n",
      "convlstm output:  torch.Size([1, 64, 64, 64])\n",
      "convlstm output:  torch.Size([1, 64, 64, 64])\n",
      "convlstm output:  torch.Size([1, 64, 64, 64])\n",
      "new forward\n",
      "convlstm output:  torch.Size([1, 192, 32, 32])\n",
      "convlstm output:  torch.Size([1, 192, 32, 32])\n",
      "convlstm output:  torch.Size([1, 192, 32, 32])\n",
      "convlstm output:  torch.Size([1, 192, 32, 32])\n",
      "convlstm output:  torch.Size([1, 192, 32, 32])\n",
      "new forward\n",
      "convlstm output:  torch.Size([1, 192, 16, 16])\n",
      "convlstm output:  torch.Size([1, 192, 16, 16])\n",
      "convlstm output:  torch.Size([1, 192, 16, 16])\n",
      "convlstm output:  torch.Size([1, 192, 16, 16])\n",
      "convlstm output:  torch.Size([1, 192, 16, 16])\n",
      "new forward\n",
      "convlstm output:  torch.Size([1, 192, 16, 16])\n",
      "new forward\n",
      "convlstm output:  torch.Size([1, 192, 32, 32])\n",
      "new forward\n",
      "convlstm output:  torch.Size([1, 64, 64, 64])\n",
      "CONVLSTM OUTPUT FRAMES SIZE torch.Size([1, 6, 128, 128])\n",
      "new forward\n",
      "convlstm output:  torch.Size([1, 64, 64, 64])\n",
      "convlstm output:  torch.Size([1, 64, 64, 64])\n",
      "convlstm output:  torch.Size([1, 64, 64, 64])\n",
      "convlstm output:  torch.Size([1, 64, 64, 64])\n",
      "convlstm output:  torch.Size([1, 64, 64, 64])\n",
      "new forward\n",
      "convlstm output:  torch.Size([1, 192, 32, 32])\n",
      "convlstm output:  torch.Size([1, 192, 32, 32])\n",
      "convlstm output:  torch.Size([1, 192, 32, 32])\n",
      "convlstm output:  torch.Size([1, 192, 32, 32])\n",
      "convlstm output:  torch.Size([1, 192, 32, 32])\n",
      "new forward\n",
      "convlstm output:  torch.Size([1, 192, 16, 16])\n",
      "convlstm output:  torch.Size([1, 192, 16, 16])\n",
      "convlstm output:  torch.Size([1, 192, 16, 16])\n",
      "convlstm output:  torch.Size([1, 192, 16, 16])\n",
      "convlstm output:  torch.Size([1, 192, 16, 16])\n",
      "new forward\n",
      "convlstm output:  torch.Size([1, 192, 16, 16])\n",
      "new forward\n",
      "convlstm output:  torch.Size([1, 192, 32, 32])\n",
      "new forward\n",
      "convlstm output:  torch.Size([1, 64, 64, 64])\n",
      "CONVLSTM OUTPUT FRAMES SIZE torch.Size([1, 7, 128, 128])\n",
      "new forward\n",
      "convlstm output:  torch.Size([1, 64, 64, 64])\n",
      "convlstm output:  torch.Size([1, 64, 64, 64])\n",
      "convlstm output:  torch.Size([1, 64, 64, 64])\n",
      "convlstm output:  torch.Size([1, 64, 64, 64])\n",
      "convlstm output:  torch.Size([1, 64, 64, 64])\n",
      "new forward\n",
      "convlstm output:  torch.Size([1, 192, 32, 32])\n",
      "convlstm output:  torch.Size([1, 192, 32, 32])\n",
      "convlstm output:  torch.Size([1, 192, 32, 32])\n",
      "convlstm output:  torch.Size([1, 192, 32, 32])\n",
      "convlstm output:  torch.Size([1, 192, 32, 32])\n",
      "new forward\n",
      "convlstm output:  torch.Size([1, 192, 16, 16])\n",
      "convlstm output:  torch.Size([1, 192, 16, 16])\n",
      "convlstm output:  torch.Size([1, 192, 16, 16])\n",
      "convlstm output:  torch.Size([1, 192, 16, 16])\n",
      "convlstm output:  torch.Size([1, 192, 16, 16])\n",
      "new forward\n",
      "convlstm output:  torch.Size([1, 192, 16, 16])\n",
      "new forward\n",
      "convlstm output:  torch.Size([1, 192, 32, 32])\n",
      "new forward\n",
      "convlstm output:  torch.Size([1, 64, 64, 64])\n",
      "CONVLSTM OUTPUT FRAMES SIZE torch.Size([1, 8, 128, 128])\n",
      "new forward\n",
      "convlstm output:  torch.Size([1, 64, 64, 64])\n",
      "convlstm output:  torch.Size([1, 64, 64, 64])\n",
      "convlstm output:  torch.Size([1, 64, 64, 64])\n",
      "convlstm output:  torch.Size([1, 64, 64, 64])\n",
      "convlstm output:  torch.Size([1, 64, 64, 64])\n",
      "new forward\n",
      "convlstm output:  torch.Size([1, 192, 32, 32])\n",
      "convlstm output:  torch.Size([1, 192, 32, 32])\n",
      "convlstm output:  torch.Size([1, 192, 32, 32])\n",
      "convlstm output:  torch.Size([1, 192, 32, 32])\n",
      "convlstm output:  torch.Size([1, 192, 32, 32])\n",
      "new forward\n",
      "convlstm output:  torch.Size([1, 192, 16, 16])\n",
      "convlstm output:  torch.Size([1, 192, 16, 16])\n",
      "convlstm output:  torch.Size([1, 192, 16, 16])\n",
      "convlstm output:  torch.Size([1, 192, 16, 16])\n",
      "convlstm output:  torch.Size([1, 192, 16, 16])\n",
      "new forward\n",
      "convlstm output:  torch.Size([1, 192, 16, 16])\n",
      "new forward\n"
     ]
    },
    {
     "name": "stdout",
     "output_type": "stream",
     "text": [
      "convlstm output:  torch.Size([1, 192, 32, 32])\n",
      "new forward\n",
      "convlstm output:  torch.Size([1, 64, 64, 64])\n",
      "CONVLSTM OUTPUT FRAMES SIZE torch.Size([1, 9, 128, 128])\n",
      "new forward\n",
      "convlstm output:  torch.Size([1, 64, 64, 64])\n",
      "convlstm output:  torch.Size([1, 64, 64, 64])\n",
      "convlstm output:  torch.Size([1, 64, 64, 64])\n",
      "convlstm output:  torch.Size([1, 64, 64, 64])\n",
      "convlstm output:  torch.Size([1, 64, 64, 64])\n",
      "new forward\n",
      "convlstm output:  torch.Size([1, 192, 32, 32])\n",
      "convlstm output:  torch.Size([1, 192, 32, 32])\n",
      "convlstm output:  torch.Size([1, 192, 32, 32])\n",
      "convlstm output:  torch.Size([1, 192, 32, 32])\n",
      "convlstm output:  torch.Size([1, 192, 32, 32])\n",
      "new forward\n",
      "convlstm output:  torch.Size([1, 192, 16, 16])\n",
      "convlstm output:  torch.Size([1, 192, 16, 16])\n",
      "convlstm output:  torch.Size([1, 192, 16, 16])\n",
      "convlstm output:  torch.Size([1, 192, 16, 16])\n",
      "convlstm output:  torch.Size([1, 192, 16, 16])\n",
      "new forward\n",
      "convlstm output:  torch.Size([1, 192, 16, 16])\n",
      "new forward\n",
      "convlstm output:  torch.Size([1, 192, 32, 32])\n",
      "new forward\n",
      "convlstm output:  torch.Size([1, 64, 64, 64])\n",
      "CONVLSTM OUTPUT FRAMES SIZE torch.Size([1, 10, 128, 128])\n",
      "new forward\n",
      "convlstm output:  torch.Size([1, 64, 64, 64])\n",
      "convlstm output:  torch.Size([1, 64, 64, 64])\n",
      "convlstm output:  torch.Size([1, 64, 64, 64])\n",
      "convlstm output:  torch.Size([1, 64, 64, 64])\n",
      "convlstm output:  torch.Size([1, 64, 64, 64])\n",
      "new forward\n",
      "convlstm output:  torch.Size([1, 192, 32, 32])\n",
      "convlstm output:  torch.Size([1, 192, 32, 32])\n",
      "convlstm output:  torch.Size([1, 192, 32, 32])\n",
      "convlstm output:  torch.Size([1, 192, 32, 32])\n",
      "convlstm output:  torch.Size([1, 192, 32, 32])\n",
      "new forward\n",
      "convlstm output:  torch.Size([1, 192, 16, 16])\n",
      "convlstm output:  torch.Size([1, 192, 16, 16])\n",
      "convlstm output:  torch.Size([1, 192, 16, 16])\n",
      "convlstm output:  torch.Size([1, 192, 16, 16])\n",
      "convlstm output:  torch.Size([1, 192, 16, 16])\n",
      "new forward\n",
      "convlstm output:  torch.Size([1, 192, 16, 16])\n",
      "new forward\n",
      "convlstm output:  torch.Size([1, 192, 32, 32])\n",
      "new forward\n",
      "convlstm output:  torch.Size([1, 64, 64, 64])\n",
      "CONVLSTM OUTPUT FRAMES SIZE torch.Size([1, 11, 128, 128])\n",
      "new forward\n",
      "convlstm output:  torch.Size([1, 64, 64, 64])\n",
      "convlstm output:  torch.Size([1, 64, 64, 64])\n",
      "convlstm output:  torch.Size([1, 64, 64, 64])\n",
      "convlstm output:  torch.Size([1, 64, 64, 64])\n",
      "convlstm output:  torch.Size([1, 64, 64, 64])\n",
      "new forward\n",
      "convlstm output:  torch.Size([1, 192, 32, 32])\n",
      "convlstm output:  torch.Size([1, 192, 32, 32])\n",
      "convlstm output:  torch.Size([1, 192, 32, 32])\n",
      "convlstm output:  torch.Size([1, 192, 32, 32])\n",
      "convlstm output:  torch.Size([1, 192, 32, 32])\n",
      "new forward\n",
      "convlstm output:  torch.Size([1, 192, 16, 16])\n",
      "convlstm output:  torch.Size([1, 192, 16, 16])\n",
      "convlstm output:  torch.Size([1, 192, 16, 16])\n",
      "convlstm output:  torch.Size([1, 192, 16, 16])\n",
      "convlstm output:  torch.Size([1, 192, 16, 16])\n",
      "new forward\n",
      "convlstm output:  torch.Size([1, 192, 16, 16])\n",
      "new forward\n",
      "convlstm output:  torch.Size([1, 192, 32, 32])\n",
      "new forward\n",
      "convlstm output:  torch.Size([1, 64, 64, 64])\n",
      "CONVLSTM OUTPUT FRAMES SIZE torch.Size([1, 12, 128, 128])\n",
      "new forward\n",
      "convlstm output:  torch.Size([1, 64, 64, 64])\n",
      "convlstm output:  torch.Size([1, 64, 64, 64])\n",
      "convlstm output:  torch.Size([1, 64, 64, 64])\n",
      "convlstm output:  torch.Size([1, 64, 64, 64])\n",
      "convlstm output:  torch.Size([1, 64, 64, 64])\n",
      "new forward\n",
      "convlstm output:  torch.Size([1, 192, 32, 32])\n",
      "convlstm output:  torch.Size([1, 192, 32, 32])\n",
      "convlstm output:  torch.Size([1, 192, 32, 32])\n",
      "convlstm output:  torch.Size([1, 192, 32, 32])\n",
      "convlstm output:  torch.Size([1, 192, 32, 32])\n",
      "new forward\n",
      "convlstm output:  torch.Size([1, 192, 16, 16])\n",
      "convlstm output:  torch.Size([1, 192, 16, 16])\n",
      "convlstm output:  torch.Size([1, 192, 16, 16])\n",
      "convlstm output:  torch.Size([1, 192, 16, 16])\n",
      "convlstm output:  torch.Size([1, 192, 16, 16])\n",
      "new forward\n",
      "convlstm output:  torch.Size([1, 192, 16, 16])\n",
      "new forward\n",
      "convlstm output:  torch.Size([1, 192, 32, 32])\n",
      "new forward\n",
      "convlstm output:  torch.Size([1, 64, 64, 64])\n",
      "CONVLSTM OUTPUT FRAMES SIZE torch.Size([1, 13, 128, 128])\n",
      "new forward\n",
      "convlstm output:  torch.Size([1, 64, 64, 64])\n",
      "convlstm output:  torch.Size([1, 64, 64, 64])\n",
      "convlstm output:  torch.Size([1, 64, 64, 64])\n",
      "convlstm output:  torch.Size([1, 64, 64, 64])\n",
      "convlstm output:  torch.Size([1, 64, 64, 64])\n",
      "new forward\n",
      "convlstm output:  torch.Size([1, 192, 32, 32])\n",
      "convlstm output:  torch.Size([1, 192, 32, 32])\n",
      "convlstm output:  torch.Size([1, 192, 32, 32])\n",
      "convlstm output:  torch.Size([1, 192, 32, 32])\n",
      "convlstm output:  torch.Size([1, 192, 32, 32])\n",
      "new forward\n",
      "convlstm output:  torch.Size([1, 192, 16, 16])\n",
      "convlstm output:  torch.Size([1, 192, 16, 16])\n",
      "convlstm output:  torch.Size([1, 192, 16, 16])\n",
      "convlstm output:  torch.Size([1, 192, 16, 16])\n",
      "convlstm output:  torch.Size([1, 192, 16, 16])\n",
      "new forward\n",
      "convlstm output:  torch.Size([1, 192, 16, 16])\n",
      "new forward\n",
      "convlstm output:  torch.Size([1, 192, 32, 32])\n",
      "new forward\n",
      "convlstm output:  torch.Size([1, 64, 64, 64])\n",
      "CONVLSTM OUTPUT FRAMES SIZE torch.Size([1, 14, 128, 128])\n",
      "new forward\n",
      "convlstm output:  torch.Size([1, 64, 64, 64])\n",
      "convlstm output:  torch.Size([1, 64, 64, 64])\n",
      "convlstm output:  torch.Size([1, 64, 64, 64])\n",
      "convlstm output:  torch.Size([1, 64, 64, 64])\n",
      "convlstm output:  torch.Size([1, 64, 64, 64])\n",
      "new forward\n",
      "convlstm output:  torch.Size([1, 192, 32, 32])\n",
      "convlstm output:  torch.Size([1, 192, 32, 32])\n",
      "convlstm output:  torch.Size([1, 192, 32, 32])\n",
      "convlstm output:  torch.Size([1, 192, 32, 32])\n",
      "convlstm output:  torch.Size([1, 192, 32, 32])\n",
      "new forward\n",
      "convlstm output:  torch.Size([1, 192, 16, 16])\n",
      "convlstm output:  torch.Size([1, 192, 16, 16])\n",
      "convlstm output:  torch.Size([1, 192, 16, 16])\n",
      "convlstm output:  torch.Size([1, 192, 16, 16])\n",
      "convlstm output:  torch.Size([1, 192, 16, 16])\n",
      "new forward\n",
      "convlstm output:  torch.Size([1, 192, 16, 16])\n",
      "new forward\n",
      "convlstm output:  torch.Size([1, 192, 32, 32])\n",
      "new forward\n",
      "convlstm output:  torch.Size([1, 64, 64, 64])\n",
      "CONVLSTM OUTPUT FRAMES SIZE torch.Size([1, 15, 128, 128])\n"
     ]
    },
    {
     "data": {
      "text/plain": [
       "torch.Size([1, 15, 128, 128])"
      ]
     },
     "execution_count": 95,
     "metadata": {},
     "output_type": "execute_result"
    }
   ],
   "source": [
    "ar_model.get_future_frames(batch, 15).size()"
   ]
  },
  {
   "cell_type": "code",
   "execution_count": null,
   "metadata": {},
   "outputs": [],
   "source": []
  }
 ],
 "metadata": {
  "kernelspec": {
   "display_name": "Python 3",
   "language": "python",
   "name": "python3"
  },
  "language_info": {
   "codemirror_mode": {
    "name": "ipython",
    "version": 3
   },
   "file_extension": ".py",
   "mimetype": "text/x-python",
   "name": "python",
   "nbconvert_exporter": "python",
   "pygments_lexer": "ipython3",
   "version": "3.6.8"
  }
 },
 "nbformat": 4,
 "nbformat_minor": 2
}
