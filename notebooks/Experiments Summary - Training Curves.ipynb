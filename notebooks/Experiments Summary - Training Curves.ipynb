{
 "cells": [
  {
   "cell_type": "code",
   "execution_count": 27,
   "metadata": {},
   "outputs": [],
   "source": [
    "import os\n",
    "import sys\n",
    "sys.path.append('../')\n",
    "from utils.io import load_json, load\n",
    "from utils.Logger import Logger"
   ]
  },
  {
   "cell_type": "code",
   "execution_count": 28,
   "metadata": {
    "scrolled": false
   },
   "outputs": [],
   "source": [
    "data_directory = '../experiments_results/'\n",
    "experiments = [dI for dI in os.listdir(data_directory) if os.path.isdir(os.path.join(data_directory, dI))]\n",
    "experiments.sort(key=lambda x: x.lower())\n",
    "# experiments\n",
    "# import matplotlib.pyplot as plt\n",
    "logger = Logger()\n",
    "# for experiment in experiments:\n",
    "#     try:\n",
    "#         logger.load_from_json('../experiments_results/'+experiment+'/pickles/logger.json')\n",
    "#         logger.plot_validation_loss(experiment+'_%s'%logger.get_last_epoch())\n",
    "#     except:\n",
    "#         print(experiment)\n",
    "# #     logger.plot_batchwise_loss()"
   ]
  },
  {
   "cell_type": "code",
   "execution_count": 29,
   "metadata": {},
   "outputs": [
    {
     "name": "stdout",
     "output_type": "stream",
     "text": [
      "ar_lstm_batch_16_samples_10_in_5_out_20_normal_lr_0.0001 0.538\n",
      "ar_lstm_batch_16_samples_10_in_5_out_20_normal_lr_0.0001_dataset_fixed_tub 0.27\n",
      "ar_lstm_batch_16_samples_10_in_5_out_20_normal_lr_0.0001_dataset_original_16h_patience_5 0.222\n",
      "ar_lstm_batch_16_samples_5_in_5_out_20_normal_lr_0.0001 0.505\n",
      "ar_lstm_batch_16_samples_5_in_5_out_20_normal_lr_0.0001_dataset_original_24h_patience_5 0.225\n",
      "ar_lstm_batch_16_samples_5_in_5_out_20_normal_lr_0.0001_dataset_original_24h_patience_7 0.197\n",
      "convlstm_batch_6_samples_3_in_5_out_20_normal_lr_0.001 0.124\n",
      "convlstm_batch_8_samples_3_in_5_out_10_normal_lr_0.001 0.039\n",
      "convlstm_batch_8_samples_5_in_5_out_10_normal_lr_0.001 0.049\n",
      "convlstm_batch_8_samples_5_in_5_out_10_normal_lr_0.001_16h_c 0.037\n",
      "convlstm_batch_8_samples_5_in_5_out_10_normal_lr_0.001_dataset_fixed_tub 0.07\n",
      "convlstm_batch_8_samples_5_in_5_out_10_normal_lr_0.001_dataset_original_24h_patience_7 0.031\n",
      "predrnn_batch_4_samples_5_in_5_out_20_normal_lr_0.0001 0.078\n",
      "predrnn_batch_4_samples_5_in_5_out_20_normal_lr_0.0001_dataset_fixed_tub_8h 0.059\n",
      "predrnn_batch_4_samples_5_in_5_out_20_normal_lr_0.0001_dataset_original_16h 0.044\n",
      "predrnn_batch_4_samples_5_in_5_out_20_normal_lr_0.0001_dataset_original_16h_patience_7 0.037\n",
      "predrnn_batch_4_samples_5_in_5_out_20_normal_lr_0.0001_dataset_original_24h_patience_3 0.029\n",
      "predrnn_batch_4_samples_5_in_5_out_20_normal_lr_0.0001_dataset_original_24h_patience_7 0.03\n",
      "resnet_batch_16_samples_5_in_3_out_10_normal_lr_0.001 0.084\n",
      "resnet_batch_16_samples_5_in_5_out_10_normal_lr_0.001 0.075\n",
      "resnet_batch_16_samples_5_in_5_out_10_normal_lr_0.001_16h_c 0.063\n",
      "resnet_batch_16_samples_5_in_5_out_10_normal_lr_0.001_dataset_fixed_tub 0.088\n",
      "resnet_batch_16_samples_5_in_5_out_1_normal_lr_0.001 0.008\n",
      "resnet_batch_16_samples_5_in_5_out_5_normal_lr_0.001 0.033\n",
      "resnet_dilated_batch_16_samples_5_in_5_out_10_normal_lr_0.0001_dataset_original_24h_patience_7 0.055\n",
      "resnet_dilated_batch_16_samples_5_in_5_out_10_normal_lr_0.001_dataset_original_16h_patience_7 0.057\n",
      "resnet_dilated_batch_16_samples_5_in_5_out_20_normal_lr_0.0001_dataset_original_24h_patience_7 0.149\n",
      "resnet_dilated_batch_16_samples_5_in_5_out_20_normal_lr_0.001_dataset_original_16h_patience_7 0.138\n",
      "unet_batch_16_samples_10_in_5_out_20_normal_lr_0.0001_dataset_original_24h_patience_7 0.026\n",
      "unet_batch_16_samples_5_in_5_out_20_normal_lr_0.0001_dataset_fixed_tub_8h_patience_7 0.059\n",
      "unet_batch_16_samples_5_in_5_out_20_normal_lr_0.0001_dataset_original_16h_patience_7 0.033\n",
      "unet_batch_16_samples_5_in_5_out_20_normal_lr_0.0001_dataset_original_24h_patience_7 0.03\n",
      "unet_batch_32_samples_10_in_5_out_20_normal_lr_0.0001_dataset_original_24h_patience_7 0.029\n"
     ]
    }
   ],
   "source": [
    "for experiment in experiments:\n",
    "    try:\n",
    "        logger.load_from_json('../experiments_results/'+experiment+'/pickles/logger.json')\n",
    "        print(experiment, round(logger.get_best_val_loss(), 3))\n",
    "    except:\n",
    "        pass"
   ]
  },
  {
   "cell_type": "code",
   "execution_count": 7,
   "metadata": {
    "scrolled": false
   },
   "outputs": [],
   "source": [
    "# anl_list = ['AR_LSTM_batch_16_samples_10_in_5_out_20_none_lr_0.0001',\n",
    "#  'AR_LSTM_batch_16_samples_10_in_5_out_20_none_lr_0.0001_2',\n",
    "#  'AR_LSTM_batch_16_samples_10_in_5_out_20_normal_lr_0.0001',\n",
    "#  'AR_LSTM_batch_16_samples_10_in_5_out_20_normal_lr_0.0001_2']\n",
    "\n",
    "# for a in anl_list:\n",
    "#     anl = load('../experiments_results/'+a+'/pickles/analyser')\n",
    "#     logs = {'train_loss': anl.epoch_loss,\n",
    "#                      'validation_loss': anl.validation_loss,\n",
    "#                      'epoch_nr': anl.epoch_nr,\n",
    "#                      'batch_loss': anl.batch_loss,\n",
    "#                      'batch_nr': anl.batch_nr\n",
    "#                      }\n",
    "#     logger.logs = logs\n",
    "#     logger.plot_validation_loss()\n",
    "#     logger.plot_batchwise_loss()\n",
    "#     logger.save_to_json('../experiments_results/'+a+'/pickles/logger.json')"
   ]
  },
  {
   "cell_type": "code",
   "execution_count": null,
   "metadata": {},
   "outputs": [],
   "source": [
    "logger"
   ]
  }
 ],
 "metadata": {
  "kernelspec": {
   "display_name": "Python 3",
   "language": "python",
   "name": "python3"
  },
  "language_info": {
   "codemirror_mode": {
    "name": "ipython",
    "version": 3
   },
   "file_extension": ".py",
   "mimetype": "text/x-python",
   "name": "python",
   "nbconvert_exporter": "python",
   "pygments_lexer": "ipython3",
   "version": "3.6.8"
  },
  "toc": {
   "base_numbering": 1,
   "nav_menu": {},
   "number_sections": false,
   "sideBar": false,
   "skip_h1_title": false,
   "title_cell": "Table of Contents",
   "title_sidebar": "Contents",
   "toc_cell": false,
   "toc_position": {},
   "toc_section_display": false,
   "toc_window_display": false
  }
 },
 "nbformat": 4,
 "nbformat_minor": 2
}
