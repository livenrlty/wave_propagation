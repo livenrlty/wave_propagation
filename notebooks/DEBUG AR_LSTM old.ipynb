{
 "cells": [
  {
   "cell_type": "code",
   "execution_count": 50,
   "metadata": {},
   "outputs": [],
   "source": [
    "import sys\n",
    "sys.path.append('..')\n",
    "sys.path.append('../..')\n",
    "import torch\n",
    "import torch.optim as optim\n",
    "import torch.nn.functional as F\n",
    "import matplotlib.pyplot as plt\n",
    "import seaborn as sns\n",
    "import pandas as pd\n",
    "import random\n",
    "import math\n",
    "import numpy as np\n",
    "from PIL import Image\n",
    "import copy\n",
    "import logging\n",
    "import time\n",
    "import os\n",
    "from utils.arg_extract import seed_everything\n",
    "from old.Network import Network\n",
    "device='cpu'"
   ]
  },
  {
   "cell_type": "code",
   "execution_count": 59,
   "metadata": {},
   "outputs": [],
   "source": [
    "def initial_input(model, input_frames, batch_images, starting_point, num_input_frames, num_channels, device, training):\n",
    "    \"\"\"\n",
    "    var           size\n",
    "    batch_images  [16, 100, 128, 128]\n",
    "    input_frames  [16, 5, 128, 128]\n",
    "    output_frames  [16, 1, 128, 128]\n",
    "    target_frames  [16, 1, 128, 128]\n",
    "    \"\"\"\n",
    "    output_frames = model(input_frames.to(device), mode='initial_input', training=training)\n",
    "    target_idx = starting_point + num_input_frames\n",
    "    target_frames = batch_images[:, target_idx * num_channels:(target_idx + 1) * num_channels, :, :].to(device)\n",
    "    return output_frames, target_frames\n",
    "\n",
    "def reinsert(model, input_frames, output_frames, target_frames, batch_images, starting_point, num_input_frames, future_frame_idx, num_channels, device, training):\n",
    "    output_frames = torch.cat((output_frames, model(input_frames, mode=\"reinsert\", training=training)), dim=1).to(device)\n",
    "    target_idx = starting_point + future_frame_idx + num_input_frames\n",
    "    target_frames = torch.cat((target_frames, batch_images[:, target_idx*num_channels:(target_idx + 1) * num_channels, :, :].to(device)), dim=1)\n",
    "    return output_frames, target_frames\n",
    "\n",
    "def propagate(model, output_frames, target_frames, batch_images, starting_point, num_input_frames, future_frame_idx, num_channels, device, training):\n",
    "    output_frames = torch.cat((output_frames, model(torch.Tensor([0]), mode=\"propagate\", training=training)), dim=1).to(device)\n",
    "    target_idx = starting_point + future_frame_idx + num_input_frames\n",
    "    target_frames = torch.cat((target_frames, batch_images[:, target_idx* num_channels:(target_idx+ 1) * num_channels, :, :].to(device)), dim=1)\n",
    "    return output_frames, target_frames"
   ]
  },
  {
   "cell_type": "code",
   "execution_count": 74,
   "metadata": {},
   "outputs": [],
   "source": [
    "from utils.experiment import get_normalizer, create_new_datasets, create_dataloaders\n",
    "normalizer = get_normalizer('none')\n",
    "datasets = create_new_datasets('/Users/stathis/Code/thesis/wave_propagation/Video_Data/', normalizer)\n",
    "dataloaders = create_dataloaders(datasets, 16, 1)\n",
    "seed_everything(12345)\n",
    "batch_images = next(iter(dataloaders['train']))"
   ]
  },
  {
   "cell_type": "code",
   "execution_count": 99,
   "metadata": {},
   "outputs": [
    {
     "data": {
      "text/plain": [
       "tensor([[0.0078, 0.0039, 0.0118, 0.0196, 0.0314],\n",
       "        [0.0078, 0.0000, 0.0118, 0.0039, 0.0392],\n",
       "        [0.0039, 0.0000, 0.0039, 0.0000, 0.0000],\n",
       "        [0.0000, 0.0000, 0.0000, 0.0000, 0.0000],\n",
       "        [0.0078, 0.0078, 0.0039, 0.0000, 0.0000]])"
      ]
     },
     "execution_count": 99,
     "metadata": {},
     "output_type": "execute_result"
    }
   ],
   "source": [
    "batch_images[0,0,20:25,20:25]"
   ]
  },
  {
   "cell_type": "raw",
   "metadata": {},
   "source": [
    "batch_images[0,0,20:25,20:25]\n",
    "tensor([[0.0078, 0.0039, 0.0118, 0.0196, 0.0314],\n",
    "        [0.0078, 0.0000, 0.0118, 0.0039, 0.0392],\n",
    "        [0.0039, 0.0000, 0.0039, 0.0000, 0.0000],\n",
    "        [0.0000, 0.0000, 0.0000, 0.0000, 0.0000],\n",
    "        [0.0078, 0.0078, 0.0039, 0.0000, 0.0000]])"
   ]
  },
  {
   "cell_type": "code",
   "execution_count": 97,
   "metadata": {},
   "outputs": [
    {
     "data": {
      "text/plain": [
       "tensor([[ 0.0616,  0.0485,  0.0629, -0.0050, -0.0533, -0.0411, -0.0169],\n",
       "        [ 0.0086, -0.0207, -0.0368, -0.0052,  0.0403,  0.0531, -0.0315],\n",
       "        [-0.0366, -0.0029,  0.0281,  0.0286, -0.0238,  0.0221, -0.0109],\n",
       "        [-0.0077, -0.0518,  0.0458, -0.0451,  0.0159, -0.0320, -0.0539],\n",
       "        [-0.0041,  0.0212, -0.0586,  0.0046, -0.0240, -0.0091, -0.0285],\n",
       "        [-0.0080,  0.0575, -0.0614, -0.0302,  0.0543, -0.0034, -0.0133],\n",
       "        [ 0.0215, -0.0270,  0.0262, -0.0394, -0.0192,  0.0489,  0.0063]],\n",
       "       grad_fn=<SliceBackward>)"
      ]
     },
     "execution_count": 97,
     "metadata": {},
     "output_type": "execute_result"
    }
   ],
   "source": [
    "num_input_frames = 5\n",
    "num_output_frames = 20\n",
    "reinsert_frequency=10\n",
    "num_channels = 1"
   ]
  },
  {
   "cell_type": "code",
   "execution_count": 106,
   "metadata": {},
   "outputs": [
    {
     "name": "stdout",
     "output_type": "stream",
     "text": [
      "tensor([[ 0.0616,  0.0485,  0.0629, -0.0050, -0.0533, -0.0411, -0.0169],\n",
      "        [ 0.0086, -0.0207, -0.0368, -0.0052,  0.0403,  0.0531, -0.0315],\n",
      "        [-0.0366, -0.0029,  0.0281,  0.0286, -0.0238,  0.0221, -0.0109],\n",
      "        [-0.0077, -0.0518,  0.0458, -0.0451,  0.0159, -0.0320, -0.0539],\n",
      "        [-0.0041,  0.0212, -0.0586,  0.0046, -0.0240, -0.0091, -0.0285],\n",
      "        [-0.0080,  0.0575, -0.0614, -0.0302,  0.0543, -0.0034, -0.0133],\n",
      "        [ 0.0215, -0.0270,  0.0262, -0.0394, -0.0192,  0.0489,  0.0063]],\n",
      "       grad_fn=<SliceBackward>)\n",
      "1.5056633949279785\n",
      "tensor([[ 0.0615,  0.0484,  0.0628, -0.0051, -0.0534, -0.0412, -0.0170],\n",
      "        [ 0.0085, -0.0208, -0.0369, -0.0051,  0.0404,  0.0530, -0.0316],\n",
      "        [-0.0367, -0.0028,  0.0282,  0.0287, -0.0237,  0.0220, -0.0110],\n",
      "        [-0.0078, -0.0517,  0.0459, -0.0451,  0.0158, -0.0321, -0.0540],\n",
      "        [-0.0040,  0.0213, -0.0585,  0.0045, -0.0241, -0.0092, -0.0286],\n",
      "        [-0.0079,  0.0576, -0.0613, -0.0301,  0.0542, -0.0035, -0.0134],\n",
      "        [ 0.0216, -0.0269,  0.0263, -0.0393, -0.0191,  0.0488,  0.0062]],\n",
      "       grad_fn=<SliceBackward>)\n"
     ]
    }
   ],
   "source": [
    "seed_everything(12345)\n",
    "model = Network(device, 1)\n",
    "optimizer_algorithm = optim.Adam(filter(lambda p: p.requires_grad, model.parameters()), lr=1e-4)\n",
    "lr_scheduler = optim.lr_scheduler.ReduceLROnPlateau(optimizer_algorithm, mode='min', factor=0.1, patience=7)\n",
    "print(list(model.parameters())[0][0,0,:])\n",
    "\n",
    "training = True\n",
    "model.train()           # initialises training stage/functions\n",
    "mean_loss = 0\n",
    "\n",
    "starting_point = 0\n",
    "model.reset_hidden(batch_size=batch_images.size()[0], training=True)\n",
    "\n",
    "lr_scheduler.optimizer.zero_grad()\n",
    "for future_frame_idx in range(num_output_frames):\n",
    "    if future_frame_idx == 0:\n",
    "        input_frames = batch_images[:, starting_point * num_channels:(starting_point + num_input_frames) * num_channels, :, :].clone()\n",
    "        output_frames, target_frames = initial_input(model, input_frames, batch_images, starting_point, num_input_frames, num_channels, device, training) \n",
    "    elif future_frame_idx == reinsert_frequency:\n",
    "        input_frames = output_frames[:, -num_input_frames * num_channels:, :, :].clone()\n",
    "        output_frames, target_frames = reinsert(model, input_frames, output_frames, target_frames, batch_images, \n",
    "                                                starting_point, num_input_frames, future_frame_idx, num_channels, device, training)\n",
    "    else:\n",
    "        output_frames, target_frames = propagate(model, output_frames, target_frames, batch_images, starting_point, \n",
    "                                                 num_input_frames, future_frame_idx, num_channels, device, training)\n",
    "#     print(output_frames.size())\n",
    "loss = F.mse_loss(output_frames, target_frames)\n",
    "print(loss.item())\n",
    "loss.backward()\n",
    "lr_scheduler.optimizer.step()\n",
    "print(list(model.parameters())[0][0,0,:])"
   ]
  },
  {
   "cell_type": "raw",
   "metadata": {},
   "source": [
    "tensor([[ 0.0616,  0.0485,  0.0629, -0.0050, -0.0533, -0.0411, -0.0169],\n",
    "        [ 0.0086, -0.0207, -0.0368, -0.0052,  0.0403,  0.0531, -0.0315],\n",
    "        [-0.0366, -0.0029,  0.0281,  0.0286, -0.0238,  0.0221, -0.0109],\n",
    "        [-0.0077, -0.0518,  0.0458, -0.0451,  0.0159, -0.0320, -0.0539],\n",
    "        [-0.0041,  0.0212, -0.0586,  0.0046, -0.0240, -0.0091, -0.0285],\n",
    "        [-0.0080,  0.0575, -0.0614, -0.0302,  0.0543, -0.0034, -0.0133],\n",
    "        [ 0.0215, -0.0270,  0.0262, -0.0394, -0.0192,  0.0489,  0.0063]],\n",
    "       grad_fn=<SliceBackward>)\n",
    "1.5056633949279785\n",
    "tensor([[ 0.0615,  0.0484,  0.0628, -0.0051, -0.0534, -0.0412, -0.0170],\n",
    "        [ 0.0085, -0.0208, -0.0369, -0.0051,  0.0404,  0.0530, -0.0316],\n",
    "        [-0.0367, -0.0028,  0.0282,  0.0287, -0.0237,  0.0220, -0.0110],\n",
    "        [-0.0078, -0.0517,  0.0459, -0.0451,  0.0158, -0.0321, -0.0540],\n",
    "        [-0.0040,  0.0213, -0.0585,  0.0045, -0.0241, -0.0092, -0.0286],\n",
    "        [-0.0079,  0.0576, -0.0613, -0.0301,  0.0542, -0.0035, -0.0134],\n",
    "        [ 0.0216, -0.0269,  0.0263, -0.0393, -0.0191,  0.0488,  0.0062]],\n",
    "       grad_fn=<SliceBackward>)"
   ]
  },
  {
   "cell_type": "code",
   "execution_count": 111,
   "metadata": {},
   "outputs": [
    {
     "name": "stdout",
     "output_type": "stream",
     "text": [
      "tensor([[ 0.0616,  0.0485,  0.0629, -0.0050, -0.0533, -0.0411, -0.0169],\n",
      "        [ 0.0086, -0.0207, -0.0368, -0.0052,  0.0403,  0.0531, -0.0315],\n",
      "        [-0.0366, -0.0029,  0.0281,  0.0286, -0.0238,  0.0221, -0.0109],\n",
      "        [-0.0077, -0.0518,  0.0458, -0.0451,  0.0159, -0.0320, -0.0539],\n",
      "        [-0.0041,  0.0212, -0.0586,  0.0046, -0.0240, -0.0091, -0.0285],\n",
      "        [-0.0080,  0.0575, -0.0614, -0.0302,  0.0543, -0.0034, -0.0133],\n",
      "        [ 0.0215, -0.0270,  0.0262, -0.0394, -0.0192,  0.0489,  0.0063]],\n",
      "       grad_fn=<SliceBackward>)\n",
      "1.5056633949279785\n",
      "tensor([[ 0.0615,  0.0484,  0.0628, -0.0051, -0.0534, -0.0412, -0.0170],\n",
      "        [ 0.0085, -0.0208, -0.0369, -0.0051,  0.0404,  0.0530, -0.0316],\n",
      "        [-0.0367, -0.0028,  0.0282,  0.0287, -0.0237,  0.0220, -0.0110],\n",
      "        [-0.0078, -0.0517,  0.0459, -0.0451,  0.0158, -0.0321, -0.0540],\n",
      "        [-0.0040,  0.0213, -0.0585,  0.0045, -0.0241, -0.0092, -0.0286],\n",
      "        [-0.0079,  0.0576, -0.0613, -0.0301,  0.0542, -0.0035, -0.0134],\n",
      "        [ 0.0216, -0.0269,  0.0263, -0.0393, -0.0191,  0.0488,  0.0062]],\n",
      "       grad_fn=<SliceBackward>)\n"
     ]
    }
   ],
   "source": [
    "seed_everything(12345)\n",
    "from models.AR_LSTM import AR_LSTM\n",
    "model2 = AR_LSTM(num_input_frames, num_output_frames, reinsert_frequency, device)\n",
    "optimizer_algorithm2 = optim.Adam(filter(lambda p: p.requires_grad, model2.parameters()), lr=1e-4)\n",
    "lr_scheduler2 = optim.lr_scheduler.ReduceLROnPlateau(optimizer_algorithm2, mode='min', factor=0.1, patience=7)\n",
    "print(list(model2.parameters())[0][0,0,:])\n",
    "input_frames = batch_images[:, starting_point * num_channels:(starting_point + num_input_frames) * num_channels, :, :].clone()\n",
    "output_frames = model2.get_future_frames(input_frames, num_output_frames)\n",
    "loss2 = F.mse_loss(output_frames, target_frames)\n",
    "print(loss2.item())\n",
    "loss2.backward()\n",
    "lr_scheduler2.optimizer.step()\n",
    "print(list(model2.parameters())[0][0,0,:])"
   ]
  },
  {
   "cell_type": "code",
   "execution_count": null,
   "metadata": {},
   "outputs": [],
   "source": []
  }
 ],
 "metadata": {
  "kernelspec": {
   "display_name": "Python 3",
   "language": "python",
   "name": "python3"
  },
  "language_info": {
   "codemirror_mode": {
    "name": "ipython",
    "version": 3
   },
   "file_extension": ".py",
   "mimetype": "text/x-python",
   "name": "python",
   "nbconvert_exporter": "python",
   "pygments_lexer": "ipython3",
   "version": "3.6.8"
  }
 },
 "nbformat": 4,
 "nbformat_minor": 2
}
