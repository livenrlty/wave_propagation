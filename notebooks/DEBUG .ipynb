{
 "cells": [
  {
   "cell_type": "code",
   "execution_count": 6,
   "metadata": {},
   "outputs": [],
   "source": [
    "import seaborn as sns\n",
    "import matplotlib.pyplot as plt\n",
    "import numpy as np\n",
    "import pandas as pd\n",
    "import sys\n",
    "sys.path.append('..')"
   ]
  },
  {
   "cell_type": "code",
   "execution_count": 7,
   "metadata": {},
   "outputs": [],
   "source": [
    "x = np.arange(1, 10)\n",
    "y = x * 10\n",
    "data = pd.DataFrame(data={'x': x, 'y': y})"
   ]
  },
  {
   "cell_type": "code",
   "execution_count": 8,
   "metadata": {},
   "outputs": [
    {
     "data": {
      "text/plain": [
       "<matplotlib.axes._subplots.AxesSubplot at 0x1a187adac8>"
      ]
     },
     "execution_count": 8,
     "metadata": {},
     "output_type": "execute_result"
    },
    {
     "data": {
      "image/png": "[encoded data removed]",
      "text/plain": [
       "<Figure size 432x288 with 1 Axes>"
      ]
     },
     "metadata": {
      "needs_background": "light"
     },
     "output_type": "display_data"
    }
   ],
   "source": [
    "fig = plt.figure().add_axes()\n",
    "ax = plt.gca()\n",
    "ax.set(yscale='log')\n",
    "sns.lineplot(x='x', y='y', data=data)"
   ]
  },
  {
   "cell_type": "code",
   "execution_count": null,
   "metadata": {},
   "outputs": [],
   "source": []
  },
  {
   "cell_type": "code",
   "execution_count": 13,
   "metadata": {},
   "outputs": [],
   "source": [
    "from utils.io import load\n",
    "fn = '/Users/stathis/Code/thesis/wave_propagation/experiments_results/convlstm_batch_8_samples_5_in_5_out_10_normal_lr_0.001//pickles/metadata.pickle.json'"
   ]
  },
  {
   "cell_type": "code",
   "execution_count": 14,
   "metadata": {},
   "outputs": [],
   "source": [
    "# load(fn)"
   ]
  },
  {
   "cell_type": "code",
   "execution_count": 15,
   "metadata": {},
   "outputs": [],
   "source": [
    "import json\n",
    "import jsons\n",
    "with open(fn) as f:\n",
    "    dd = json.load(f)"
   ]
  },
  {
   "cell_type": "code",
   "execution_count": 16,
   "metadata": {},
   "outputs": [
    {
     "name": "stdout",
     "output_type": "stream",
     "text": [
      "0 90\n",
      "10 80\n",
      "20 70\n",
      "30 60\n",
      "40 50\n",
      "50 40\n",
      "60 30\n",
      "70 20\n",
      "80 10\n",
      "90 0\n"
     ]
    }
   ],
   "source": [
    "import math \n",
    "num_total_frames = 100\n",
    "num_output_frames = 10\n",
    "num_input_frames = 5\n",
    "for starting_point in range(0, num_total_frames, 10):\n",
    "    num_requested_output_frames = math.floor(math.floor((num_total_frames - num_input_frames - \n",
    "                                              starting_point) / num_output_frames) * num_output_frames / 10) * 10\n",
    "    print(starting_point, num_requested_output_frames)"
   ]
  },
  {
   "cell_type": "code",
   "execution_count": 22,
   "metadata": {},
   "outputs": [],
   "source": [
    "from models.ConvLSTM import get_convlstm_model\n",
    "modelCL = get_convlstm_model(5, 10, 2, 'cpu')\n",
    "# summary(modelCL, (10,128,128), batch_size=16, device='cpu')"
   ]
  },
  {
   "cell_type": "code",
   "execution_count": 23,
   "metadata": {},
   "outputs": [],
   "source": [
    "from torchsummary import summary"
   ]
  },
  {
   "cell_type": "code",
   "execution_count": 24,
   "metadata": {},
   "outputs": [],
   "source": [
    "class argsclass():\n",
    "    pass\n",
    "args = argsclass()"
   ]
  },
  {
   "cell_type": "code",
   "execution_count": 71,
   "metadata": {
    "scrolled": false
   },
   "outputs": [
    {
     "name": "stderr",
     "output_type": "stream",
     "text": [
      "Experiment convlstm_batch_8_samples_5_in_5_out_10_normal_lr_0.001\n",
      "Creating directories\n",
      "use CPU\n",
      "Loading datasets\n",
      "Loading model /Users/stathis/Code/thesis/wave_propagation/experiments_results/convlstm_batch_8_samples_5_in_5_out_10_normal_lr_0.001/models/model_best.pt\n"
     ]
    }
   ],
   "source": [
    "import sys\n",
    "sys.path.append('..')\n",
    "sys.path.append('../..')\n",
    "import logging\n",
    "import torch\n",
    "import os\n",
    "import matplotlib.pyplot as plt\n",
    "from models.ConvLSTM import get_convlstm_model\n",
    "from utils.experiment import Experiment\n",
    "from utils.arg_extract import get_args\n",
    "plt.ioff()\n",
    "\n",
    "logging.basicConfig(format='%(message)s', level=logging.INFO)\n",
    "\n",
    "# args = get_args_test()\n",
    "args.experiment_name='convlstm_batch_8_samples_5_in_5_out_10_normal_lr_0.001' \n",
    "args.num_workers = 1\n",
    "args.batch_size=1\n",
    "args.normalizer_type='normal'\n",
    "args.test_starting_point=15\n",
    "args.show_plots=True\n",
    "args.debug=True\n",
    "args.num_epochs = 100\n",
    "args.dataset='original'\n",
    "\n",
    "experiment = Experiment(args)\n",
    "experiment.load_from_disk(test=True)"
   ]
  },
  {
   "cell_type": "code",
   "execution_count": 72,
   "metadata": {},
   "outputs": [
    {
     "data": {
      "text/plain": [
       "EncoderForecaster(\n",
       "  (encoder): Encoder(\n",
       "    (stage1): Sequential(\n",
       "      (conv1_leaky_1): Conv2d(1, 8, kernel_size=(3, 3), stride=(2, 2), padding=(1, 1))\n",
       "      (leaky_conv1_leaky_1): LeakyReLU(negative_slope=0.2, inplace)\n",
       "    )\n",
       "    (rnn1): ConvLSTMCell(\n",
       "      (_conv): Conv2d(72, 256, kernel_size=(3, 3), stride=(1, 1), padding=(1, 1))\n",
       "    )\n",
       "    (stage2): Sequential(\n",
       "      (conv2_leaky_1): Conv2d(64, 192, kernel_size=(3, 3), stride=(2, 2), padding=(1, 1))\n",
       "      (leaky_conv2_leaky_1): LeakyReLU(negative_slope=0.2, inplace)\n",
       "    )\n",
       "    (rnn2): ConvLSTMCell(\n",
       "      (_conv): Conv2d(384, 768, kernel_size=(3, 3), stride=(1, 1), padding=(1, 1))\n",
       "    )\n",
       "    (stage3): Sequential(\n",
       "      (conv3_leaky_1): Conv2d(192, 192, kernel_size=(3, 3), stride=(2, 2), padding=(1, 1))\n",
       "      (leaky_conv3_leaky_1): LeakyReLU(negative_slope=0.2, inplace)\n",
       "    )\n",
       "    (rnn3): ConvLSTMCell(\n",
       "      (_conv): Conv2d(384, 768, kernel_size=(3, 3), stride=(1, 1), padding=(1, 1))\n",
       "    )\n",
       "  )\n",
       "  (forecaster): Forecaster(\n",
       "    (rnn3): ConvLSTMCell(\n",
       "      (_conv): Conv2d(384, 768, kernel_size=(3, 3), stride=(1, 1), padding=(1, 1))\n",
       "    )\n",
       "    (stage3): Sequential(\n",
       "      (deconv1_leaky_1): ConvTranspose2d(192, 192, kernel_size=(4, 4), stride=(2, 2), padding=(1, 1))\n",
       "      (leaky_deconv1_leaky_1): LeakyReLU(negative_slope=0.2, inplace)\n",
       "    )\n",
       "    (rnn2): ConvLSTMCell(\n",
       "      (_conv): Conv2d(384, 768, kernel_size=(3, 3), stride=(1, 1), padding=(1, 1))\n",
       "    )\n",
       "    (stage2): Sequential(\n",
       "      (deconv2_leaky_1): ConvTranspose2d(192, 64, kernel_size=(4, 4), stride=(2, 2), padding=(1, 1))\n",
       "      (leaky_deconv2_leaky_1): LeakyReLU(negative_slope=0.2, inplace)\n",
       "    )\n",
       "    (rnn1): ConvLSTMCell(\n",
       "      (_conv): Conv2d(128, 256, kernel_size=(3, 3), stride=(1, 1), padding=(1, 1))\n",
       "    )\n",
       "    (stage1): Sequential(\n",
       "      (deconv3_leaky_1): ConvTranspose2d(64, 8, kernel_size=(4, 4), stride=(2, 2), padding=(1, 1))\n",
       "      (leaky_deconv3_leaky_1): LeakyReLU(negative_slope=0.2, inplace)\n",
       "      (conv3_leaky_2): Conv2d(8, 8, kernel_size=(3, 3), stride=(1, 1), padding=(1, 1))\n",
       "      (leaky_conv3_leaky_2): LeakyReLU(negative_slope=0.2, inplace)\n",
       "      (conv3_3): Conv2d(8, 1, kernel_size=(1, 1), stride=(1, 1))\n",
       "    )\n",
       "  )\n",
       ")"
      ]
     },
     "execution_count": 72,
     "metadata": {},
     "output_type": "execute_result"
    }
   ],
   "source": [
    "experiment.model"
   ]
  },
  {
   "cell_type": "code",
   "execution_count": 73,
   "metadata": {},
   "outputs": [],
   "source": [
    "batch = next(iter(experiment.dataloaders['train']))"
   ]
  },
  {
   "cell_type": "code",
   "execution_count": 74,
   "metadata": {},
   "outputs": [
    {
     "data": {
      "text/plain": [
       "torch.Size([1, 100, 128, 128])"
      ]
     },
     "execution_count": 74,
     "metadata": {},
     "output_type": "execute_result"
    }
   ],
   "source": [
    "batch.size()"
   ]
  },
  {
   "cell_type": "code",
   "execution_count": 77,
   "metadata": {},
   "outputs": [],
   "source": [
    "from utils.helper_functions import convert_BSHW_to_SBCHW, convert_SBCHW_to_BSHW"
   ]
  },
  {
   "cell_type": "code",
   "execution_count": 80,
   "metadata": {},
   "outputs": [
    {
     "name": "stdout",
     "output_type": "stream",
     "text": [
      "new forward\n",
      "convlstm output:  torch.Size([1, 64, 64, 64])\n",
      "convlstm output:  torch.Size([1, 64, 64, 64])\n",
      "convlstm output:  torch.Size([1, 64, 64, 64])\n",
      "convlstm output:  torch.Size([1, 64, 64, 64])\n",
      "convlstm output:  torch.Size([1, 64, 64, 64])\n",
      "new forward\n",
      "convlstm output:  torch.Size([1, 192, 32, 32])\n",
      "convlstm output:  torch.Size([1, 192, 32, 32])\n",
      "convlstm output:  torch.Size([1, 192, 32, 32])\n",
      "convlstm output:  torch.Size([1, 192, 32, 32])\n",
      "convlstm output:  torch.Size([1, 192, 32, 32])\n",
      "new forward\n",
      "convlstm output:  torch.Size([1, 192, 16, 16])\n",
      "convlstm output:  torch.Size([1, 192, 16, 16])\n",
      "convlstm output:  torch.Size([1, 192, 16, 16])\n",
      "convlstm output:  torch.Size([1, 192, 16, 16])\n",
      "convlstm output:  torch.Size([1, 192, 16, 16])\n"
     ]
    },
    {
     "data": {
      "text/plain": [
       "torch.Size([1, 64, 64, 64])"
      ]
     },
     "execution_count": 80,
     "metadata": {},
     "output_type": "execute_result"
    }
   ],
   "source": [
    "experiment.model.encoder(convert_BSHW_to_SBCHW(batch))[0][0].size()"
   ]
  },
  {
   "cell_type": "code",
   "execution_count": 91,
   "metadata": {},
   "outputs": [
    {
     "name": "stdout",
     "output_type": "stream",
     "text": [
      "new forward\n",
      "convlstm output:  torch.Size([1, 64, 64, 64])\n",
      "convlstm output:  torch.Size([1, 64, 64, 64])\n",
      "convlstm output:  torch.Size([1, 64, 64, 64])\n",
      "convlstm output:  torch.Size([1, 64, 64, 64])\n",
      "convlstm output:  torch.Size([1, 64, 64, 64])\n",
      "new forward\n",
      "convlstm output:  torch.Size([1, 192, 32, 32])\n",
      "convlstm output:  torch.Size([1, 192, 32, 32])\n",
      "convlstm output:  torch.Size([1, 192, 32, 32])\n",
      "convlstm output:  torch.Size([1, 192, 32, 32])\n",
      "convlstm output:  torch.Size([1, 192, 32, 32])\n",
      "new forward\n",
      "convlstm output:  torch.Size([1, 192, 16, 16])\n",
      "convlstm output:  torch.Size([1, 192, 16, 16])\n",
      "convlstm output:  torch.Size([1, 192, 16, 16])\n",
      "convlstm output:  torch.Size([1, 192, 16, 16])\n",
      "convlstm output:  torch.Size([1, 192, 16, 16])\n",
      "new forward\n",
      "convlstm output:  torch.Size([1, 192, 16, 16])\n",
      "convlstm output:  torch.Size([1, 192, 16, 16])\n",
      "convlstm output:  torch.Size([1, 192, 16, 16])\n",
      "convlstm output:  torch.Size([1, 192, 16, 16])\n",
      "convlstm output:  torch.Size([1, 192, 16, 16])\n",
      "convlstm output:  torch.Size([1, 192, 16, 16])\n",
      "convlstm output:  torch.Size([1, 192, 16, 16])\n",
      "convlstm output:  torch.Size([1, 192, 16, 16])\n",
      "convlstm output:  torch.Size([1, 192, 16, 16])\n",
      "convlstm output:  torch.Size([1, 192, 16, 16])\n",
      "new forward\n",
      "convlstm output:  torch.Size([1, 192, 32, 32])\n",
      "convlstm output:  torch.Size([1, 192, 32, 32])\n",
      "convlstm output:  torch.Size([1, 192, 32, 32])\n",
      "convlstm output:  torch.Size([1, 192, 32, 32])\n",
      "convlstm output:  torch.Size([1, 192, 32, 32])\n",
      "convlstm output:  torch.Size([1, 192, 32, 32])\n",
      "convlstm output:  torch.Size([1, 192, 32, 32])\n",
      "convlstm output:  torch.Size([1, 192, 32, 32])\n",
      "convlstm output:  torch.Size([1, 192, 32, 32])\n",
      "convlstm output:  torch.Size([1, 192, 32, 32])\n",
      "new forward\n",
      "convlstm output:  torch.Size([1, 64, 64, 64])\n",
      "convlstm output:  torch.Size([1, 64, 64, 64])\n",
      "convlstm output:  torch.Size([1, 64, 64, 64])\n",
      "convlstm output:  torch.Size([1, 64, 64, 64])\n",
      "convlstm output:  torch.Size([1, 64, 64, 64])\n",
      "convlstm output:  torch.Size([1, 64, 64, 64])\n",
      "convlstm output:  torch.Size([1, 64, 64, 64])\n",
      "convlstm output:  torch.Size([1, 64, 64, 64])\n",
      "convlstm output:  torch.Size([1, 64, 64, 64])\n",
      "convlstm output:  torch.Size([1, 64, 64, 64])\n"
     ]
    },
    {
     "data": {
      "text/plain": [
       "torch.Size([1, 10, 128, 128])"
      ]
     },
     "execution_count": 91,
     "metadata": {},
     "output_type": "execute_result"
    }
   ],
   "source": [
    "experiment.model(batch).size()"
   ]
  },
  {
   "cell_type": "code",
   "execution_count": 92,
   "metadata": {
    "scrolled": false
   },
   "outputs": [
    {
     "name": "stdout",
     "output_type": "stream",
     "text": [
      "new forward\n",
      "convlstm output:  torch.Size([1, 64, 64, 64])\n",
      "convlstm output:  torch.Size([1, 64, 64, 64])\n",
      "convlstm output:  torch.Size([1, 64, 64, 64])\n",
      "convlstm output:  torch.Size([1, 64, 64, 64])\n",
      "convlstm output:  torch.Size([1, 64, 64, 64])\n",
      "new forward\n",
      "convlstm output:  torch.Size([1, 192, 32, 32])\n",
      "convlstm output:  torch.Size([1, 192, 32, 32])\n",
      "convlstm output:  torch.Size([1, 192, 32, 32])\n",
      "convlstm output:  torch.Size([1, 192, 32, 32])\n",
      "convlstm output:  torch.Size([1, 192, 32, 32])\n",
      "new forward\n",
      "convlstm output:  torch.Size([1, 192, 16, 16])\n",
      "convlstm output:  torch.Size([1, 192, 16, 16])\n",
      "convlstm output:  torch.Size([1, 192, 16, 16])\n",
      "convlstm output:  torch.Size([1, 192, 16, 16])\n",
      "convlstm output:  torch.Size([1, 192, 16, 16])\n",
      "new forward\n",
      "convlstm output:  torch.Size([1, 192, 16, 16])\n",
      "convlstm output:  torch.Size([1, 192, 16, 16])\n",
      "convlstm output:  torch.Size([1, 192, 16, 16])\n",
      "convlstm output:  torch.Size([1, 192, 16, 16])\n",
      "convlstm output:  torch.Size([1, 192, 16, 16])\n",
      "convlstm output:  torch.Size([1, 192, 16, 16])\n",
      "convlstm output:  torch.Size([1, 192, 16, 16])\n",
      "convlstm output:  torch.Size([1, 192, 16, 16])\n",
      "convlstm output:  torch.Size([1, 192, 16, 16])\n",
      "convlstm output:  torch.Size([1, 192, 16, 16])\n",
      "new forward\n",
      "convlstm output:  torch.Size([1, 192, 32, 32])\n",
      "convlstm output:  torch.Size([1, 192, 32, 32])\n",
      "convlstm output:  torch.Size([1, 192, 32, 32])\n",
      "convlstm output:  torch.Size([1, 192, 32, 32])\n",
      "convlstm output:  torch.Size([1, 192, 32, 32])\n",
      "convlstm output:  torch.Size([1, 192, 32, 32])\n",
      "convlstm output:  torch.Size([1, 192, 32, 32])\n",
      "convlstm output:  torch.Size([1, 192, 32, 32])\n",
      "convlstm output:  torch.Size([1, 192, 32, 32])\n",
      "convlstm output:  torch.Size([1, 192, 32, 32])\n",
      "new forward\n",
      "convlstm output:  torch.Size([1, 64, 64, 64])\n",
      "convlstm output:  torch.Size([1, 64, 64, 64])\n",
      "convlstm output:  torch.Size([1, 64, 64, 64])\n",
      "convlstm output:  torch.Size([1, 64, 64, 64])\n",
      "convlstm output:  torch.Size([1, 64, 64, 64])\n",
      "convlstm output:  torch.Size([1, 64, 64, 64])\n",
      "convlstm output:  torch.Size([1, 64, 64, 64])\n",
      "convlstm output:  torch.Size([1, 64, 64, 64])\n",
      "convlstm output:  torch.Size([1, 64, 64, 64])\n",
      "convlstm output:  torch.Size([1, 64, 64, 64])\n",
      "CONVLSTM OUTPUT FRAMES SIZE torch.Size([1, 10, 128, 128])\n",
      "new forward\n",
      "convlstm output:  torch.Size([1, 64, 64, 64])\n",
      "convlstm output:  torch.Size([1, 64, 64, 64])\n",
      "convlstm output:  torch.Size([1, 64, 64, 64])\n",
      "convlstm output:  torch.Size([1, 64, 64, 64])\n",
      "convlstm output:  torch.Size([1, 64, 64, 64])\n",
      "new forward\n",
      "convlstm output:  torch.Size([1, 192, 32, 32])\n",
      "convlstm output:  torch.Size([1, 192, 32, 32])\n",
      "convlstm output:  torch.Size([1, 192, 32, 32])\n",
      "convlstm output:  torch.Size([1, 192, 32, 32])\n",
      "convlstm output:  torch.Size([1, 192, 32, 32])\n",
      "new forward\n",
      "convlstm output:  torch.Size([1, 192, 16, 16])\n",
      "convlstm output:  torch.Size([1, 192, 16, 16])\n",
      "convlstm output:  torch.Size([1, 192, 16, 16])\n",
      "convlstm output:  torch.Size([1, 192, 16, 16])\n",
      "convlstm output:  torch.Size([1, 192, 16, 16])\n",
      "new forward\n",
      "convlstm output:  torch.Size([1, 192, 16, 16])\n",
      "convlstm output:  torch.Size([1, 192, 16, 16])\n",
      "convlstm output:  torch.Size([1, 192, 16, 16])\n",
      "convlstm output:  torch.Size([1, 192, 16, 16])\n",
      "convlstm output:  torch.Size([1, 192, 16, 16])\n",
      "convlstm output:  torch.Size([1, 192, 16, 16])\n",
      "convlstm output:  torch.Size([1, 192, 16, 16])\n",
      "convlstm output:  torch.Size([1, 192, 16, 16])\n",
      "convlstm output:  torch.Size([1, 192, 16, 16])\n",
      "convlstm output:  torch.Size([1, 192, 16, 16])\n",
      "new forward\n",
      "convlstm output:  torch.Size([1, 192, 32, 32])\n",
      "convlstm output:  torch.Size([1, 192, 32, 32])\n",
      "convlstm output:  torch.Size([1, 192, 32, 32])\n",
      "convlstm output:  torch.Size([1, 192, 32, 32])\n",
      "convlstm output:  torch.Size([1, 192, 32, 32])\n",
      "convlstm output:  torch.Size([1, 192, 32, 32])\n",
      "convlstm output:  torch.Size([1, 192, 32, 32])\n",
      "convlstm output:  torch.Size([1, 192, 32, 32])\n",
      "convlstm output:  torch.Size([1, 192, 32, 32])\n",
      "convlstm output:  torch.Size([1, 192, 32, 32])\n",
      "new forward\n",
      "convlstm output:  torch.Size([1, 64, 64, 64])\n",
      "convlstm output:  torch.Size([1, 64, 64, 64])\n",
      "convlstm output:  torch.Size([1, 64, 64, 64])\n",
      "convlstm output:  torch.Size([1, 64, 64, 64])\n",
      "convlstm output:  torch.Size([1, 64, 64, 64])\n",
      "convlstm output:  torch.Size([1, 64, 64, 64])\n",
      "convlstm output:  torch.Size([1, 64, 64, 64])\n",
      "convlstm output:  torch.Size([1, 64, 64, 64])\n",
      "convlstm output:  torch.Size([1, 64, 64, 64])\n",
      "convlstm output:  torch.Size([1, 64, 64, 64])\n",
      "CONVLSTM OUTPUT FRAMES SIZE torch.Size([1, 20, 128, 128])\n"
     ]
    },
    {
     "data": {
      "text/plain": [
       "torch.Size([1, 15, 128, 128])"
      ]
     },
     "execution_count": 92,
     "metadata": {},
     "output_type": "execute_result"
    }
   ],
   "source": [
    "experiment.model.get_future_frames(batch, 15).size()"
   ]
  },
  {
   "cell_type": "code",
   "execution_count": 82,
   "metadata": {},
   "outputs": [],
   "source": [
    "from models.AR_ConvLSTM import get_ar_convlstm_model"
   ]
  },
  {
   "cell_type": "code",
   "execution_count": 83,
   "metadata": {},
   "outputs": [],
   "source": [
    "ar_model = get_ar_convlstm_model(5, 10, 1, 'cpu')"
   ]
  },
  {
   "cell_type": "code",
   "execution_count": 93,
   "metadata": {
    "scrolled": false
   },
   "outputs": [
    {
     "name": "stdout",
     "output_type": "stream",
     "text": [
      "new forward\n",
      "convlstm output:  torch.Size([1, 64, 64, 64])\n",
      "convlstm output:  torch.Size([1, 64, 64, 64])\n",
      "convlstm output:  torch.Size([1, 64, 64, 64])\n",
      "convlstm output:  torch.Size([1, 64, 64, 64])\n",
      "convlstm output:  torch.Size([1, 64, 64, 64])\n",
      "new forward\n",
      "convlstm output:  torch.Size([1, 192, 32, 32])\n",
      "convlstm output:  torch.Size([1, 192, 32, 32])\n",
      "convlstm output:  torch.Size([1, 192, 32, 32])\n",
      "convlstm output:  torch.Size([1, 192, 32, 32])\n",
      "convlstm output:  torch.Size([1, 192, 32, 32])\n",
      "new forward\n",
      "convlstm output:  torch.Size([1, 192, 16, 16])\n",
      "convlstm output:  torch.Size([1, 192, 16, 16])\n",
      "convlstm output:  torch.Size([1, 192, 16, 16])\n",
      "convlstm output:  torch.Size([1, 192, 16, 16])\n",
      "convlstm output:  torch.Size([1, 192, 16, 16])\n",
      "new forward\n",
      "convlstm output:  torch.Size([1, 192, 16, 16])\n",
      "new forward\n",
      "convlstm output:  torch.Size([1, 192, 32, 32])\n",
      "new forward\n",
      "convlstm output:  torch.Size([1, 64, 64, 64])\n"
     ]
    },
    {
     "data": {
      "text/plain": [
       "torch.Size([1, 1, 128, 128])"
      ]
     },
     "execution_count": 93,
     "metadata": {},
     "output_type": "execute_result"
    }
   ],
   "source": [
    "ar_model(batch).size()"
   ]
  },
  {
   "cell_type": "code",
   "execution_count": 95,
   "metadata": {
    "scrolled": false
   },
   "outputs": [
    {
     "name": "stdout",
     "output_type": "stream",
     "text": [
      "new forward\n",
      "convlstm output:  torch.Size([1, 64, 64, 64])\n",
      "convlstm output:  torch.Size([1, 64, 64, 64])\n",
      "convlstm output:  torch.Size([1, 64, 64, 64])\n",
      "convlstm output:  torch.Size([1, 64, 64, 64])\n",
      "convlstm output:  torch.Size([1, 64, 64, 64])\n",
      "new forward\n",
      "convlstm output:  torch.Size([1, 192, 32, 32])\n",
      "convlstm output:  torch.Size([1, 192, 32, 32])\n",
      "convlstm output:  torch.Size([1, 192, 32, 32])\n",
      "convlstm output:  torch.Size([1, 192, 32, 32])\n",
      "convlstm output:  torch.Size([1, 192, 32, 32])\n",
      "new forward\n",
      "convlstm output:  torch.Size([1, 192, 16, 16])\n",
      "convlstm output:  torch.Size([1, 192, 16, 16])\n",
      "convlstm output:  torch.Size([1, 192, 16, 16])\n",
      "convlstm output:  torch.Size([1, 192, 16, 16])\n",
      "convlstm output:  torch.Size([1, 192, 16, 16])\n",
      "new forward\n",
      "convlstm output:  torch.Size([1, 192, 16, 16])\n",
      "new forward\n",
      "convlstm output:  torch.Size([1, 192, 32, 32])\n",
      "new forward\n",
      "convlstm output:  torch.Size([1, 64, 64, 64])\n",
      "CONVLSTM OUTPUT FRAMES SIZE torch.Size([1, 1, 128, 128])\n",
      "new forward\n",
      "convlstm output:  torch.Size([1, 64, 64, 64])\n",
      "convlstm output:  torch.Size([1, 64, 64, 64])\n",
      "convlstm output:  torch.Size([1, 64, 64, 64])\n",
      "convlstm output:  torch.Size([1, 64, 64, 64])\n",
      "convlstm output:  torch.Size([1, 64, 64, 64])\n",
      "new forward\n",
      "convlstm output:  torch.Size([1, 192, 32, 32])\n",
      "convlstm output:  torch.Size([1, 192, 32, 32])\n",
      "convlstm output:  torch.Size([1, 192, 32, 32])\n",
      "convlstm output:  torch.Size([1, 192, 32, 32])\n",
      "convlstm output:  torch.Size([1, 192, 32, 32])\n",
      "new forward\n",
      "convlstm output:  torch.Size([1, 192, 16, 16])\n",
      "convlstm output:  torch.Size([1, 192, 16, 16])\n",
      "convlstm output:  torch.Size([1, 192, 16, 16])\n",
      "convlstm output:  torch.Size([1, 192, 16, 16])\n",
      "convlstm output:  torch.Size([1, 192, 16, 16])\n",
      "new forward\n",
      "convlstm output:  torch.Size([1, 192, 16, 16])\n",
      "new forward\n",
      "convlstm output:  torch.Size([1, 192, 32, 32])\n",
      "new forward\n",
      "convlstm output:  torch.Size([1, 64, 64, 64])\n",
      "CONVLSTM OUTPUT FRAMES SIZE torch.Size([1, 2, 128, 128])\n",
      "new forward\n",
      "convlstm output:  torch.Size([1, 64, 64, 64])\n",
      "convlstm output:  torch.Size([1, 64, 64, 64])\n",
      "convlstm output:  torch.Size([1, 64, 64, 64])\n",
      "convlstm output:  torch.Size([1, 64, 64, 64])\n",
      "convlstm output:  torch.Size([1, 64, 64, 64])\n",
      "new forward\n",
      "convlstm output:  torch.Size([1, 192, 32, 32])\n",
      "convlstm output:  torch.Size([1, 192, 32, 32])\n",
      "convlstm output:  torch.Size([1, 192, 32, 32])\n",
      "convlstm output:  torch.Size([1, 192, 32, 32])\n",
      "convlstm output:  torch.Size([1, 192, 32, 32])\n",
      "new forward\n",
      "convlstm output:  torch.Size([1, 192, 16, 16])\n",
      "convlstm output:  torch.Size([1, 192, 16, 16])\n",
      "convlstm output:  torch.Size([1, 192, 16, 16])\n",
      "convlstm output:  torch.Size([1, 192, 16, 16])\n",
      "convlstm output:  torch.Size([1, 192, 16, 16])\n",
      "new forward\n",
      "convlstm output:  torch.Size([1, 192, 16, 16])\n",
      "new forward\n",
      "convlstm output:  torch.Size([1, 192, 32, 32])\n",
      "new forward\n",
      "convlstm output:  torch.Size([1, 64, 64, 64])\n",
      "CONVLSTM OUTPUT FRAMES SIZE torch.Size([1, 3, 128, 128])\n",
      "new forward\n",
      "convlstm output:  torch.Size([1, 64, 64, 64])\n",
      "convlstm output:  torch.Size([1, 64, 64, 64])\n",
      "convlstm output:  torch.Size([1, 64, 64, 64])\n",
      "convlstm output:  torch.Size([1, 64, 64, 64])\n",
      "convlstm output:  torch.Size([1, 64, 64, 64])\n",
      "new forward\n",
      "convlstm output:  torch.Size([1, 192, 32, 32])\n",
      "convlstm output:  torch.Size([1, 192, 32, 32])\n",
      "convlstm output:  torch.Size([1, 192, 32, 32])\n",
      "convlstm output:  torch.Size([1, 192, 32, 32])\n",
      "convlstm output:  torch.Size([1, 192, 32, 32])\n",
      "new forward\n",
      "convlstm output:  torch.Size([1, 192, 16, 16])\n",
      "convlstm output:  torch.Size([1, 192, 16, 16])\n",
      "convlstm output:  torch.Size([1, 192, 16, 16])\n",
      "convlstm output:  torch.Size([1, 192, 16, 16])\n",
      "convlstm output:  torch.Size([1, 192, 16, 16])\n",
      "new forward\n",
      "convlstm output:  torch.Size([1, 192, 16, 16])\n",
      "new forward\n",
      "convlstm output:  torch.Size([1, 192, 32, 32])\n",
      "new forward\n",
      "convlstm output:  torch.Size([1, 64, 64, 64])\n",
      "CONVLSTM OUTPUT FRAMES SIZE torch.Size([1, 4, 128, 128])\n",
      "new forward\n",
      "convlstm output:  torch.Size([1, 64, 64, 64])\n",
      "convlstm output:  torch.Size([1, 64, 64, 64])\n",
      "convlstm output:  torch.Size([1, 64, 64, 64])\n",
      "convlstm output:  torch.Size([1, 64, 64, 64])\n",
      "convlstm output:  torch.Size([1, 64, 64, 64])\n",
      "new forward\n",
      "convlstm output:  torch.Size([1, 192, 32, 32])\n",
      "convlstm output:  torch.Size([1, 192, 32, 32])\n",
      "convlstm output:  torch.Size([1, 192, 32, 32])\n",
      "convlstm output:  torch.Size([1, 192, 32, 32])\n",
      "convlstm output:  torch.Size([1, 192, 32, 32])\n",
      "new forward\n",
      "convlstm output:  torch.Size([1, 192, 16, 16])\n",
      "convlstm output:  torch.Size([1, 192, 16, 16])\n",
      "convlstm output:  torch.Size([1, 192, 16, 16])\n",
      "convlstm output:  torch.Size([1, 192, 16, 16])\n",
      "convlstm output:  torch.Size([1, 192, 16, 16])\n",
      "new forward\n",
      "convlstm output:  torch.Size([1, 192, 16, 16])\n",
      "new forward\n",
      "convlstm output:  torch.Size([1, 192, 32, 32])\n",
      "new forward\n",
      "convlstm output:  torch.Size([1, 64, 64, 64])\n",
      "CONVLSTM OUTPUT FRAMES SIZE torch.Size([1, 5, 128, 128])\n",
      "new forward\n",
      "convlstm output:  torch.Size([1, 64, 64, 64])\n",
      "convlstm output:  torch.Size([1, 64, 64, 64])\n",
      "convlstm output:  torch.Size([1, 64, 64, 64])\n",
      "convlstm output:  torch.Size([1, 64, 64, 64])\n",
      "convlstm output:  torch.Size([1, 64, 64, 64])\n",
      "new forward\n",
      "convlstm output:  torch.Size([1, 192, 32, 32])\n",
      "convlstm output:  torch.Size([1, 192, 32, 32])\n",
      "convlstm output:  torch.Size([1, 192, 32, 32])\n",
      "convlstm output:  torch.Size([1, 192, 32, 32])\n",
      "convlstm output:  torch.Size([1, 192, 32, 32])\n",
      "new forward\n",
      "convlstm output:  torch.Size([1, 192, 16, 16])\n",
      "convlstm output:  torch.Size([1, 192, 16, 16])\n",
      "convlstm output:  torch.Size([1, 192, 16, 16])\n",
      "convlstm output:  torch.Size([1, 192, 16, 16])\n",
      "convlstm output:  torch.Size([1, 192, 16, 16])\n",
      "new forward\n",
      "convlstm output:  torch.Size([1, 192, 16, 16])\n",
      "new forward\n",
      "convlstm output:  torch.Size([1, 192, 32, 32])\n",
      "new forward\n",
      "convlstm output:  torch.Size([1, 64, 64, 64])\n",
      "CONVLSTM OUTPUT FRAMES SIZE torch.Size([1, 6, 128, 128])\n",
      "new forward\n",
      "convlstm output:  torch.Size([1, 64, 64, 64])\n",
      "convlstm output:  torch.Size([1, 64, 64, 64])\n",
      "convlstm output:  torch.Size([1, 64, 64, 64])\n",
      "convlstm output:  torch.Size([1, 64, 64, 64])\n",
      "convlstm output:  torch.Size([1, 64, 64, 64])\n",
      "new forward\n",
      "convlstm output:  torch.Size([1, 192, 32, 32])\n",
      "convlstm output:  torch.Size([1, 192, 32, 32])\n",
      "convlstm output:  torch.Size([1, 192, 32, 32])\n",
      "convlstm output:  torch.Size([1, 192, 32, 32])\n",
      "convlstm output:  torch.Size([1, 192, 32, 32])\n",
      "new forward\n",
      "convlstm output:  torch.Size([1, 192, 16, 16])\n",
      "convlstm output:  torch.Size([1, 192, 16, 16])\n",
      "convlstm output:  torch.Size([1, 192, 16, 16])\n",
      "convlstm output:  torch.Size([1, 192, 16, 16])\n",
      "convlstm output:  torch.Size([1, 192, 16, 16])\n",
      "new forward\n",
      "convlstm output:  torch.Size([1, 192, 16, 16])\n",
      "new forward\n",
      "convlstm output:  torch.Size([1, 192, 32, 32])\n",
      "new forward\n",
      "convlstm output:  torch.Size([1, 64, 64, 64])\n",
      "CONVLSTM OUTPUT FRAMES SIZE torch.Size([1, 7, 128, 128])\n",
      "new forward\n",
      "convlstm output:  torch.Size([1, 64, 64, 64])\n",
      "convlstm output:  torch.Size([1, 64, 64, 64])\n",
      "convlstm output:  torch.Size([1, 64, 64, 64])\n",
      "convlstm output:  torch.Size([1, 64, 64, 64])\n",
      "convlstm output:  torch.Size([1, 64, 64, 64])\n",
      "new forward\n",
      "convlstm output:  torch.Size([1, 192, 32, 32])\n",
      "convlstm output:  torch.Size([1, 192, 32, 32])\n",
      "convlstm output:  torch.Size([1, 192, 32, 32])\n",
      "convlstm output:  torch.Size([1, 192, 32, 32])\n",
      "convlstm output:  torch.Size([1, 192, 32, 32])\n",
      "new forward\n",
      "convlstm output:  torch.Size([1, 192, 16, 16])\n",
      "convlstm output:  torch.Size([1, 192, 16, 16])\n",
      "convlstm output:  torch.Size([1, 192, 16, 16])\n",
      "convlstm output:  torch.Size([1, 192, 16, 16])\n",
      "convlstm output:  torch.Size([1, 192, 16, 16])\n",
      "new forward\n",
      "convlstm output:  torch.Size([1, 192, 16, 16])\n",
      "new forward\n",
      "convlstm output:  torch.Size([1, 192, 32, 32])\n",
      "new forward\n",
      "convlstm output:  torch.Size([1, 64, 64, 64])\n",
      "CONVLSTM OUTPUT FRAMES SIZE torch.Size([1, 8, 128, 128])\n",
      "new forward\n",
      "convlstm output:  torch.Size([1, 64, 64, 64])\n",
      "convlstm output:  torch.Size([1, 64, 64, 64])\n",
      "convlstm output:  torch.Size([1, 64, 64, 64])\n",
      "convlstm output:  torch.Size([1, 64, 64, 64])\n",
      "convlstm output:  torch.Size([1, 64, 64, 64])\n",
      "new forward\n",
      "convlstm output:  torch.Size([1, 192, 32, 32])\n",
      "convlstm output:  torch.Size([1, 192, 32, 32])\n",
      "convlstm output:  torch.Size([1, 192, 32, 32])\n",
      "convlstm output:  torch.Size([1, 192, 32, 32])\n",
      "convlstm output:  torch.Size([1, 192, 32, 32])\n",
      "new forward\n",
      "convlstm output:  torch.Size([1, 192, 16, 16])\n",
      "convlstm output:  torch.Size([1, 192, 16, 16])\n",
      "convlstm output:  torch.Size([1, 192, 16, 16])\n",
      "convlstm output:  torch.Size([1, 192, 16, 16])\n",
      "convlstm output:  torch.Size([1, 192, 16, 16])\n",
      "new forward\n",
      "convlstm output:  torch.Size([1, 192, 16, 16])\n",
      "new forward\n"
     ]
    },
    {
     "name": "stdout",
     "output_type": "stream",
     "text": [
      "convlstm output:  torch.Size([1, 192, 32, 32])\n",
      "new forward\n",
      "convlstm output:  torch.Size([1, 64, 64, 64])\n",
      "CONVLSTM OUTPUT FRAMES SIZE torch.Size([1, 9, 128, 128])\n",
      "new forward\n",
      "convlstm output:  torch.Size([1, 64, 64, 64])\n",
      "convlstm output:  torch.Size([1, 64, 64, 64])\n",
      "convlstm output:  torch.Size([1, 64, 64, 64])\n",
      "convlstm output:  torch.Size([1, 64, 64, 64])\n",
      "convlstm output:  torch.Size([1, 64, 64, 64])\n",
      "new forward\n",
      "convlstm output:  torch.Size([1, 192, 32, 32])\n",
      "convlstm output:  torch.Size([1, 192, 32, 32])\n",
      "convlstm output:  torch.Size([1, 192, 32, 32])\n",
      "convlstm output:  torch.Size([1, 192, 32, 32])\n",
      "convlstm output:  torch.Size([1, 192, 32, 32])\n",
      "new forward\n",
      "convlstm output:  torch.Size([1, 192, 16, 16])\n",
      "convlstm output:  torch.Size([1, 192, 16, 16])\n",
      "convlstm output:  torch.Size([1, 192, 16, 16])\n",
      "convlstm output:  torch.Size([1, 192, 16, 16])\n",
      "convlstm output:  torch.Size([1, 192, 16, 16])\n",
      "new forward\n",
      "convlstm output:  torch.Size([1, 192, 16, 16])\n",
      "new forward\n",
      "convlstm output:  torch.Size([1, 192, 32, 32])\n",
      "new forward\n",
      "convlstm output:  torch.Size([1, 64, 64, 64])\n",
      "CONVLSTM OUTPUT FRAMES SIZE torch.Size([1, 10, 128, 128])\n",
      "new forward\n",
      "convlstm output:  torch.Size([1, 64, 64, 64])\n",
      "convlstm output:  torch.Size([1, 64, 64, 64])\n",
      "convlstm output:  torch.Size([1, 64, 64, 64])\n",
      "convlstm output:  torch.Size([1, 64, 64, 64])\n",
      "convlstm output:  torch.Size([1, 64, 64, 64])\n",
      "new forward\n",
      "convlstm output:  torch.Size([1, 192, 32, 32])\n",
      "convlstm output:  torch.Size([1, 192, 32, 32])\n",
      "convlstm output:  torch.Size([1, 192, 32, 32])\n",
      "convlstm output:  torch.Size([1, 192, 32, 32])\n",
      "convlstm output:  torch.Size([1, 192, 32, 32])\n",
      "new forward\n",
      "convlstm output:  torch.Size([1, 192, 16, 16])\n",
      "convlstm output:  torch.Size([1, 192, 16, 16])\n",
      "convlstm output:  torch.Size([1, 192, 16, 16])\n",
      "convlstm output:  torch.Size([1, 192, 16, 16])\n",
      "convlstm output:  torch.Size([1, 192, 16, 16])\n",
      "new forward\n",
      "convlstm output:  torch.Size([1, 192, 16, 16])\n",
      "new forward\n",
      "convlstm output:  torch.Size([1, 192, 32, 32])\n",
      "new forward\n",
      "convlstm output:  torch.Size([1, 64, 64, 64])\n",
      "CONVLSTM OUTPUT FRAMES SIZE torch.Size([1, 11, 128, 128])\n",
      "new forward\n",
      "convlstm output:  torch.Size([1, 64, 64, 64])\n",
      "convlstm output:  torch.Size([1, 64, 64, 64])\n",
      "convlstm output:  torch.Size([1, 64, 64, 64])\n",
      "convlstm output:  torch.Size([1, 64, 64, 64])\n",
      "convlstm output:  torch.Size([1, 64, 64, 64])\n",
      "new forward\n",
      "convlstm output:  torch.Size([1, 192, 32, 32])\n",
      "convlstm output:  torch.Size([1, 192, 32, 32])\n",
      "convlstm output:  torch.Size([1, 192, 32, 32])\n",
      "convlstm output:  torch.Size([1, 192, 32, 32])\n",
      "convlstm output:  torch.Size([1, 192, 32, 32])\n",
      "new forward\n",
      "convlstm output:  torch.Size([1, 192, 16, 16])\n",
      "convlstm output:  torch.Size([1, 192, 16, 16])\n",
      "convlstm output:  torch.Size([1, 192, 16, 16])\n",
      "convlstm output:  torch.Size([1, 192, 16, 16])\n",
      "convlstm output:  torch.Size([1, 192, 16, 16])\n",
      "new forward\n",
      "convlstm output:  torch.Size([1, 192, 16, 16])\n",
      "new forward\n",
      "convlstm output:  torch.Size([1, 192, 32, 32])\n",
      "new forward\n",
      "convlstm output:  torch.Size([1, 64, 64, 64])\n",
      "CONVLSTM OUTPUT FRAMES SIZE torch.Size([1, 12, 128, 128])\n",
      "new forward\n",
      "convlstm output:  torch.Size([1, 64, 64, 64])\n",
      "convlstm output:  torch.Size([1, 64, 64, 64])\n",
      "convlstm output:  torch.Size([1, 64, 64, 64])\n",
      "convlstm output:  torch.Size([1, 64, 64, 64])\n",
      "convlstm output:  torch.Size([1, 64, 64, 64])\n",
      "new forward\n",
      "convlstm output:  torch.Size([1, 192, 32, 32])\n",
      "convlstm output:  torch.Size([1, 192, 32, 32])\n",
      "convlstm output:  torch.Size([1, 192, 32, 32])\n",
      "convlstm output:  torch.Size([1, 192, 32, 32])\n",
      "convlstm output:  torch.Size([1, 192, 32, 32])\n",
      "new forward\n",
      "convlstm output:  torch.Size([1, 192, 16, 16])\n",
      "convlstm output:  torch.Size([1, 192, 16, 16])\n",
      "convlstm output:  torch.Size([1, 192, 16, 16])\n",
      "convlstm output:  torch.Size([1, 192, 16, 16])\n",
      "convlstm output:  torch.Size([1, 192, 16, 16])\n",
      "new forward\n",
      "convlstm output:  torch.Size([1, 192, 16, 16])\n",
      "new forward\n",
      "convlstm output:  torch.Size([1, 192, 32, 32])\n",
      "new forward\n",
      "convlstm output:  torch.Size([1, 64, 64, 64])\n",
      "CONVLSTM OUTPUT FRAMES SIZE torch.Size([1, 13, 128, 128])\n",
      "new forward\n",
      "convlstm output:  torch.Size([1, 64, 64, 64])\n",
      "convlstm output:  torch.Size([1, 64, 64, 64])\n",
      "convlstm output:  torch.Size([1, 64, 64, 64])\n",
      "convlstm output:  torch.Size([1, 64, 64, 64])\n",
      "convlstm output:  torch.Size([1, 64, 64, 64])\n",
      "new forward\n",
      "convlstm output:  torch.Size([1, 192, 32, 32])\n",
      "convlstm output:  torch.Size([1, 192, 32, 32])\n",
      "convlstm output:  torch.Size([1, 192, 32, 32])\n",
      "convlstm output:  torch.Size([1, 192, 32, 32])\n",
      "convlstm output:  torch.Size([1, 192, 32, 32])\n",
      "new forward\n",
      "convlstm output:  torch.Size([1, 192, 16, 16])\n",
      "convlstm output:  torch.Size([1, 192, 16, 16])\n",
      "convlstm output:  torch.Size([1, 192, 16, 16])\n",
      "convlstm output:  torch.Size([1, 192, 16, 16])\n",
      "convlstm output:  torch.Size([1, 192, 16, 16])\n",
      "new forward\n",
      "convlstm output:  torch.Size([1, 192, 16, 16])\n",
      "new forward\n",
      "convlstm output:  torch.Size([1, 192, 32, 32])\n",
      "new forward\n",
      "convlstm output:  torch.Size([1, 64, 64, 64])\n",
      "CONVLSTM OUTPUT FRAMES SIZE torch.Size([1, 14, 128, 128])\n",
      "new forward\n",
      "convlstm output:  torch.Size([1, 64, 64, 64])\n",
      "convlstm output:  torch.Size([1, 64, 64, 64])\n",
      "convlstm output:  torch.Size([1, 64, 64, 64])\n",
      "convlstm output:  torch.Size([1, 64, 64, 64])\n",
      "convlstm output:  torch.Size([1, 64, 64, 64])\n",
      "new forward\n",
      "convlstm output:  torch.Size([1, 192, 32, 32])\n",
      "convlstm output:  torch.Size([1, 192, 32, 32])\n",
      "convlstm output:  torch.Size([1, 192, 32, 32])\n",
      "convlstm output:  torch.Size([1, 192, 32, 32])\n",
      "convlstm output:  torch.Size([1, 192, 32, 32])\n",
      "new forward\n",
      "convlstm output:  torch.Size([1, 192, 16, 16])\n",
      "convlstm output:  torch.Size([1, 192, 16, 16])\n",
      "convlstm output:  torch.Size([1, 192, 16, 16])\n",
      "convlstm output:  torch.Size([1, 192, 16, 16])\n",
      "convlstm output:  torch.Size([1, 192, 16, 16])\n",
      "new forward\n",
      "convlstm output:  torch.Size([1, 192, 16, 16])\n",
      "new forward\n",
      "convlstm output:  torch.Size([1, 192, 32, 32])\n",
      "new forward\n",
      "convlstm output:  torch.Size([1, 64, 64, 64])\n",
      "CONVLSTM OUTPUT FRAMES SIZE torch.Size([1, 15, 128, 128])\n"
     ]
    },
    {
     "data": {
      "text/plain": [
       "torch.Size([1, 15, 128, 128])"
      ]
     },
     "execution_count": 95,
     "metadata": {},
     "output_type": "execute_result"
    }
   ],
   "source": [
    "ar_model.get_future_frames(batch, 15).size()"
   ]
  },
  {
   "cell_type": "code",
   "execution_count": null,
   "metadata": {},
   "outputs": [],
   "source": []
  }
 ],
 "metadata": {
  "kernelspec": {
   "display_name": "Python 3",
   "language": "python",
   "name": "python3"
  },
  "language_info": {
   "codemirror_mode": {
    "name": "ipython",
    "version": 3
   },
   "file_extension": ".py",
   "mimetype": "text/x-python",
   "name": "python",
   "nbconvert_exporter": "python",
   "pygments_lexer": "ipython3",
   "version": "3.6.8"
  }
 },
 "nbformat": 4,
 "nbformat_minor": 2
}
