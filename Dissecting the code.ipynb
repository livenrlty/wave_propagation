{
 "cells": [
  {
   "cell_type": "code",
   "execution_count": 188,
   "metadata": {},
   "outputs": [],
   "source": [
    "from __future__ import print_function\n",
    "import logging\n",
    "import numpy as np\n",
    "import matplotlib.pyplot as plt\n",
    "import torch\n",
    "from torchvision import transforms\n",
    "import torch.nn.functional as F\n",
    "from PIL import Image\n",
    "import torch.optim as optim\n",
    "import os\n",
    "from os import listdir\n",
    "import random\n",
    "import copy\n",
    "from torch.utils.data import DataLoader\n",
    "from skimage import measure #supports video also\n",
    "import pickle\n",
    "import scipy.ndimage as ndimage\n",
    "from scipy.spatial import distance\n",
    "import time\n",
    "import platform\n",
    "\n",
    "from utils.Network import Network\n",
    "from utils.Analyser import Analyser\n",
    "from utils.io import save_network, save, load, figure_save, make_folder_results, imshow\n",
    "from utils.format import hex_str2bool\n",
    "from utils.WaveDataset import Create_Datasets\n"
   ]
  },
  {
   "cell_type": "code",
   "execution_count": 197,
   "metadata": {},
   "outputs": [],
   "source": [
    "nr_net = 0 \n",
    "\n",
    "version = nr_net + 10\n",
    "num_input_frames = 5\n",
    "num_output_frames = 10\n",
    "network_type = \"7_kernel_3LSTM\"\n",
    "\n",
    "# Little trick to adjust path files for compatibility (I have a backup of the Main.py in case it doesn't work)\n",
    "# stef_path = \"/media/sg6513/DATADRIVE2/MSc/Wavebox/\"\n",
    "# if os.path.isfile(stef_path + \"stefpc.txt\"):\n",
    "#     if not os.path.isdir(stef_path + \"Results\"):\n",
    "#         os.mkdir(stef_path + \"Results\")\n",
    "#     results_dir = stef_path + \"Results/Simulation_Result_\" + network_type + \"_v%03d/\" % version\n",
    "#     maindir2 = stef_path\n",
    "#     version += 200\n",
    "# else:\n",
    "\n",
    "\n",
    "if 'Darwin' in platform.system():\n",
    "    data_dir = './'\n",
    "else:\n",
    "    data_dir = '/disk/scratch/s1680171/wave_propagation/'\n",
    "\n",
    "if not os.path.isdir(\"./Results\"):\n",
    "    os.mkdir(\"./Results\")\n",
    "results_dir = \"./Results/Simulation_Result_\" + network_type + \"_v%03d/\" % version\n",
    "\n",
    "if not os.path.isdir(results_dir):\n",
    "    make_folder_results(results_dir)"
   ]
  },
  {
   "cell_type": "code",
   "execution_count": 198,
   "metadata": {},
   "outputs": [
    {
     "name": "stderr",
     "output_type": "stream",
     "text": [
      "Creating analyser\n"
     ]
    }
   ],
   "source": [
    "# analyser\n",
    "filename_analyser = results_dir + network_type + \"_analyser_v%03d.pickle\" % version\n",
    "if os.path.isfile(filename_analyser):\n",
    "    logging.info('Loading analyser')\n",
    "    analyser = load(filename_analyser)\n",
    "else:\n",
    "    logging.info('Creating analyser')\n",
    "    analyser = Analyser(results_dir)"
   ]
  },
  {
   "cell_type": "code",
   "execution_count": 199,
   "metadata": {},
   "outputs": [
    {
     "data": {
      "text/plain": [
       "utils.Analyser.Analyser"
      ]
     },
     "execution_count": 199,
     "metadata": {},
     "output_type": "execute_result"
    }
   ],
   "source": [
    "type(analyser)"
   ]
  },
  {
   "cell_type": "code",
   "execution_count": 203,
   "metadata": {},
   "outputs": [
    {
     "data": {
      "text/plain": [
       "'utils.Analyser'"
      ]
     },
     "execution_count": 203,
     "metadata": {},
     "output_type": "execute_result"
    }
   ],
   "source": [
    "analyser.__module__"
   ]
  },
  {
   "cell_type": "code",
   "execution_count": 204,
   "metadata": {},
   "outputs": [],
   "source": [
    "save(analyser, 'test')"
   ]
  },
  {
   "cell_type": "code",
   "execution_count": 201,
   "metadata": {},
   "outputs": [
    {
     "name": "stdout",
     "output_type": "stream",
     "text": [
      "total 1114240\r\n",
      "drwxr-xr-x    19 stathis  staff        608 May 31 00:11 \u001b[1m\u001b[36m.\u001b[m\u001b[m/\r\n",
      "drwxr-xr-x     9 stathis  staff        288 May 29 00:32 \u001b[1m\u001b[36m..\u001b[m\u001b[m/\r\n",
      "-rw-r--r--@    1 stathis  staff       6148 May 29 23:35 .DS_Store\r\n",
      "drwxr-xr-x    15 stathis  staff        480 May 31 00:11 \u001b[1m\u001b[36m.git\u001b[m\u001b[m/\r\n",
      "-rw-r--r--     1 stathis  staff       1248 May 30 22:24 .gitignore\r\n",
      "drwxr-xr-x     3 stathis  staff         96 May 26 18:58 \u001b[1m\u001b[36m.ipynb_checkpoints\u001b[m\u001b[m/\r\n",
      "-rw-r--r--     1 stathis  staff       3848 May 31 00:04 Dissecting the code.ipynb\r\n",
      "drwxr-xr-x     3 stathis  staff         96 May 31 00:11 \u001b[1m\u001b[36mResults\u001b[m\u001b[m/\r\n",
      "drwxr-xr-x  3275 stathis  staff     104800 May 20 15:46 \u001b[1m\u001b[36mVideo_Data\u001b[m\u001b[m/\r\n",
      "drwxr-xr-x     7 stathis  staff        224 May 26 18:35 \u001b[1m\u001b[36mdata_generation\u001b[m\u001b[m/\r\n",
      "drwxr-xr-x     7 stathis  staff        224 May 27 19:14 \u001b[1m\u001b[36mold\u001b[m\u001b[m/\r\n",
      "-rw-r--r--@    1 stathis  staff        229 May 29 00:59 rm.sh\r\n",
      "-rw-r--r--     1 stathis  staff        233 May 31 00:11 test.pickle\r\n",
      "-rw-r--r--@    1 stathis  staff      10360 May 28 23:06 test.py\r\n",
      "-rw-r--r--     1 stathis  staff        451 May 29 22:28 test_scheduler.pt\r\n",
      "-rw-r--r--@    1 stathis  staff      12216 May 31 00:08 train.py\r\n",
      "-rw-r--r--@    1 stathis  staff       1170 May 30 23:15 train.sh\r\n",
      "drwxr-xr-x    10 stathis  staff        320 May 30 12:35 \u001b[1m\u001b[36mutils\u001b[m\u001b[m/\r\n",
      "-rw-r--r--     1 stathis  staff  559202767 May 29 00:19 video.tar.gz\r\n"
     ]
    }
   ],
   "source": [
    "ls -la"
   ]
  },
  {
   "cell_type": "code",
   "execution_count": 206,
   "metadata": {},
   "outputs": [],
   "source": [
    "an = load('test')"
   ]
  },
  {
   "cell_type": "code",
   "execution_count": 213,
   "metadata": {},
   "outputs": [
    {
     "data": {
      "text/plain": [
       "<utils.Analyser.Analyser at 0x1c38d324e0>"
      ]
     },
     "execution_count": 213,
     "metadata": {},
     "output_type": "execute_result"
    }
   ],
   "source": [
    "an"
   ]
  },
  {
   "cell_type": "code",
   "execution_count": 216,
   "metadata": {},
   "outputs": [],
   "source": [
    "cp Results/Simulation_Result_7_kernel_3LSTM_v010/7_kernel_3LSTM_analyser_v010.pickle ."
   ]
  },
  {
   "cell_type": "code",
   "execution_count": 217,
   "metadata": {},
   "outputs": [
    {
     "name": "stdout",
     "output_type": "stream",
     "text": [
      "7_kernel_3LSTM_analyser_v010.pickle  test.pickle\r\n",
      "Dissecting the code.ipynb            test.py\r\n",
      "\u001b[1m\u001b[36mResults\u001b[m\u001b[m/                             test_scheduler.pt\r\n",
      "\u001b[1m\u001b[36mVideo_Data\u001b[m\u001b[m/                          train.py\r\n",
      "\u001b[1m\u001b[36mdata_generation\u001b[m\u001b[m/                     train.sh\r\n",
      "\u001b[1m\u001b[36mold\u001b[m\u001b[m/                                 \u001b[1m\u001b[36mutils\u001b[m\u001b[m/\r\n",
      "rm.sh                                video.tar.gz\r\n"
     ]
    }
   ],
   "source": [
    "ls"
   ]
  },
  {
   "cell_type": "code",
   "execution_count": 218,
   "metadata": {},
   "outputs": [
    {
     "data": {
      "text/plain": [
       "{'optimizer': {'state': {},\n",
       "  'param_groups': [{'lr': 0.0001,\n",
       "    'betas': (0.9, 0.999),\n",
       "    'eps': 1e-08,\n",
       "    'weight_decay': 0,\n",
       "    'amsgrad': False,\n",
       "    'params': [121022604200,\n",
       "     121022604272,\n",
       "     121022604416,\n",
       "     121022604560,\n",
       "     121022604920,\n",
       "     121022604992,\n",
       "     121022605136,\n",
       "     121022605280,\n",
       "     121022605640,\n",
       "     121022605712,\n",
       "     121022605856,\n",
       "     121022606000,\n",
       "     121022606360,\n",
       "     121022606432,\n",
       "     121022606576,\n",
       "     121022606720,\n",
       "     121022607152,\n",
       "     121022607224,\n",
       "     121045590376,\n",
       "     121045590448,\n",
       "     121045590808,\n",
       "     121045590880,\n",
       "     121045591024,\n",
       "     121045591168,\n",
       "     121045591528,\n",
       "     121045591600,\n",
       "     121045591744,\n",
       "     121045591888,\n",
       "     121045592248,\n",
       "     121045592320,\n",
       "     121045592464,\n",
       "     121045592608,\n",
       "     121045593040,\n",
       "     121045593112,\n",
       "     121045593256,\n",
       "     121045593400,\n",
       "     121045593472,\n",
       "     121045593544,\n",
       "     121045593760,\n",
       "     121045593832,\n",
       "     121045593904,\n",
       "     121045593976,\n",
       "     121045655624,\n",
       "     121045655696,\n",
       "     121045655768,\n",
       "     121045655840]}]},\n",
       " 'scheduler_type': 'plateau',\n",
       " 'scheduler': {'factor': 0.1,\n",
       "  'min_lrs': [0],\n",
       "  'patience': 7,\n",
       "  'verbose': False,\n",
       "  'cooldown': 0,\n",
       "  'cooldown_counter': 0,\n",
       "  'mode': 'min',\n",
       "  'threshold': 0.0001,\n",
       "  'threshold_mode': 'rel',\n",
       "  'best': inf,\n",
       "  'num_bad_epochs': 0,\n",
       "  'mode_worse': inf,\n",
       "  'eps': 1e-08,\n",
       "  'last_epoch': -1}}"
      ]
     },
     "execution_count": 218,
     "metadata": {},
     "output_type": "execute_result"
    }
   ],
   "source": [
    "load('7_kernel_3LSTM_analyser_v010.pickle')"
   ]
  },
  {
   "cell_type": "code",
   "execution_count": null,
   "metadata": {},
   "outputs": [],
   "source": []
  }
 ],
 "metadata": {
  "kernelspec": {
   "display_name": "Python 3",
   "language": "python",
   "name": "python3"
  },
  "language_info": {
   "codemirror_mode": {
    "name": "ipython",
    "version": 3
   },
   "file_extension": ".py",
   "mimetype": "text/x-python",
   "name": "python",
   "nbconvert_exporter": "python",
   "pygments_lexer": "ipython3",
   "version": "3.6.8"
  }
 },
 "nbformat": 4,
 "nbformat_minor": 2
}
