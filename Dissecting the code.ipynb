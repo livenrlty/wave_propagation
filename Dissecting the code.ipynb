{
 "cells": [
  {
   "cell_type": "code",
   "execution_count": 14,
   "metadata": {},
   "outputs": [
    {
     "name": "stderr",
     "output_type": "stream",
     "text": [
      "Loading datasets\n",
      "Creating analyser\n",
      "Experiment 10\n",
      "Start training\n"
     ]
    }
   ],
   "source": [
    "from __future__ import print_function\n",
    "import logging\n",
    "import numpy as np\n",
    "import matplotlib.pyplot as plt\n",
    "import torch\n",
    "from torchvision import transforms\n",
    "import torch.nn.functional as F\n",
    "from PIL import Image\n",
    "import torch.optim as optim\n",
    "import os\n",
    "from os import listdir\n",
    "import random\n",
    "import copy\n",
    "from torch.utils.data import DataLoader\n",
    "from skimage import measure #supports video also\n",
    "import pickle\n",
    "import scipy.ndimage as ndimage\n",
    "from scipy.spatial import distance\n",
    "import time\n",
    "import platform\n",
    "\n",
    "from utils.Network import Network\n",
    "from utils.Analyser import Analyser\n",
    "from utils.io import save_network, save, load, figure_save, make_folder_results, imshow\n",
    "from utils.format import hex_str2bool\n",
    "from utils.WaveDataset import Create_Datasets\n",
    "\n",
    "logging.basicConfig(format='%(message)s',level=logging.INFO)\n",
    "\n",
    "channels=1\n",
    "device = torch.device('cuda' if torch.cuda.is_available() else 'cpu')\n",
    "\n",
    "# normalize = transforms.Normalize(mean=[0.485, 0.456, 0.406], std=[0.229, 0.224, 0.225])\n",
    "\n",
    "transformVar = {\"Test\": transforms.Compose([\n",
    "    transforms.Resize(128),    #Already 184 x 184\n",
    "    transforms.CenterCrop(128),\n",
    "    transforms.ToTensor(),\n",
    "#     normalize\n",
    "]),\n",
    "    \"Train\": transforms.Compose([\n",
    "    transforms.Resize(128),  # Already 184 x 184\n",
    "    transforms.CenterCrop(128),\n",
    "    transforms.RandomHorizontalFlip(),\n",
    "    transforms.RandomVerticalFlip(),\n",
    "    transforms.ToTensor(),\n",
    "#     normalize\n",
    "    ])\n",
    "}\n",
    "\n",
    "### COMMON FUNCTIONS TRAIN/VAL/TEST\n",
    "def initial_input(model, image_series, starting_point, num_input_frames, channels, device, training):\n",
    "    n = 0\n",
    "    input_frames = image_series[:, (starting_point + n) * channels:(starting_point + n + num_input_frames) * channels, :, :].to(device)\n",
    "    output_frames = model(input_frames, training=training)\n",
    "    index = starting_point + n + num_input_frames\n",
    "    target = image_series[:, index * channels:(index + 1) * channels, :, :].to(device)\n",
    "    return output_frames, target\n",
    "\n",
    "def new_input(model, image_series, starting_point, num_input_frames, num_output_frames, output_frames, target, channels, device, training):\n",
    "    output_frames = torch.cat((output_frames, model(output_frames[:, -num_input_frames * channels:, :, :].clone(), mode=\"new_input\", training=training)), dim=1)\n",
    "    index = starting_point + num_output_frames + num_input_frames\n",
    "    target = torch.cat((target, image_series[:, index * channels:(index + 1) * channels, :, :].to(device)), dim=1)\n",
    "    return output_frames, target\n",
    "\n",
    "def consequent_propagation(model, image_series, starting_point, n, output_frames, target, channels, device, training):\n",
    "    output_frames = torch.cat((output_frames, model(torch.Tensor([0]), mode=\"internal\", training=training)), dim=1)\n",
    "    index = starting_point + n + num_input_frames\n",
    "    target = torch.cat((target, image_series[:, index*channels:(index + 1) * channels, :, :].to(device)), dim=1)\n",
    "    return output_frames, target\n",
    "\n",
    "def plot_predictions():\n",
    "    if (i == 0) & (batch_num == 0):\n",
    "        predicted = output_frames[i, -channels:, :, :].cpu().detach()\n",
    "        des_target = target[i, -channels:, :, :].cpu().detach()\n",
    "        fig = plt.figure()\n",
    "        pred = fig.add_subplot(1, 2, 1)\n",
    "        imshow(predicted, title=\"Predicted smoothened %02d\" % n, smoothen=True, obj=pred)\n",
    "        tar = fig.add_subplot(1, 2, 2)\n",
    "        imshow(des_target, title=\"Target %02d\" % n, obj=tar)\n",
    "        plt.show()\n",
    "\n",
    "\n",
    "def train_epoch(model, epoch, train_dataloader, val_dataloader, num_input_frames, num_output_frames, channels, device, plot=False,):\n",
    "    \"\"\"\n",
    "    Training of the network\n",
    "    :param train: Training data\n",
    "    :param val_dataloader: Validation data\n",
    "    :return:\n",
    "    \"\"\"\n",
    "    training = True\n",
    "    model.train()           # initialises training stage/functions\n",
    "    mean_loss = 0\n",
    "    logging.info('Training: Ready to load batches')\n",
    "    for batch_num, batch in enumerate(train_dataloader):\n",
    "        batch_start = time.time()\n",
    "        # logging.info('Batch: %d loaded in %.3f' %(batch_num, batch_time))\n",
    "        mean_batch_loss = 0\n",
    "        random_starting_points = random.sample(range(100 - num_input_frames - (2 * num_output_frames) - 1), 10)\n",
    "        image_series = batch[\"image\"]\n",
    "        for i, starting_point in enumerate(random_starting_points):\n",
    "            model.reset_hidden(batch_size=image_series.size()[0], training=True)\n",
    "            lr_scheduler.optimizer.zero_grad()\n",
    "            for n in range(2 * num_output_frames):\n",
    "                if n == 0:\n",
    "                    output_frames, target = initial_input(model, image_series, starting_point, num_input_frames, channels, device, training=training)\n",
    "                elif n == num_output_frames:\n",
    "                    output_frames, target = new_input(model, image_series, starting_point, num_input_frames, num_output_frames, output_frames, target, channels, device, training=training)\n",
    "                else:\n",
    "                    output_frames, target = consequent_propagation(model, image_series, starting_point, n, output_frames, target, channels, device, training=training)\n",
    "                if plot:\n",
    "                    plot_predictions()\n",
    "            loss = F.mse_loss(output_frames, target)\n",
    "            loss.backward()\n",
    "            lr_scheduler.optimizer.step()\n",
    "\n",
    "            mean_batch_loss += loss.item()\n",
    "        analyser.save_loss_batchwise(mean_batch_loss / (i + 1), batch_increment=1)\n",
    "        mean_loss += loss.item()\n",
    "\n",
    "        batch_time = time.time() - batch_start\n",
    "        logging.info(\"Train Epoch: {} [{}/{} ({:.0f}%)]\\tLoss: {:.6f}\\tTime {:.2f}\".format(epoch, batch_num + 1,\n",
    "                   len(train_dataloader), 100. * (batch_num + 1) / len(train_dataloader), loss.item(), batch_time ) )        \n",
    "        \n",
    "    analyser.save_loss(mean_loss / (batch_num + 1), 1)\n",
    "    val_start = time.time()\n",
    "    validation_loss = validate(model, val_dataloader, num_input_frames, num_output_frames, channels, device, plot=False)\n",
    "    analyser.save_validation_loss(validation_loss, 1)\n",
    "    val_time = time.time() - val_start\n",
    "    logging.info('Validation loss: %.6f\\tTime: %.3f' % (validation_loss, val_time))\n",
    "\n",
    "\n",
    "\n",
    "def validate(model, val_dataloader, num_input_frames, num_output_frames, channels, device, plot=False):\n",
    "    \"\"\"\n",
    "    Validation of network (same protocol as training)\n",
    "    :param val_dataloader: Data to test\n",
    "    :param plot: If to plot predictions\n",
    "    :return:\n",
    "    \"\"\"\n",
    "    training = False\n",
    "    model.eval()\n",
    "    overall_loss = 0\n",
    "    for batch_num, batch in enumerate(val_dataloader):\n",
    "        random_starting_points = random.sample(range(100 - num_input_frames - (2 * num_output_frames) - 1), 10)\n",
    "        image_series = batch[\"image\"]\n",
    "        batch_loss = 0\n",
    "        for i, starting_point in enumerate(random_starting_points):\n",
    "            model.reset_hidden(batch_size=image_series.size()[0], training=False)\n",
    "            for n in range(2 * num_output_frames):\n",
    "                if n == 0:\n",
    "                    output_frames, target = initial_input(model, image_series, starting_point, num_input_frames, channels, device, training=training)\n",
    "                elif n == num_output_frames:\n",
    "                    output_frames, target = new_input(model, image_series, starting_point, num_input_frames, num_output_frames, output_frames, target, channels, device, training=training)\n",
    "                else:\n",
    "                    output_frames, target = consequent_propagation(model, image_series, starting_point, n, output_frames, target, channels, device, training=training)\n",
    "                if plot:\n",
    "                    plot_predictions()\n",
    "            batch_loss += F.mse_loss(output_frames, target).item()\n",
    "        overall_loss += batch_loss / (i + 1)\n",
    "    val_loss = overall_loss / (batch_num + 1)\n",
    "    return val_loss\n",
    "\n",
    "# get_ipython().system('rm -rf Results/')\n",
    "# get_ipython().system('rm Video_Data/.DS_Store')\n",
    "\n",
    "nr_net = 0 \n",
    "\n",
    "version = nr_net + 10\n",
    "num_input_frames = 5\n",
    "num_output_frames = 10\n",
    "network_type = \"7_kernel_3LSTM\"\n",
    "\n",
    "# Little trick to adjust path files for compatibility (I have a backup of the Main.py in case it doesn't work)\n",
    "# stef_path = \"/media/sg6513/DATADRIVE2/MSc/Wavebox/\"\n",
    "# if os.path.isfile(stef_path + \"stefpc.txt\"):\n",
    "#     if not os.path.isdir(stef_path + \"Results\"):\n",
    "#         os.mkdir(stef_path + \"Results\")\n",
    "#     results_dir = stef_path + \"Results/Simulation_Result_\" + network_type + \"_v%03d/\" % version\n",
    "#     maindir2 = stef_path\n",
    "#     version += 200\n",
    "# else:\n",
    "\n",
    "\n",
    "if 'Darwin' in platform.system():\n",
    "    data_dir = './'\n",
    "else:\n",
    "    data_dir = '/disk/scratch/s1680171/wave_propagation/'\n",
    "\n",
    "if not os.path.isdir(\"./Results\"):\n",
    "    os.mkdir(\"./Results\")\n",
    "results_dir = \"./Results/Simulation_Result_\" + network_type + \"_v%03d/\" % version\n",
    "\n",
    "if not os.path.isdir(results_dir):\n",
    "    make_folder_results(results_dir)\n",
    "\n",
    "\n",
    "# Data\n",
    "filename_data = results_dir + \"all_data_\" + \"_v%03d.pickle\" % version\n",
    "if os.path.isfile(filename_data):\n",
    "    logging.info('Loading datasets')\n",
    "    all_data = load(filename_data)\n",
    "    train_dataset = all_data[\"Training data\"]\n",
    "    val_dataset = all_data[\"Validation data\"]\n",
    "    test_dataset = all_data[\"Testing data\"]\n",
    "else:\n",
    "    logging.info('Creating new datasets')\n",
    "    test_dataset, val_dataset, train_dataset = Create_Datasets(\n",
    "         data_dir+\"Video_Data/\", transformVar, test_fraction=0.15, validation_fraction=0.15, check_bad_data=False, channels=channels)\n",
    "    all_data = {\"Training data\": train_dataset, \"Validation data\": val_dataset, \"Testing data\": test_dataset}\n",
    "    save(all_data, filename_data)\n",
    "\n",
    "\n",
    "# analyser\n",
    "filename_analyser = results_dir + network_type + \"_analyser_v%03d.pickle\" % version\n",
    "if os.path.isfile(filename_analyser):\n",
    "    logging.info('Loading analyser')\n",
    "    analyser = load(filename_analyser)\n",
    "else:\n",
    "    logging.info('Creating analyser')\n",
    "    analyser = Analyser(results_dir)\n",
    "\n",
    "# Model\n",
    "filename_model = results_dir + network_type + \"_model_v%03d.pt\" % version\n",
    "if os.path.isfile(filename_model):\n",
    "    model = torch.load(filename_model)\n",
    "else:\n",
    "    model = Network(device, channels)\n",
    "\n",
    "# Learning Rate scheduler w. optimizer\n",
    "# Optimizer\n",
    "optimizer_algorithm = optim.Adam(filter(lambda p: p.requires_grad, model.parameters()), lr=1e-4)\n",
    "# Add learning rate schedulers\n",
    "# Decay LR by a factor of gamma every step_size epochs\n",
    "scheduler_type = 'plateau'\n",
    "if scheduler_type == 'step':\n",
    "    gamma = 0.5\n",
    "    step_size = 40\n",
    "    lr_scheduler = optim.lr_scheduler.StepLR(optimizer_algorithm, step_size=step_size, gamma=gamma)\n",
    "elif scheduler_type == 'plateau':\n",
    "    # Reduce learning rate when a metric has stopped improving\n",
    "    lr_scheduler = optim.lr_scheduler.ReduceLROnPlateau(optimizer_algorithm, mode='min', factor=0.1, patience=7)\n",
    "\n",
    "filename_metadata = results_dir + network_type + \"_metadata_v%03d.pickle\" % version\n",
    "meta_data_dict = {  \"optimizer\": optimizer_algorithm.state_dict(),\n",
    "                    \"scheduler_type\": scheduler_type, \n",
    "                    \"scheduler\": lr_scheduler.state_dict()}\n",
    "save(meta_data_dict, filename_metadata)\n",
    "\n",
    "\n",
    "train_dataloader = DataLoader(train_dataset, batch_size=16, shuffle=True, num_workers=12)\n",
    "val_dataloader = DataLoader(val_dataset, batch_size=16, shuffle=True, num_workers=12)\n",
    "test_dataloader = DataLoader(test_dataset, batch_size=16, shuffle=True, num_workers=12)\n",
    "\n",
    "root_dir = train_dataset.root_dir\n",
    "img_path = train_dataset.imagesets[0]\n",
    "im_list = sorted(listdir(root_dir + img_path[1]))\n",
    "\n",
    "model.to(device)\n",
    "\n",
    "logging.info('Experiment %d' % version)\n",
    "logging.info('Start training')\n",
    "epochs=0\n",
    "# for epoch in range(epochs):\n",
    "#     epoch_start = time.time()\n",
    "\n",
    "#     logging.info('Epoch %d' % epoch)\n",
    "#     train_epoch(model, epoch, train_dataloader, val_dataloader, num_input_frames, num_output_frames, channels, device, plot=False)\n",
    "#     \"\"\"\n",
    "#     Here we can access analyser.validation_loss to make decisions\n",
    "#     \"\"\"\n",
    "#     # Learning rate scheduler\n",
    "#     # perform scheduler step if independent from validation loss\n",
    "#     if scheduler_type == 'step':\n",
    "#         lr_scheduler.step()\n",
    "#     # perform scheduler step if Dependent on validation loss\n",
    "#     if scheduler_type == 'plateau':\n",
    "#         validation_loss = analyser.validation_loss[-1]\n",
    "#         lr_scheduler.step(validation_loss)\n",
    "#     save_network(model, filename_model)\n",
    "#     save(analyser, filename_analyser)\n",
    "\n",
    "#     epoch_time = time.time() - epoch_start \n",
    "#     logging.info('Epoch time: %.1f' % epoch_time)\n",
    "\n",
    "# analyser = []\n",
    "# model =[]\n",
    "# lr_scheduler = []\n",
    "# scheduler_dict = []\n",
    "\n",
    "# analyser.plot_loss()\n",
    "# analyser.plot_accuracy()\n",
    "# analyser.plot_loss_batchwise()\n",
    "# analyser.plot_validation_loss()"
   ]
  },
  {
   "cell_type": "code",
   "execution_count": 21,
   "metadata": {
    "scrolled": false
   },
   "outputs": [
    {
     "name": "stderr",
     "output_type": "stream",
     "text": [
      "Training: Ready to load batches\n",
      "Train Epoch: 1 [1/144 (1%)]\tLoss: 0.663284\tTime 29.09\n",
      "Train Epoch: 1 [2/144 (1%)]\tLoss: 0.660408\tTime 13.36\n",
      "Train Epoch: 1 [3/144 (2%)]\tLoss: 0.668999\tTime 11.84\n",
      "Train Epoch: 1 [4/144 (3%)]\tLoss: 0.624146\tTime 11.22\n",
      "Train Epoch: 1 [5/144 (3%)]\tLoss: 0.613687\tTime 11.16\n"
     ]
    },
    {
     "name": "stdout",
     "output_type": "stream",
     "text": [
      "break\n"
     ]
    },
    {
     "name": "stderr",
     "output_type": "stream",
     "text": [
      "Train Epoch: 1 [6/144 (4%)]\tLoss: 0.624366\tTime 12.81\n"
     ]
    },
    {
     "name": "stdout",
     "output_type": "stream",
     "text": [
      "break\n"
     ]
    },
    {
     "name": "stderr",
     "output_type": "stream",
     "text": [
      "Train Epoch: 1 [7/144 (5%)]\tLoss: 0.616431\tTime 12.20\n"
     ]
    },
    {
     "name": "stdout",
     "output_type": "stream",
     "text": [
      "break\n"
     ]
    },
    {
     "name": "stderr",
     "output_type": "stream",
     "text": [
      "Train Epoch: 1 [8/144 (6%)]\tLoss: 0.609914\tTime 11.82\n"
     ]
    },
    {
     "name": "stdout",
     "output_type": "stream",
     "text": [
      "break\n"
     ]
    },
    {
     "name": "stderr",
     "output_type": "stream",
     "text": [
      "Train Epoch: 1 [9/144 (6%)]\tLoss: 0.608128\tTime 11.70\n"
     ]
    },
    {
     "name": "stdout",
     "output_type": "stream",
     "text": [
      "break\n"
     ]
    },
    {
     "name": "stderr",
     "output_type": "stream",
     "text": [
      "Train Epoch: 1 [10/144 (7%)]\tLoss: 0.596807\tTime 11.68\n"
     ]
    },
    {
     "name": "stdout",
     "output_type": "stream",
     "text": [
      "break\n"
     ]
    },
    {
     "name": "stderr",
     "output_type": "stream",
     "text": [
      "Train Epoch: 1 [11/144 (8%)]\tLoss: 0.544661\tTime 10.69\n"
     ]
    },
    {
     "name": "stdout",
     "output_type": "stream",
     "text": [
      "break\n"
     ]
    },
    {
     "name": "stderr",
     "output_type": "stream",
     "text": [
      "Train Epoch: 1 [12/144 (8%)]\tLoss: 0.541056\tTime 11.00\n"
     ]
    },
    {
     "name": "stdout",
     "output_type": "stream",
     "text": [
      "break\n"
     ]
    },
    {
     "name": "stderr",
     "output_type": "stream",
     "text": [
      "Train Epoch: 1 [13/144 (9%)]\tLoss: 0.543576\tTime 11.29\n"
     ]
    },
    {
     "name": "stdout",
     "output_type": "stream",
     "text": [
      "break\n"
     ]
    },
    {
     "name": "stderr",
     "output_type": "stream",
     "text": [
      "Train Epoch: 1 [14/144 (10%)]\tLoss: 0.547027\tTime 11.27\n"
     ]
    },
    {
     "name": "stdout",
     "output_type": "stream",
     "text": [
      "break\n"
     ]
    },
    {
     "name": "stderr",
     "output_type": "stream",
     "text": [
      "Train Epoch: 1 [15/144 (10%)]\tLoss: 0.520086\tTime 10.88\n"
     ]
    },
    {
     "name": "stdout",
     "output_type": "stream",
     "text": [
      "break\n"
     ]
    },
    {
     "name": "stderr",
     "output_type": "stream",
     "text": [
      "Train Epoch: 1 [16/144 (11%)]\tLoss: 0.535251\tTime 12.91\n"
     ]
    },
    {
     "name": "stdout",
     "output_type": "stream",
     "text": [
      "break\n"
     ]
    },
    {
     "name": "stderr",
     "output_type": "stream",
     "text": [
      "Train Epoch: 1 [17/144 (12%)]\tLoss: 0.510006\tTime 11.20\n"
     ]
    },
    {
     "name": "stdout",
     "output_type": "stream",
     "text": [
      "break\n"
     ]
    },
    {
     "name": "stderr",
     "output_type": "stream",
     "text": [
      "Train Epoch: 1 [18/144 (12%)]\tLoss: 0.511077\tTime 10.69\n"
     ]
    },
    {
     "name": "stdout",
     "output_type": "stream",
     "text": [
      "break\n"
     ]
    },
    {
     "name": "stderr",
     "output_type": "stream",
     "text": [
      "Train Epoch: 1 [19/144 (13%)]\tLoss: 0.494028\tTime 10.94\n"
     ]
    },
    {
     "name": "stdout",
     "output_type": "stream",
     "text": [
      "break\n"
     ]
    },
    {
     "name": "stderr",
     "output_type": "stream",
     "text": [
      "Train Epoch: 1 [20/144 (14%)]\tLoss: 0.491988\tTime 10.62\n"
     ]
    },
    {
     "name": "stdout",
     "output_type": "stream",
     "text": [
      "break\n"
     ]
    },
    {
     "name": "stderr",
     "output_type": "stream",
     "text": [
      "Train Epoch: 1 [21/144 (15%)]\tLoss: 0.471085\tTime 11.18\n"
     ]
    },
    {
     "name": "stdout",
     "output_type": "stream",
     "text": [
      "break\n"
     ]
    },
    {
     "name": "stderr",
     "output_type": "stream",
     "text": [
      "Train Epoch: 1 [22/144 (15%)]\tLoss: 0.480037\tTime 11.04\n"
     ]
    },
    {
     "name": "stdout",
     "output_type": "stream",
     "text": [
      "break\n"
     ]
    },
    {
     "name": "stderr",
     "output_type": "stream",
     "text": [
      "Train Epoch: 1 [23/144 (16%)]\tLoss: 0.486340\tTime 11.09\n"
     ]
    },
    {
     "name": "stdout",
     "output_type": "stream",
     "text": [
      "break\n"
     ]
    },
    {
     "name": "stderr",
     "output_type": "stream",
     "text": [
      "Train Epoch: 1 [24/144 (17%)]\tLoss: 0.447304\tTime 10.59\n"
     ]
    },
    {
     "name": "stdout",
     "output_type": "stream",
     "text": [
      "break\n"
     ]
    },
    {
     "name": "stderr",
     "output_type": "stream",
     "text": [
      "Train Epoch: 1 [25/144 (17%)]\tLoss: 0.439576\tTime 11.25\n"
     ]
    },
    {
     "name": "stdout",
     "output_type": "stream",
     "text": [
      "break\n"
     ]
    },
    {
     "name": "stderr",
     "output_type": "stream",
     "text": [
      "Train Epoch: 1 [26/144 (18%)]\tLoss: 0.447083\tTime 11.35\n"
     ]
    },
    {
     "name": "stdout",
     "output_type": "stream",
     "text": [
      "break\n"
     ]
    },
    {
     "name": "stderr",
     "output_type": "stream",
     "text": [
      "Train Epoch: 1 [27/144 (19%)]\tLoss: 0.436873\tTime 11.20\n"
     ]
    },
    {
     "name": "stdout",
     "output_type": "stream",
     "text": [
      "break\n"
     ]
    },
    {
     "name": "stderr",
     "output_type": "stream",
     "text": [
      "Traceback (most recent call last):\n",
      "Traceback (most recent call last):\n",
      "  File \"/Users/stathis/anaconda3/envs/thesis/lib/python3.6/multiprocessing/queues.py\", line 240, in _feed\n",
      "    send_bytes(obj)\n",
      "  File \"/Users/stathis/anaconda3/envs/thesis/lib/python3.6/multiprocessing/connection.py\", line 200, in send_bytes\n",
      "    self._send_bytes(m[offset:offset + size])\n",
      "  File \"/Users/stathis/anaconda3/envs/thesis/lib/python3.6/multiprocessing/connection.py\", line 404, in _send_bytes\n",
      "    self._send(header + buf)\n",
      "  File \"/Users/stathis/anaconda3/envs/thesis/lib/python3.6/multiprocessing/connection.py\", line 368, in _send\n",
      "    n = write(self._handle, buf)\n",
      "BrokenPipeError: [Errno 32] Broken pipe\n",
      "  File \"/Users/stathis/anaconda3/envs/thesis/lib/python3.6/multiprocessing/queues.py\", line 240, in _feed\n",
      "    send_bytes(obj)\n",
      "  File \"/Users/stathis/anaconda3/envs/thesis/lib/python3.6/multiprocessing/connection.py\", line 200, in send_bytes\n",
      "    self._send_bytes(m[offset:offset + size])\n",
      "  File \"/Users/stathis/anaconda3/envs/thesis/lib/python3.6/multiprocessing/connection.py\", line 404, in _send_bytes\n",
      "    self._send(header + buf)\n",
      "  File \"/Users/stathis/anaconda3/envs/thesis/lib/python3.6/multiprocessing/connection.py\", line 368, in _send\n",
      "    n = write(self._handle, buf)\n",
      "BrokenPipeError: [Errno 32] Broken pipe\n",
      "Traceback (most recent call last):\n",
      "  File \"/Users/stathis/anaconda3/envs/thesis/lib/python3.6/multiprocessing/queues.py\", line 240, in _feed\n",
      "    send_bytes(obj)\n",
      "  File \"/Users/stathis/anaconda3/envs/thesis/lib/python3.6/multiprocessing/connection.py\", line 200, in send_bytes\n",
      "    self._send_bytes(m[offset:offset + size])\n",
      "  File \"/Users/stathis/anaconda3/envs/thesis/lib/python3.6/multiprocessing/connection.py\", line 404, in _send_bytes\n",
      "    self._send(header + buf)\n",
      "  File \"/Users/stathis/anaconda3/envs/thesis/lib/python3.6/multiprocessing/connection.py\", line 368, in _send\n",
      "    n = write(self._handle, buf)\n",
      "BrokenPipeError: [Errno 32] Broken pipe\n",
      "Traceback (most recent call last):\n",
      "Traceback (most recent call last):\n",
      "  File \"/Users/stathis/anaconda3/envs/thesis/lib/python3.6/multiprocessing/queues.py\", line 240, in _feed\n",
      "    send_bytes(obj)\n",
      "  File \"/Users/stathis/anaconda3/envs/thesis/lib/python3.6/multiprocessing/connection.py\", line 200, in send_bytes\n",
      "    self._send_bytes(m[offset:offset + size])\n",
      "  File \"/Users/stathis/anaconda3/envs/thesis/lib/python3.6/multiprocessing/connection.py\", line 404, in _send_bytes\n",
      "    self._send(header + buf)\n",
      "  File \"/Users/stathis/anaconda3/envs/thesis/lib/python3.6/multiprocessing/connection.py\", line 368, in _send\n",
      "    n = write(self._handle, buf)\n",
      "BrokenPipeError: [Errno 32] Broken pipe\n",
      "Traceback (most recent call last):\n",
      "  File \"/Users/stathis/anaconda3/envs/thesis/lib/python3.6/multiprocessing/queues.py\", line 240, in _feed\n",
      "    send_bytes(obj)\n",
      "  File \"/Users/stathis/anaconda3/envs/thesis/lib/python3.6/multiprocessing/connection.py\", line 200, in send_bytes\n",
      "    self._send_bytes(m[offset:offset + size])\n",
      "  File \"/Users/stathis/anaconda3/envs/thesis/lib/python3.6/multiprocessing/connection.py\", line 404, in _send_bytes\n",
      "    self._send(header + buf)\n",
      "  File \"/Users/stathis/anaconda3/envs/thesis/lib/python3.6/multiprocessing/connection.py\", line 368, in _send\n",
      "    n = write(self._handle, buf)\n",
      "BrokenPipeError: [Errno 32] Broken pipe\n",
      "  File \"/Users/stathis/anaconda3/envs/thesis/lib/python3.6/multiprocessing/queues.py\", line 240, in _feed\n",
      "    send_bytes(obj)\n",
      "  File \"/Users/stathis/anaconda3/envs/thesis/lib/python3.6/multiprocessing/connection.py\", line 200, in send_bytes\n",
      "    self._send_bytes(m[offset:offset + size])\n",
      "  File \"/Users/stathis/anaconda3/envs/thesis/lib/python3.6/multiprocessing/connection.py\", line 404, in _send_bytes\n",
      "    self._send(header + buf)\n",
      "  File \"/Users/stathis/anaconda3/envs/thesis/lib/python3.6/multiprocessing/connection.py\", line 368, in _send\n",
      "    n = write(self._handle, buf)\n",
      "BrokenPipeError: [Errno 32] Broken pipe\n",
      "Traceback (most recent call last):\n",
      "Traceback (most recent call last):\n",
      "  File \"/Users/stathis/anaconda3/envs/thesis/lib/python3.6/multiprocessing/queues.py\", line 240, in _feed\n",
      "    send_bytes(obj)\n",
      "  File \"/Users/stathis/anaconda3/envs/thesis/lib/python3.6/multiprocessing/connection.py\", line 200, in send_bytes\n",
      "    self._send_bytes(m[offset:offset + size])\n",
      "  File \"/Users/stathis/anaconda3/envs/thesis/lib/python3.6/multiprocessing/connection.py\", line 404, in _send_bytes\n",
      "    self._send(header + buf)\n",
      "  File \"/Users/stathis/anaconda3/envs/thesis/lib/python3.6/multiprocessing/connection.py\", line 368, in _send\n",
      "    n = write(self._handle, buf)\n",
      "  File \"/Users/stathis/anaconda3/envs/thesis/lib/python3.6/multiprocessing/queues.py\", line 240, in _feed\n",
      "    send_bytes(obj)\n",
      "  File \"/Users/stathis/anaconda3/envs/thesis/lib/python3.6/multiprocessing/connection.py\", line 200, in send_bytes\n",
      "    self._send_bytes(m[offset:offset + size])\n",
      "  File \"/Users/stathis/anaconda3/envs/thesis/lib/python3.6/multiprocessing/connection.py\", line 404, in _send_bytes\n",
      "    self._send(header + buf)\n",
      "  File \"/Users/stathis/anaconda3/envs/thesis/lib/python3.6/multiprocessing/connection.py\", line 368, in _send\n",
      "    n = write(self._handle, buf)\n",
      "BrokenPipeError: [Errno 32] Broken pipe\n",
      "Traceback (most recent call last):\n",
      "Traceback (most recent call last):\n",
      "Traceback (most recent call last):\n",
      "BrokenPipeError: [Errno 32] Broken pipe\n",
      "  File \"/Users/stathis/anaconda3/envs/thesis/lib/python3.6/multiprocessing/queues.py\", line 240, in _feed\n",
      "    send_bytes(obj)\n",
      "  File \"/Users/stathis/anaconda3/envs/thesis/lib/python3.6/multiprocessing/connection.py\", line 200, in send_bytes\n",
      "    self._send_bytes(m[offset:offset + size])\n",
      "  File \"/Users/stathis/anaconda3/envs/thesis/lib/python3.6/multiprocessing/connection.py\", line 404, in _send_bytes\n",
      "    self._send(header + buf)\n",
      "  File \"/Users/stathis/anaconda3/envs/thesis/lib/python3.6/multiprocessing/connection.py\", line 368, in _send\n",
      "    n = write(self._handle, buf)\n",
      "BrokenPipeError: [Errno 32] Broken pipe\n",
      "  File \"/Users/stathis/anaconda3/envs/thesis/lib/python3.6/multiprocessing/queues.py\", line 240, in _feed\n",
      "    send_bytes(obj)\n",
      "  File \"/Users/stathis/anaconda3/envs/thesis/lib/python3.6/multiprocessing/connection.py\", line 200, in send_bytes\n",
      "    self._send_bytes(m[offset:offset + size])\n",
      "  File \"/Users/stathis/anaconda3/envs/thesis/lib/python3.6/multiprocessing/connection.py\", line 404, in _send_bytes\n",
      "    self._send(header + buf)\n",
      "  File \"/Users/stathis/anaconda3/envs/thesis/lib/python3.6/multiprocessing/connection.py\", line 368, in _send\n",
      "    n = write(self._handle, buf)\n",
      "BrokenPipeError: [Errno 32] Broken pipe\n",
      "  File \"/Users/stathis/anaconda3/envs/thesis/lib/python3.6/multiprocessing/queues.py\", line 240, in _feed\n",
      "    send_bytes(obj)\n",
      "  File \"/Users/stathis/anaconda3/envs/thesis/lib/python3.6/multiprocessing/connection.py\", line 200, in send_bytes\n",
      "    self._send_bytes(m[offset:offset + size])\n",
      "  File \"/Users/stathis/anaconda3/envs/thesis/lib/python3.6/multiprocessing/connection.py\", line 404, in _send_bytes\n",
      "    self._send(header + buf)\n",
      "  File \"/Users/stathis/anaconda3/envs/thesis/lib/python3.6/multiprocessing/connection.py\", line 368, in _send\n",
      "    n = write(self._handle, buf)\n",
      "BrokenPipeError: [Errno 32] Broken pipe\n",
      "Traceback (most recent call last):\n",
      "  File \"/Users/stathis/anaconda3/envs/thesis/lib/python3.6/multiprocessing/queues.py\", line 240, in _feed\n",
      "    send_bytes(obj)\n",
      "  File \"/Users/stathis/anaconda3/envs/thesis/lib/python3.6/multiprocessing/connection.py\", line 200, in send_bytes\n",
      "    self._send_bytes(m[offset:offset + size])\n",
      "  File \"/Users/stathis/anaconda3/envs/thesis/lib/python3.6/multiprocessing/connection.py\", line 404, in _send_bytes\n",
      "    self._send(header + buf)\n",
      "  File \"/Users/stathis/anaconda3/envs/thesis/lib/python3.6/multiprocessing/connection.py\", line 368, in _send\n",
      "    n = write(self._handle, buf)\n",
      "BrokenPipeError: [Errno 32] Broken pipe\n"
     ]
    },
    {
     "ename": "KeyboardInterrupt",
     "evalue": "",
     "output_type": "error",
     "traceback": [
      "\u001b[0;31m---------------------------------------------------------------------------\u001b[0m",
      "\u001b[0;31mKeyboardInterrupt\u001b[0m                         Traceback (most recent call last)",
      "\u001b[0;32m<ipython-input-21-13b37e2c3f1c>\u001b[0m in \u001b[0;36m<module>\u001b[0;34m\u001b[0m\n\u001b[1;32m     25\u001b[0m                 \u001b[0mplot_predictions\u001b[0m\u001b[0;34m(\u001b[0m\u001b[0;34m)\u001b[0m\u001b[0;34m\u001b[0m\u001b[0;34m\u001b[0m\u001b[0m\n\u001b[1;32m     26\u001b[0m         \u001b[0mloss\u001b[0m \u001b[0;34m=\u001b[0m \u001b[0mF\u001b[0m\u001b[0;34m.\u001b[0m\u001b[0mmse_loss\u001b[0m\u001b[0;34m(\u001b[0m\u001b[0moutput_frames\u001b[0m\u001b[0;34m,\u001b[0m \u001b[0mtarget\u001b[0m\u001b[0;34m)\u001b[0m\u001b[0;34m\u001b[0m\u001b[0;34m\u001b[0m\u001b[0m\n\u001b[0;32m---> 27\u001b[0;31m         \u001b[0mloss\u001b[0m\u001b[0;34m.\u001b[0m\u001b[0mbackward\u001b[0m\u001b[0;34m(\u001b[0m\u001b[0;34m)\u001b[0m\u001b[0;34m\u001b[0m\u001b[0;34m\u001b[0m\u001b[0m\n\u001b[0m\u001b[1;32m     28\u001b[0m         \u001b[0mlr_scheduler\u001b[0m\u001b[0;34m.\u001b[0m\u001b[0moptimizer\u001b[0m\u001b[0;34m.\u001b[0m\u001b[0mstep\u001b[0m\u001b[0;34m(\u001b[0m\u001b[0;34m)\u001b[0m\u001b[0;34m\u001b[0m\u001b[0;34m\u001b[0m\u001b[0m\n\u001b[1;32m     29\u001b[0m         \u001b[0mmean_batch_loss\u001b[0m \u001b[0;34m+=\u001b[0m \u001b[0mloss\u001b[0m\u001b[0;34m.\u001b[0m\u001b[0mitem\u001b[0m\u001b[0;34m(\u001b[0m\u001b[0;34m)\u001b[0m\u001b[0;34m\u001b[0m\u001b[0;34m\u001b[0m\u001b[0m\n",
      "\u001b[0;32m~/anaconda3/envs/thesis/lib/python3.6/site-packages/torch/tensor.py\u001b[0m in \u001b[0;36mbackward\u001b[0;34m(self, gradient, retain_graph, create_graph)\u001b[0m\n\u001b[1;32m    105\u001b[0m                 \u001b[0mproducts\u001b[0m\u001b[0;34m.\u001b[0m \u001b[0mDefaults\u001b[0m \u001b[0mto\u001b[0m\u001b[0;31m \u001b[0m\u001b[0;31m`\u001b[0m\u001b[0;31m`\u001b[0m\u001b[0;32mFalse\u001b[0m\u001b[0;31m`\u001b[0m\u001b[0;31m`\u001b[0m\u001b[0;34m.\u001b[0m\u001b[0;34m\u001b[0m\u001b[0;34m\u001b[0m\u001b[0m\n\u001b[1;32m    106\u001b[0m         \"\"\"\n\u001b[0;32m--> 107\u001b[0;31m         \u001b[0mtorch\u001b[0m\u001b[0;34m.\u001b[0m\u001b[0mautograd\u001b[0m\u001b[0;34m.\u001b[0m\u001b[0mbackward\u001b[0m\u001b[0;34m(\u001b[0m\u001b[0mself\u001b[0m\u001b[0;34m,\u001b[0m \u001b[0mgradient\u001b[0m\u001b[0;34m,\u001b[0m \u001b[0mretain_graph\u001b[0m\u001b[0;34m,\u001b[0m \u001b[0mcreate_graph\u001b[0m\u001b[0;34m)\u001b[0m\u001b[0;34m\u001b[0m\u001b[0;34m\u001b[0m\u001b[0m\n\u001b[0m\u001b[1;32m    108\u001b[0m \u001b[0;34m\u001b[0m\u001b[0m\n\u001b[1;32m    109\u001b[0m     \u001b[0;32mdef\u001b[0m \u001b[0mregister_hook\u001b[0m\u001b[0;34m(\u001b[0m\u001b[0mself\u001b[0m\u001b[0;34m,\u001b[0m \u001b[0mhook\u001b[0m\u001b[0;34m)\u001b[0m\u001b[0;34m:\u001b[0m\u001b[0;34m\u001b[0m\u001b[0;34m\u001b[0m\u001b[0m\n",
      "\u001b[0;32m~/anaconda3/envs/thesis/lib/python3.6/site-packages/torch/autograd/__init__.py\u001b[0m in \u001b[0;36mbackward\u001b[0;34m(tensors, grad_tensors, retain_graph, create_graph, grad_variables)\u001b[0m\n\u001b[1;32m     91\u001b[0m     Variable._execution_engine.run_backward(\n\u001b[1;32m     92\u001b[0m         \u001b[0mtensors\u001b[0m\u001b[0;34m,\u001b[0m \u001b[0mgrad_tensors\u001b[0m\u001b[0;34m,\u001b[0m \u001b[0mretain_graph\u001b[0m\u001b[0;34m,\u001b[0m \u001b[0mcreate_graph\u001b[0m\u001b[0;34m,\u001b[0m\u001b[0;34m\u001b[0m\u001b[0;34m\u001b[0m\u001b[0m\n\u001b[0;32m---> 93\u001b[0;31m         allow_unreachable=True)  # allow_unreachable flag\n\u001b[0m\u001b[1;32m     94\u001b[0m \u001b[0;34m\u001b[0m\u001b[0m\n\u001b[1;32m     95\u001b[0m \u001b[0;34m\u001b[0m\u001b[0m\n",
      "\u001b[0;31mKeyboardInterrupt\u001b[0m: "
     ]
    }
   ],
   "source": [
    "epoch=1\n",
    "plot=False\n",
    "# def train_epoch(model, epoch, train_dataloader, val_dataloader, num_input_frames, num_output_frames, channels, device, plot=False,):\n",
    "training = True\n",
    "model.train()           # initialises training stage/functions\n",
    "mean_loss = 0\n",
    "logging.info('Training: Ready to load batches')\n",
    "for batch_num, batch in enumerate(train_dataloader):\n",
    "    batch_start = time.time()\n",
    "    # logging.info('Batch: %d loaded in %.3f' %(batch_num, batch_time))\n",
    "    mean_batch_loss = 0\n",
    "    random_starting_points = random.sample(range(100 - num_input_frames - (2 * num_output_frames) - 1), 10)\n",
    "    image_series = batch[\"image\"]\n",
    "    for i, starting_point in enumerate(random_starting_points):\n",
    "        model.reset_hidden(batch_size=image_series.size()[0], training=True)\n",
    "        lr_scheduler.optimizer.zero_grad()\n",
    "        for n in range(2 * num_output_frames):\n",
    "            if n == 0:\n",
    "                output_frames, target = initial_input(model, image_series, starting_point, num_input_frames, channels, device, training=training)\n",
    "            elif n == num_output_frames:\n",
    "                output_frames, target = new_input(model, image_series, starting_point, num_input_frames, num_output_frames, output_frames, target, channels, device, training=training)\n",
    "            else:\n",
    "                output_frames, target = consequent_propagation(model, image_series, starting_point, n, output_frames, target, channels, device, training=training)\n",
    "            if plot:\n",
    "                plot_predictions()\n",
    "        loss = F.mse_loss(output_frames, target)\n",
    "        loss.backward()\n",
    "        lr_scheduler.optimizer.step()\n",
    "        mean_batch_loss += loss.item()\n",
    "        break\n",
    "        \n",
    "    analyser.save_loss_batchwise(mean_batch_loss / (i + 1), batch_increment=1)\n",
    "    mean_loss += loss.item()\n",
    "\n",
    "    batch_time = time.time() - batch_start\n",
    "    logging.info(\"Train Epoch: {} [{}/{} ({:.0f}%)]\\tLoss: {:.6f}\\tTime {:.2f}\".format(epoch, batch_num + 1,\n",
    "               len(train_dataloader), 100. * (batch_num + 1) / len(train_dataloader), loss.item(), batch_time ) )        \n",
    "\n",
    "    if batch_num > 3:\n",
    "        print('break')\n",
    "        break\n",
    "        \n",
    "analyser.save_loss(mean_loss / (batch_num + 1), 1)\n",
    "# val_start = time.time()\n",
    "# validation_loss = validate(model, val_dataloader, num_input_frames, num_output_frames, channels, device, plot=False)\n",
    "# analyser.save_validation_loss(validation_loss, 1)\n",
    "# val_time = time.time() - val_start\n",
    "# logging.info('Validation loss: %.6f\\tTime: %.3f' % (validation_loss, val_time))"
   ]
  },
  {
   "cell_type": "code",
   "execution_count": 22,
   "metadata": {},
   "outputs": [
    {
     "ename": "NameError",
     "evalue": "name 'Type_Network' is not defined",
     "output_type": "error",
     "traceback": [
      "\u001b[0;31m---------------------------------------------------------------------------\u001b[0m",
      "\u001b[0;31mNameError\u001b[0m                                 Traceback (most recent call last)",
      "\u001b[0;32m<ipython-input-22-fe012399cba8>\u001b[0m in \u001b[0;36m<module>\u001b[0;34m\u001b[0m\n\u001b[0;32m----> 1\u001b[0;31m \u001b[0manalyser\u001b[0m\u001b[0;34m.\u001b[0m\u001b[0mplot_accuracy\u001b[0m\u001b[0;34m(\u001b[0m\u001b[0;34m)\u001b[0m\u001b[0;34m\u001b[0m\u001b[0;34m\u001b[0m\u001b[0m\n\u001b[0m",
      "\u001b[0;32m~/Code/thesis/wave_propagation/utils/Analyser.py\u001b[0m in \u001b[0;36mplot_accuracy\u001b[0;34m(self)\u001b[0m\n\u001b[1;32m     72\u001b[0m         sns.lineplot(x=\"Epoch\", y=\"Accuracy\",\n\u001b[1;32m     73\u001b[0m                      data=pd.DataFrame.from_dict(data), ax=fig)\n\u001b[0;32m---> 74\u001b[0;31m         \u001b[0mfigure_save\u001b[0m\u001b[0;34m(\u001b[0m\u001b[0mself\u001b[0m\u001b[0;34m.\u001b[0m\u001b[0mmaindir1\u001b[0m \u001b[0;34m+\u001b[0m \u001b[0;34m\"Accuracy\"\u001b[0m \u001b[0;34m+\u001b[0m \u001b[0mType_Network\u001b[0m \u001b[0;34m+\u001b[0m \u001b[0;34m\"_Project_v%03d\"\u001b[0m \u001b[0;34m%\u001b[0m \u001b[0mversion\u001b[0m\u001b[0;34m,\u001b[0m \u001b[0mobj\u001b[0m\u001b[0;34m=\u001b[0m\u001b[0mfig\u001b[0m\u001b[0;34m)\u001b[0m\u001b[0;34m\u001b[0m\u001b[0;34m\u001b[0m\u001b[0m\n\u001b[0m\u001b[1;32m     75\u001b[0m         \u001b[0mplt\u001b[0m\u001b[0;34m.\u001b[0m\u001b[0mshow\u001b[0m\u001b[0;34m(\u001b[0m\u001b[0;34m)\u001b[0m\u001b[0;34m\u001b[0m\u001b[0;34m\u001b[0m\u001b[0m\n\u001b[1;32m     76\u001b[0m \u001b[0;34m\u001b[0m\u001b[0m\n",
      "\u001b[0;31mNameError\u001b[0m: name 'Type_Network' is not defined"
     ]
    },
    {
     "data": {
      "image/png": "[encoded data removed]",
      "text/plain": [
       "<Figure size 432x288 with 1 Axes>"
      ]
     },
     "metadata": {},
     "output_type": "display_data"
    }
   ],
   "source": [
    "analyser.plot_accuracy()"
   ]
  },
  {
   "cell_type": "code",
   "execution_count": null,
   "metadata": {},
   "outputs": [],
   "source": []
  }
 ],
 "metadata": {
  "kernelspec": {
   "display_name": "Python 3",
   "language": "python",
   "name": "python3"
  }
 },
 "nbformat": 4,
 "nbformat_minor": 2
}
