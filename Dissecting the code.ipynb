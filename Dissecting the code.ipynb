{
 "cells": [
  {
   "cell_type": "code",
   "execution_count": 16,
   "metadata": {},
   "outputs": [],
   "source": [
    "from __future__ import print_function\n",
    "import logging\n",
    "import numpy as np\n",
    "import matplotlib.pyplot as plt\n",
    "import torch\n",
    "from torchvision import transforms\n",
    "import torch.nn.functional as F\n",
    "from PIL import Image\n",
    "import torch.optim as optim\n",
    "import os\n",
    "from os import listdir\n",
    "import random\n",
    "import copy\n",
    "from torch.utils.data import DataLoader\n",
    "from skimage import measure #supports video also\n",
    "import pickle\n",
    "from scipy.spatial import distance\n",
    "import time\n",
    "import platform\n",
    "\n",
    "from utils.Network import Network\n",
    "from utils.Analyser import Analyser\n",
    "from utils.io import save_network, save, load, figure_save, load_network, make_folder_results, imshow\n",
    "from utils.format import hex_str2bool\n",
    "from utils.WaveDataset import Create_Datasets\n",
    "\n",
    "transformVar = {\"Test\": transforms.Compose([\n",
    "    transforms.Resize(128),    #Already 184 x 184\n",
    "    transforms.CenterCrop(128),\n",
    "    transforms.ToTensor(),\n",
    "#     normalize\n",
    "]),\n",
    "    \"Train\": transforms.Compose([\n",
    "    transforms.Resize(128),  # Already 184 x 184\n",
    "    transforms.CenterCrop(128),\n",
    "    transforms.RandomHorizontalFlip(),\n",
    "    transforms.RandomVerticalFlip(),\n",
    "    transforms.ToTensor(),\n",
    "#     normalize\n",
    "    ])\n",
    "}"
   ]
  },
  {
   "cell_type": "code",
   "execution_count": 17,
   "metadata": {},
   "outputs": [
    {
     "name": "stderr",
     "output_type": "stream",
     "text": [
      "Loading datasets\n"
     ]
    }
   ],
   "source": [
    "logging.basicConfig(format='%(message)s',level=logging.INFO)\n",
    "channels=1\n",
    "device = torch.device('cuda' if torch.cuda.is_available() else 'cpu')\n",
    "\n",
    "nr_net = 0 \n",
    "\n",
    "version = nr_net + 10\n",
    "num_input_frames = 5\n",
    "num_output_frames = 10\n",
    "network_type = \"7_kernel_3LSTM\"\n",
    "\n",
    "if 'Darwin' in platform.system():\n",
    "    data_dir = './'\n",
    "else:\n",
    "    data_dir = '/disk/scratch/s1680171/wave_propagation/'\n",
    "\n",
    "if not os.path.isdir(\"./Results\"):\n",
    "    os.mkdir(\"./Results\")\n",
    "results_dir = \"./Results/\" + network_type + \"_v%03d/\" % version\n",
    "\n",
    "if not os.path.isdir(results_dir):\n",
    "    make_folder_results(results_dir)\n",
    "    \n",
    "# Data\n",
    "filename_data = results_dir + \"all_data.pickle\"\n",
    "if os.path.isfile(filename_data):\n",
    "    logging.info('Loading datasets')\n",
    "    all_data = load(filename_data)\n",
    "    train_dataset = all_data[\"Training data\"]\n",
    "    val_dataset = all_data[\"Validation data\"]\n",
    "    test_dataset = all_data[\"Testing data\"]\n",
    "else:\n",
    "    logging.info('Creating new datasets')\n",
    "    test_dataset, val_dataset, train_dataset = Create_Datasets(\n",
    "         data_dir+\"Video_Data/\", transformVar, test_fraction=0.15, validation_fraction=0.15, check_bad_data=False, channels=channels)\n",
    "    all_data = {\"Training data\": train_dataset, \"Validation data\": val_dataset, \"Testing data\": test_dataset}\n",
    "    save(all_data, filename_data)\n",
    "    \n",
    "train_dataloader = DataLoader(train_dataset, batch_size=16, shuffle=True, num_workers=12)\n",
    "val_dataloader = DataLoader(val_dataset, batch_size=16, shuffle=True, num_workers=12)\n",
    "test_dataloader = DataLoader(test_dataset, batch_size=16, shuffle=True, num_workers=12)"
   ]
  },
  {
   "cell_type": "code",
   "execution_count": 18,
   "metadata": {},
   "outputs": [
    {
     "data": {
      "text/plain": [
       "'./Video_Data/'"
      ]
     },
     "execution_count": 18,
     "metadata": {},
     "output_type": "execute_result"
    }
   ],
   "source": [
    "test_dataset.root_dir"
   ]
  },
  {
   "cell_type": "code",
   "execution_count": 19,
   "metadata": {},
   "outputs": [],
   "source": [
    "model = Network(device, channels)\n",
    "load_network(model, device, \"Results/7_kernel_3LSTM_v010/model.pt\")"
   ]
  },
  {
   "cell_type": "code",
   "execution_count": 20,
   "metadata": {},
   "outputs": [],
   "source": [
    "### COMMON FUNCTIONS TRAIN/VAL/TEST\n",
    "def initial_input(model, image_series, starting_point, num_input_frames, channels, device, training):\n",
    "    \"\"\"\n",
    "    var           size\n",
    "    image_series  [16, 100, 128, 128]\n",
    "    input_frames  [16, 5, 128, 128]\n",
    "    output_frame  [16, 1, 128, 128]\n",
    "    target_frame  [16, 1, 128, 128]\n",
    "    \"\"\"\n",
    "    input_frames = image_series[:, starting_point * channels:(starting_point + num_input_frames) * channels, :, :].to(device)\n",
    "    output_frame = model(input_frames, mode='initial_input', training=training)\n",
    "    index = starting_point + num_input_frames\n",
    "    target_frame = image_series[:, index * channels:(index + 1) * channels, :, :].to(device)\n",
    "    return output_frame, target_frame\n",
    "\n",
    "def reinsert(model, image_series, starting_point, num_input_frames, num_output_frames, output_frame, target_frame, channels, device, training):\n",
    "    output_frame = torch.cat((output_frame, model(output_frame[:, -num_input_frames * channels:, :, :].clone(), mode=\"reinsert\", training=training)), dim=1)\n",
    "    index = starting_point + num_output_frames + num_input_frames\n",
    "    target_frame = torch.cat((target_frame, image_series[:, index * channels:(index + 1) * channels, :, :].to(device)), dim=1)\n",
    "    return output_frame, target_frame\n",
    "\n",
    "def propagate(model, image_series, starting_point, num_input_frames, n, output_frame, target_frame, channels, device, training):\n",
    "    output_frame = torch.cat((output_frame, model(torch.Tensor([0]), mode=\"propagate\", training=training)), dim=1)\n",
    "    index = starting_point + n + num_input_frames\n",
    "    target_frame = torch.cat((target_frame, image_series[:, index * channels:(index + 1) * channels, :, :].to(device)), dim=1)\n",
    "    return output_frame, target_frame\n",
    "\n",
    "def plot_predictions(output_frame, target_frame, channels):\n",
    "    predicted = output_frame[i, -channels:, :, :].cpu().detach()\n",
    "    des_target_frame = target_frame[i, -channels:, :, :].cpu().detach()\n",
    "    fig = plt.figure()\n",
    "    pred = fig.add_subplot(1, 2, 1)\n",
    "    imshow(predicted, title=\"Predicted smoothened %02d\" % n, smoothen=True, obj=pred)\n",
    "    tar = fig.add_subplot(1, 2, 2)\n",
    "    imshow(des_target_frame, title=\"Target %02d\" % n, obj=tar)\n",
    "    plt.show()"
   ]
  },
  {
   "cell_type": "code",
   "execution_count": 21,
   "metadata": {
    "scrolled": false
   },
   "outputs": [
    {
     "name": "stdout",
     "output_type": "stream",
     "text": [
      "batch  0\n",
      "\n",
      "i=0 starting_point=33\n",
      "initial_input n=0\n"
     ]
    },
    {
     "data": {
      "image/png": "[encoded data removed]",
      "text/plain": [
       "<Figure size 432x288 with 2 Axes>"
      ]
     },
     "metadata": {
      "needs_background": "light"
     },
     "output_type": "display_data"
    },
    {
     "name": "stdout",
     "output_type": "stream",
     "text": [
      "consequent_propagation n=1\n",
      "consequent_propagation n=2\n",
      "consequent_propagation n=3\n",
      "consequent_propagation n=4\n",
      "consequent_propagation n=5\n",
      "consequent_propagation n=6\n",
      "consequent_propagation n=7\n",
      "consequent_propagation n=8\n",
      "consequent_propagation n=9\n",
      "new_input n=10\n",
      "consequent_propagation n=11\n",
      "consequent_propagation n=12\n",
      "consequent_propagation n=13\n",
      "consequent_propagation n=14\n",
      "consequent_propagation n=15\n",
      "consequent_propagation n=16\n",
      "consequent_propagation n=17\n",
      "consequent_propagation n=18\n",
      "consequent_propagation n=19\n",
      "\n",
      "i=1 starting_point=3\n",
      "initial_input n=0\n",
      "consequent_propagation n=1\n",
      "consequent_propagation n=2\n",
      "consequent_propagation n=3\n",
      "consequent_propagation n=4\n",
      "consequent_propagation n=5\n",
      "consequent_propagation n=6\n",
      "consequent_propagation n=7\n",
      "consequent_propagation n=8\n",
      "consequent_propagation n=9\n",
      "new_input n=10\n",
      "consequent_propagation n=11\n",
      "consequent_propagation n=12\n",
      "consequent_propagation n=13\n",
      "consequent_propagation n=14\n",
      "consequent_propagation n=15\n",
      "consequent_propagation n=16\n",
      "consequent_propagation n=17\n",
      "consequent_propagation n=18\n",
      "consequent_propagation n=19\n",
      "\n",
      "i=2 starting_point=45\n",
      "initial_input n=0\n",
      "consequent_propagation n=1\n",
      "consequent_propagation n=2\n",
      "consequent_propagation n=3\n",
      "consequent_propagation n=4\n",
      "consequent_propagation n=5\n",
      "consequent_propagation n=6\n",
      "consequent_propagation n=7\n",
      "consequent_propagation n=8\n",
      "consequent_propagation n=9\n",
      "new_input n=10\n",
      "consequent_propagation n=11\n",
      "consequent_propagation n=12\n",
      "consequent_propagation n=13\n",
      "consequent_propagation n=14\n",
      "consequent_propagation n=15\n",
      "consequent_propagation n=16\n",
      "consequent_propagation n=17\n",
      "consequent_propagation n=18\n",
      "consequent_propagation n=19\n",
      "\n",
      "i=3 starting_point=53\n",
      "initial_input n=0\n",
      "consequent_propagation n=1\n",
      "consequent_propagation n=2\n",
      "consequent_propagation n=3\n",
      "consequent_propagation n=4\n",
      "consequent_propagation n=5\n",
      "consequent_propagation n=6\n",
      "consequent_propagation n=7\n",
      "consequent_propagation n=8\n",
      "consequent_propagation n=9\n",
      "new_input n=10\n",
      "consequent_propagation n=11\n",
      "consequent_propagation n=12\n",
      "consequent_propagation n=13\n",
      "consequent_propagation n=14\n",
      "consequent_propagation n=15\n",
      "consequent_propagation n=16\n",
      "consequent_propagation n=17\n",
      "consequent_propagation n=18\n",
      "consequent_propagation n=19\n",
      "\n",
      "i=4 starting_point=54\n",
      "initial_input n=0\n",
      "consequent_propagation n=1\n",
      "consequent_propagation n=2\n",
      "consequent_propagation n=3\n",
      "consequent_propagation n=4\n",
      "consequent_propagation n=5\n",
      "consequent_propagation n=6\n",
      "consequent_propagation n=7\n",
      "consequent_propagation n=8\n",
      "consequent_propagation n=9\n",
      "new_input n=10\n",
      "consequent_propagation n=11\n",
      "consequent_propagation n=12\n",
      "consequent_propagation n=13\n",
      "consequent_propagation n=14\n",
      "consequent_propagation n=15\n",
      "consequent_propagation n=16\n",
      "consequent_propagation n=17\n",
      "consequent_propagation n=18\n",
      "consequent_propagation n=19\n",
      "\n",
      "i=5 starting_point=29\n",
      "initial_input n=0\n",
      "consequent_propagation n=1\n",
      "consequent_propagation n=2\n",
      "consequent_propagation n=3\n",
      "consequent_propagation n=4\n",
      "consequent_propagation n=5\n",
      "consequent_propagation n=6\n",
      "consequent_propagation n=7\n",
      "consequent_propagation n=8\n",
      "consequent_propagation n=9\n",
      "new_input n=10\n",
      "consequent_propagation n=11\n",
      "consequent_propagation n=12\n",
      "consequent_propagation n=13\n",
      "consequent_propagation n=14\n",
      "consequent_propagation n=15\n",
      "consequent_propagation n=16\n",
      "consequent_propagation n=17\n",
      "consequent_propagation n=18\n",
      "consequent_propagation n=19\n",
      "\n",
      "i=6 starting_point=18\n",
      "initial_input n=0\n",
      "consequent_propagation n=1\n",
      "consequent_propagation n=2\n",
      "consequent_propagation n=3\n",
      "consequent_propagation n=4\n",
      "consequent_propagation n=5\n",
      "consequent_propagation n=6\n",
      "consequent_propagation n=7\n",
      "consequent_propagation n=8\n",
      "consequent_propagation n=9\n",
      "new_input n=10\n",
      "consequent_propagation n=11\n",
      "consequent_propagation n=12\n",
      "consequent_propagation n=13\n",
      "consequent_propagation n=14\n",
      "consequent_propagation n=15\n",
      "consequent_propagation n=16\n",
      "consequent_propagation n=17\n",
      "consequent_propagation n=18\n",
      "consequent_propagation n=19\n",
      "\n",
      "i=7 starting_point=11\n",
      "initial_input n=0\n",
      "consequent_propagation n=1\n",
      "consequent_propagation n=2\n",
      "consequent_propagation n=3\n",
      "consequent_propagation n=4\n",
      "consequent_propagation n=5\n",
      "consequent_propagation n=6\n",
      "consequent_propagation n=7\n",
      "consequent_propagation n=8\n",
      "consequent_propagation n=9\n",
      "new_input n=10\n",
      "consequent_propagation n=11\n",
      "consequent_propagation n=12\n",
      "consequent_propagation n=13\n",
      "consequent_propagation n=14\n",
      "consequent_propagation n=15\n",
      "consequent_propagation n=16\n",
      "consequent_propagation n=17\n",
      "consequent_propagation n=18\n",
      "consequent_propagation n=19\n",
      "\n",
      "i=8 starting_point=1\n",
      "initial_input n=0\n",
      "consequent_propagation n=1\n",
      "consequent_propagation n=2\n",
      "consequent_propagation n=3\n",
      "consequent_propagation n=4\n",
      "consequent_propagation n=5\n",
      "consequent_propagation n=6\n",
      "consequent_propagation n=7\n",
      "consequent_propagation n=8\n",
      "consequent_propagation n=9\n",
      "new_input n=10\n",
      "consequent_propagation n=11\n",
      "consequent_propagation n=12\n",
      "consequent_propagation n=13\n",
      "consequent_propagation n=14\n",
      "consequent_propagation n=15\n",
      "consequent_propagation n=16\n",
      "consequent_propagation n=17\n",
      "consequent_propagation n=18\n",
      "consequent_propagation n=19\n",
      "\n",
      "i=9 starting_point=17\n",
      "initial_input n=0\n",
      "consequent_propagation n=1\n",
      "consequent_propagation n=2\n",
      "consequent_propagation n=3\n",
      "consequent_propagation n=4\n",
      "consequent_propagation n=5\n",
      "consequent_propagation n=6\n",
      "consequent_propagation n=7\n",
      "consequent_propagation n=8\n",
      "consequent_propagation n=9\n",
      "new_input n=10\n",
      "consequent_propagation n=11\n",
      "consequent_propagation n=12\n",
      "consequent_propagation n=13\n",
      "consequent_propagation n=14\n",
      "consequent_propagation n=15\n",
      "consequent_propagation n=16\n",
      "consequent_propagation n=17\n",
      "consequent_propagation n=18\n",
      "consequent_propagation n=19\n"
     ]
    }
   ],
   "source": [
    "debug=True\n",
    "plot = True\n",
    "training = False\n",
    "model.eval()\n",
    "overall_loss = 0\n",
    "for batch_num, batch in enumerate(val_dataloader):\n",
    "    print('batch ', batch_num)\n",
    "    random_starting_points = random.sample(range(100 - num_input_frames - (2 * num_output_frames) - 1), 10)\n",
    "    image_series = batch[\"image\"]\n",
    "    batch_loss = 0\n",
    "    for i, starting_point in enumerate(random_starting_points):\n",
    "        print('\\ni=%d starting_point=%d' % (i,starting_point))\n",
    "        model.reset_hidden(batch_size=image_series.size()[0], training=False)\n",
    "        for n in range(2 * num_output_frames):\n",
    "            if n == 0:\n",
    "                print('initial_input n=0')\n",
    "                output_frame, target_frame = initial_input(model, image_series, starting_point, num_input_frames, channels, device, training=training)\n",
    "            elif n == num_output_frames:\n",
    "                print('new_input n=%d' %n)\n",
    "                output_frame, target_frame = reinsert(model, image_series, starting_point, num_input_frames, num_output_frames, output_frame, target_frame, channels, device, training=training)\n",
    "            else:\n",
    "                print('consequent_propagation n=%d'% n)\n",
    "                output_frame, target_frame = propagate(model, image_series, starting_point, num_input_frames, n, output_frame, target_frame, channels, device, training=training)\n",
    "            if plot and (i == 0) and (n==0):\n",
    "                plot_predictions(output_frame, target_frame, channels)\n",
    "        batch_loss += F.mse_loss(output_frame, target_frame).item()\n",
    "    overall_loss += batch_loss / (i + 1)\n",
    "    if debug: break\n",
    "val_loss = overall_loss / (batch_num + 1)\n",
    "# return val_loss"
   ]
  },
  {
   "cell_type": "code",
   "execution_count": 23,
   "metadata": {},
   "outputs": [
    {
     "data": {
      "text/plain": [
       "torch.Size([16, 20, 128, 128])"
      ]
     },
     "execution_count": 23,
     "metadata": {},
     "output_type": "execute_result"
    }
   ],
   "source": [
    "output_frame.size()"
   ]
  },
  {
   "cell_type": "code",
   "execution_count": 25,
   "metadata": {},
   "outputs": [
    {
     "data": {
      "text/plain": [
       "torch.Size([16, 20, 128, 128])"
      ]
     },
     "execution_count": 25,
     "metadata": {},
     "output_type": "execute_result"
    }
   ],
   "source": [
    "target_frame.size()"
   ]
  },
  {
   "cell_type": "code",
   "execution_count": 27,
   "metadata": {},
   "outputs": [],
   "source": [
    "predicted = output_frame[i, -channels:, :, :].cpu().detach()"
   ]
  },
  {
   "cell_type": "code",
   "execution_count": 28,
   "metadata": {},
   "outputs": [
    {
     "data": {
      "text/plain": [
       "torch.Size([1, 128, 128])"
      ]
     },
     "execution_count": 28,
     "metadata": {},
     "output_type": "execute_result"
    }
   ],
   "source": [
    "predicted.size()"
   ]
  },
  {
   "cell_type": "code",
   "execution_count": 29,
   "metadata": {},
   "outputs": [
    {
     "data": {
      "text/plain": [
       "torch.Size([16, 100, 128, 128])"
      ]
     },
     "execution_count": 29,
     "metadata": {},
     "output_type": "execute_result"
    }
   ],
   "source": [
    "batch['image'].size()"
   ]
  },
  {
   "cell_type": "code",
   "execution_count": 33,
   "metadata": {},
   "outputs": [
    {
     "data": {
      "text/plain": [
       "5"
      ]
     },
     "execution_count": 33,
     "metadata": {},
     "output_type": "execute_result"
    }
   ],
   "source": [
    "num_input_frames"
   ]
  },
  {
   "cell_type": "code",
   "execution_count": 34,
   "metadata": {},
   "outputs": [],
   "source": [
    "# def initial_input(model, image_series, starting_point, num_input_frames, channels, device, training):\n",
    "n = 0\n",
    "input_frames = image_series[:, (starting_point + n) * channels:(starting_point + n + num_input_frames) * channels, :, :].to(device)\n",
    "output_frame = model(input_frames, training=training)\n",
    "index = starting_point + n + num_input_frames\n",
    "target_frame = image_series[:, index * channels:(index + 1) * channels, :, :].to(device)"
   ]
  },
  {
   "cell_type": "code",
   "execution_count": 35,
   "metadata": {},
   "outputs": [
    {
     "data": {
      "text/plain": [
       "torch.Size([16, 5, 128, 128])"
      ]
     },
     "execution_count": 35,
     "metadata": {},
     "output_type": "execute_result"
    }
   ],
   "source": [
    "input_frames.size()"
   ]
  },
  {
   "cell_type": "code",
   "execution_count": 36,
   "metadata": {},
   "outputs": [
    {
     "data": {
      "text/plain": [
       "torch.Size([16, 100, 128, 128])"
      ]
     },
     "execution_count": 36,
     "metadata": {},
     "output_type": "execute_result"
    }
   ],
   "source": [
    "image_series.size()"
   ]
  },
  {
   "cell_type": "code",
   "execution_count": 37,
   "metadata": {},
   "outputs": [
    {
     "data": {
      "text/plain": [
       "torch.Size([16, 1, 128, 128])"
      ]
     },
     "execution_count": 37,
     "metadata": {},
     "output_type": "execute_result"
    }
   ],
   "source": [
    "output_frame.size()"
   ]
  },
  {
   "cell_type": "code",
   "execution_count": 39,
   "metadata": {},
   "outputs": [
    {
     "data": {
      "text/plain": [
       "torch.Size([16, 1, 128, 128])"
      ]
     },
     "execution_count": 39,
     "metadata": {},
     "output_type": "execute_result"
    }
   ],
   "source": [
    "target_frame.size()"
   ]
  },
  {
   "cell_type": "code",
   "execution_count": 40,
   "metadata": {},
   "outputs": [],
   "source": [
    "# def reinsert(model, image_series, starting_point, num_input_frames, num_output_frames, output_frame, target_frame, channels, device, training):\n",
    "output_frame = torch.cat((output_frame, model(output_frame[:, -num_input_frames * channels:, :, :].clone(), mode=\"reinserting\", training=training)), dim=1)\n",
    "index = starting_point + num_output_frames + num_input_frames\n",
    "target_frame = torch.cat((target_frame, image_series[:, index * channels:(index + 1) * channels, :, :].to(device)), dim=1)"
   ]
  },
  {
   "cell_type": "code",
   "execution_count": 41,
   "metadata": {},
   "outputs": [
    {
     "data": {
      "text/plain": [
       "torch.Size([16, 2, 128, 128])"
      ]
     },
     "execution_count": 41,
     "metadata": {},
     "output_type": "execute_result"
    }
   ],
   "source": [
    "output_frame.size()"
   ]
  },
  {
   "cell_type": "code",
   "execution_count": 42,
   "metadata": {},
   "outputs": [
    {
     "data": {
      "text/plain": [
       "torch.Size([16, 2, 128, 128])"
      ]
     },
     "execution_count": 42,
     "metadata": {},
     "output_type": "execute_result"
    }
   ],
   "source": [
    "target_frame.size()"
   ]
  },
  {
   "cell_type": "code",
   "execution_count": 43,
   "metadata": {},
   "outputs": [
    {
     "data": {
      "text/plain": [
       "<matplotlib.image.AxesImage at 0x1c3e8c6a90>"
      ]
     },
     "execution_count": 43,
     "metadata": {},
     "output_type": "execute_result"
    },
    {
     "data": {
      "image/png": "[encoded data removed]",
      "text/plain": [
       "<Figure size 432x288 with 1 Axes>"
      ]
     },
     "metadata": {
      "needs_background": "light"
     },
     "output_type": "display_data"
    }
   ],
   "source": [
    "plt.imshow(output_frame[1,1,:,:],cmap='gray')"
   ]
  },
  {
   "cell_type": "code",
   "execution_count": 44,
   "metadata": {},
   "outputs": [
    {
     "data": {
      "text/plain": [
       "<matplotlib.image.AxesImage at 0x1c3e68ee10>"
      ]
     },
     "execution_count": 44,
     "metadata": {},
     "output_type": "execute_result"
    },
    {
     "data": {
      "image/png": "[encoded data removed]",
      "text/plain": [
       "<Figure size 432x288 with 1 Axes>"
      ]
     },
     "metadata": {
      "needs_background": "light"
     },
     "output_type": "display_data"
    }
   ],
   "source": [
    "plt.imshow(target_frame[1,0,:,:],cmap='gray')"
   ]
  },
  {
   "cell_type": "code",
   "execution_count": 45,
   "metadata": {},
   "outputs": [
    {
     "data": {
      "text/plain": [
       "<matplotlib.image.AxesImage at 0x1c3e920e10>"
      ]
     },
     "execution_count": 45,
     "metadata": {},
     "output_type": "execute_result"
    },
    {
     "data": {
      "image/png": "[encoded data removed]",
      "text/plain": [
       "<Figure size 432x288 with 1 Axes>"
      ]
     },
     "metadata": {
      "needs_background": "light"
     },
     "output_type": "display_data"
    }
   ],
   "source": [
    "plt.imshow(target_frame[1,1,:,:],cmap='gray')"
   ]
  },
  {
   "cell_type": "code",
   "execution_count": null,
   "metadata": {},
   "outputs": [],
   "source": []
  },
  {
   "cell_type": "code",
   "execution_count": null,
   "metadata": {},
   "outputs": [],
   "source": []
  }
 ],
 "metadata": {
  "kernelspec": {
   "display_name": "Python 3",
   "language": "python",
   "name": "python3"
  },
  "language_info": {
   "codemirror_mode": {
    "name": "ipython",
    "version": 3
   },
   "file_extension": ".py",
   "mimetype": "text/x-python",
   "name": "python",
   "nbconvert_exporter": "python",
   "pygments_lexer": "ipython3",
   "version": "3.6.8"
  }
 },
 "nbformat": 4,
 "nbformat_minor": 2
}
